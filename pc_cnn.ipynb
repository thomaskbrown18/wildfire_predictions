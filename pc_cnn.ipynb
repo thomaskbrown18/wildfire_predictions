{
 "cells": [
  {
   "cell_type": "markdown",
   "metadata": {},
   "source": [
    "# Finding Sites at Risk of Wildfire with Convolutional Neural Networks"
   ]
  },
  {
   "cell_type": "markdown",
   "metadata": {},
   "source": [
    "__Project Description:__ <br>\n",
    "This notebook contains exploratory data analysis and the convolutional neural network model used to predict whether or not a location is susceptible to wildfires.  The data for this exploration consists of roughly 20,000 labeled satellite images. 10,000 of the images are locations which have experienced wildfires, while the other 10,000 have never seen a wildfire before.  The data collection process can be observed in the data collection notebook.  In that notebook, I use the DNR list of wildfire sites and Google Maps API to collect the tens of thousands of images of both wildfire and non-wildfire areas."
   ]
  },
  {
   "cell_type": "markdown",
   "metadata": {},
   "source": [
    "While I was unable to collect satellite imagery of the site a few days before the fire, I believe this will suffice as a proof of concept, especially since areas that experience wildfires often experience them again.  Additionally, Google satellite imagery is around 3 years old on average, so many of the images were taken before recent fires."
   ]
  },
  {
   "cell_type": "markdown",
   "metadata": {},
   "source": [
    "Note: This notebook was created separately for the CNN alone in order to tune the network on a more powerful computer.  The other work was done on a mac with more of the standard data science packages installed."
   ]
  },
  {
   "cell_type": "markdown",
   "metadata": {},
   "source": [
    "# Importing Libraries:"
   ]
  },
  {
   "cell_type": "code",
   "execution_count": 1,
   "metadata": {},
   "outputs": [],
   "source": [
    "import os\n",
    "import shutil\n",
    "import pandas as pd\n",
    "import numpy as np"
   ]
  },
  {
   "cell_type": "code",
   "execution_count": 2,
   "metadata": {},
   "outputs": [],
   "source": [
    "import requests\n",
    "import random\n",
    "from IPython.display import Image, display"
   ]
  },
  {
   "cell_type": "code",
   "execution_count": 3,
   "metadata": {},
   "outputs": [],
   "source": [
    "import urllib.request\n",
    "from pathlib import Path"
   ]
  },
  {
   "cell_type": "code",
   "execution_count": 4,
   "metadata": {},
   "outputs": [],
   "source": [
    "import keras\n",
    "from keras.models import Sequential\n",
    "from keras.layers import Dense, Conv2D , MaxPool2D , Flatten , Dropout , BatchNormalization\n",
    "from keras.preprocessing.image import ImageDataGenerator\n",
    "from sklearn.model_selection import train_test_split\n",
    "from sklearn.metrics import classification_report,confusion_matrix\n",
    "from keras.callbacks import ReduceLROnPlateau\n",
    "from keras.preprocessing.image import ImageDataGenerator, array_to_img, img_to_array, load_img\n",
    "from keras import models\n",
    "from keras import layers\n",
    "from keras import initializers\n",
    "\n",
    "from sklearn.metrics import precision_score, recall_score, confusion_matrix, classification_report, accuracy_score, f1_score"
   ]
  },
  {
   "cell_type": "code",
   "execution_count": 5,
   "metadata": {},
   "outputs": [],
   "source": [
    "import PIL\n",
    "from PIL import Image\n",
    "\n",
    "# Other\n",
    "import scipy\n",
    "from scipy import ndimage\n",
    "\n",
    "# Shows all columns\n",
    "pd.set_option('display.max_columns', None)\n",
    "\n",
    "# Turning off warnings\n",
    "import warnings\n",
    "warnings.filterwarnings('ignore')"
   ]
  },
  {
   "cell_type": "code",
   "execution_count": 79,
   "metadata": {},
   "outputs": [
    {
     "data": {
      "text/plain": [
       "'\\nimport plotly.express as px\\nimport scikitplot as skplt\\nimport folium \\n\\n'"
      ]
     },
     "execution_count": 79,
     "metadata": {},
     "output_type": "execute_result"
    }
   ],
   "source": [
    "import matplotlib.pyplot as plt\n",
    "from matplotlib import image\n",
    "%matplotlib inline\n",
    "\n",
    "# Leaving this alone for now\n",
    "\n",
    "# Plots and Graphs\n",
    "import seaborn as sns\n",
    "'''\n",
    "import plotly.express as px\n",
    "import scikitplot as skplt\n",
    "import folium \n",
    "\n",
    "'''"
   ]
  },
  {
   "cell_type": "markdown",
   "metadata": {},
   "source": [
    "# Importing Data:"
   ]
  },
  {
   "cell_type": "markdown",
   "metadata": {},
   "source": [
    "Source: Washington State DNR [link](https://geo.wa.gov/datasets/wadnr::dnr-fire-statistics-2008-present-1/data?geometry=-126.579%2C45.325%2C-111.143%2C47.964&orderBy=FIRE_RGE_WHOLE_NO&orderByAsc=false&selectedAttribute=ACRES_BURNED)"
   ]
  },
  {
   "cell_type": "code",
   "execution_count": 7,
   "metadata": {},
   "outputs": [
    {
     "data": {
      "text/html": [
       "<div>\n",
       "<style scoped>\n",
       "    .dataframe tbody tr th:only-of-type {\n",
       "        vertical-align: middle;\n",
       "    }\n",
       "\n",
       "    .dataframe tbody tr th {\n",
       "        vertical-align: top;\n",
       "    }\n",
       "\n",
       "    .dataframe thead th {\n",
       "        text-align: right;\n",
       "    }\n",
       "</style>\n",
       "<table border=\"1\" class=\"dataframe\">\n",
       "  <thead>\n",
       "    <tr style=\"text-align: right;\">\n",
       "      <th></th>\n",
       "      <th>X</th>\n",
       "      <th>Y</th>\n",
       "      <th>OBJECTID</th>\n",
       "      <th>FIREEVENT_ID</th>\n",
       "      <th>INCIDENT_NO</th>\n",
       "      <th>INCIDENT_NM</th>\n",
       "      <th>INCIDENT_ID</th>\n",
       "      <th>COUNTY_LABEL_NM</th>\n",
       "      <th>FIRE_TWP_WHOLE_NO</th>\n",
       "      <th>FIRE_TWP_FRACT_NO</th>\n",
       "      <th>FIRE_RGE_WHOLE_NO</th>\n",
       "      <th>FIRE_RGE_FRACT_NO</th>\n",
       "      <th>FIRE_RGE_DIR_FLG</th>\n",
       "      <th>FIRE_SECT_NO</th>\n",
       "      <th>SITE_ELEV</th>\n",
       "      <th>FIREGCAUSE_LABEL_NM</th>\n",
       "      <th>FIRESCAUSE_LABEL_NM</th>\n",
       "      <th>BURNESCAPE_RSN_LABEL_NM</th>\n",
       "      <th>ACRES_BURNED</th>\n",
       "      <th>START_DT</th>\n",
       "      <th>START_TM</th>\n",
       "      <th>DSCVR_DT</th>\n",
       "      <th>DSCVR_TM</th>\n",
       "      <th>CONTROL_DT</th>\n",
       "      <th>CONTROL_TM</th>\n",
       "      <th>FIRE_OUT_DT</th>\n",
       "      <th>FIRE_OUT_TM</th>\n",
       "      <th>BURN_MERCH_AREA</th>\n",
       "      <th>BURN_REPROD_AREA</th>\n",
       "      <th>BURN_NONSTOCK_AREA</th>\n",
       "      <th>FIREEVNT_CLASS_CD</th>\n",
       "      <th>FIREEVNT_CLASS_LABEL_NM</th>\n",
       "      <th>SECTION_SUBDIV_PTS_ID</th>\n",
       "      <th>LAT_COORD</th>\n",
       "      <th>LON_COORD</th>\n",
       "      <th>RES_ORDER_NO</th>\n",
       "      <th>NON_DNR_RES_ORDER_NO</th>\n",
       "      <th>START_OWNER_AGENCY_NM</th>\n",
       "      <th>START_JURISDICTION_AGENCY_NM</th>\n",
       "      <th>PROTECTION_TYPE</th>\n",
       "      <th>REGION_NAME</th>\n",
       "    </tr>\n",
       "  </thead>\n",
       "  <tbody>\n",
       "    <tr>\n",
       "      <th>0</th>\n",
       "      <td>-1.340519e+07</td>\n",
       "      <td>6.033916e+06</td>\n",
       "      <td>17296</td>\n",
       "      <td>41027</td>\n",
       "      <td>38</td>\n",
       "      <td>Nahahum</td>\n",
       "      <td>40170</td>\n",
       "      <td>CHELAN</td>\n",
       "      <td>24</td>\n",
       "      <td>0</td>\n",
       "      <td>19</td>\n",
       "      <td>0</td>\n",
       "      <td>E</td>\n",
       "      <td>23</td>\n",
       "      <td>1900.0</td>\n",
       "      <td>Under Invest</td>\n",
       "      <td>Under Invest</td>\n",
       "      <td>NaN</td>\n",
       "      <td>117.5</td>\n",
       "      <td>2015/05/31 08:00:00+00</td>\n",
       "      <td>1340</td>\n",
       "      <td>2015/05/31 00:00:00+00</td>\n",
       "      <td>1340.0</td>\n",
       "      <td>2015/06/01 00:00:00+00</td>\n",
       "      <td>1700.0</td>\n",
       "      <td>2015/06/08 00:00:00+00</td>\n",
       "      <td>1201.0</td>\n",
       "      <td>NaN</td>\n",
       "      <td>NaN</td>\n",
       "      <td>NaN</td>\n",
       "      <td>1</td>\n",
       "      <td>Classified</td>\n",
       "      <td>694112</td>\n",
       "      <td>47.55970</td>\n",
       "      <td>-120.420889</td>\n",
       "      <td>WA-SES-146</td>\n",
       "      <td>NaN</td>\n",
       "      <td>Private</td>\n",
       "      <td>DNR</td>\n",
       "      <td>DNR Protection FFPA</td>\n",
       "      <td>SOUTHEAST</td>\n",
       "    </tr>\n",
       "    <tr>\n",
       "      <th>1</th>\n",
       "      <td>-1.306374e+07</td>\n",
       "      <td>6.251882e+06</td>\n",
       "      <td>11762</td>\n",
       "      <td>63619</td>\n",
       "      <td>59</td>\n",
       "      <td>LIME LAKE ROAD</td>\n",
       "      <td>63512</td>\n",
       "      <td>PEND OREILLE</td>\n",
       "      <td>39</td>\n",
       "      <td>0</td>\n",
       "      <td>43</td>\n",
       "      <td>0</td>\n",
       "      <td>E</td>\n",
       "      <td>22</td>\n",
       "      <td>2500.0</td>\n",
       "      <td>Debris Burn</td>\n",
       "      <td>None</td>\n",
       "      <td>High Winds</td>\n",
       "      <td>2.5</td>\n",
       "      <td>2020/04/09 08:00:00+00</td>\n",
       "      <td>1330</td>\n",
       "      <td>1970/01/01 00:00:00+00</td>\n",
       "      <td>NaN</td>\n",
       "      <td>2020/04/10 00:00:00+00</td>\n",
       "      <td>1244.0</td>\n",
       "      <td>2020/04/10 00:00:00+00</td>\n",
       "      <td>1244.0</td>\n",
       "      <td>NaN</td>\n",
       "      <td>NaN</td>\n",
       "      <td>NaN</td>\n",
       "      <td>1</td>\n",
       "      <td>Classified</td>\n",
       "      <td>648258</td>\n",
       "      <td>48.86438</td>\n",
       "      <td>-117.353540</td>\n",
       "      <td>WA-NES-2020-1182</td>\n",
       "      <td>NaN</td>\n",
       "      <td>Private</td>\n",
       "      <td>DNR</td>\n",
       "      <td>DNR Protection FFPA</td>\n",
       "      <td>NORTHEAST</td>\n",
       "    </tr>\n",
       "    <tr>\n",
       "      <th>2</th>\n",
       "      <td>-1.306029e+07</td>\n",
       "      <td>6.061037e+06</td>\n",
       "      <td>5926</td>\n",
       "      <td>50880</td>\n",
       "      <td>131</td>\n",
       "      <td>BIG WILDING</td>\n",
       "      <td>50733</td>\n",
       "      <td>SPOKANE</td>\n",
       "      <td>26</td>\n",
       "      <td>0</td>\n",
       "      <td>43</td>\n",
       "      <td>0</td>\n",
       "      <td>E</td>\n",
       "      <td>25</td>\n",
       "      <td>2150.0</td>\n",
       "      <td>Undetermined</td>\n",
       "      <td>None</td>\n",
       "      <td>NaN</td>\n",
       "      <td>0.5</td>\n",
       "      <td>2017/07/08 08:00:00+00</td>\n",
       "      <td>1450</td>\n",
       "      <td>2017/07/08 00:00:00+00</td>\n",
       "      <td>1445.0</td>\n",
       "      <td>2017/07/08 00:00:00+00</td>\n",
       "      <td>1700.0</td>\n",
       "      <td>2017/07/13 00:00:00+00</td>\n",
       "      <td>1301.0</td>\n",
       "      <td>0.5</td>\n",
       "      <td>NaN</td>\n",
       "      <td>NaN</td>\n",
       "      <td>1</td>\n",
       "      <td>Classified</td>\n",
       "      <td>1086168</td>\n",
       "      <td>47.72386</td>\n",
       "      <td>-117.322570</td>\n",
       "      <td>WA-NES-1345</td>\n",
       "      <td>NaN</td>\n",
       "      <td>Private</td>\n",
       "      <td>DNR</td>\n",
       "      <td>DNR Protection FFPA</td>\n",
       "      <td>NORTHEAST</td>\n",
       "    </tr>\n",
       "    <tr>\n",
       "      <th>3</th>\n",
       "      <td>-1.361194e+07</td>\n",
       "      <td>5.732321e+06</td>\n",
       "      <td>16132</td>\n",
       "      <td>29155</td>\n",
       "      <td>64</td>\n",
       "      <td>SHOOTING RANGE</td>\n",
       "      <td>28839</td>\n",
       "      <td>CLARK</td>\n",
       "      <td>3</td>\n",
       "      <td>0</td>\n",
       "      <td>4</td>\n",
       "      <td>0</td>\n",
       "      <td>E</td>\n",
       "      <td>35</td>\n",
       "      <td>1500.0</td>\n",
       "      <td>Recreation</td>\n",
       "      <td>Other</td>\n",
       "      <td>NaN</td>\n",
       "      <td>0.1</td>\n",
       "      <td>2012/08/22 08:00:00+00</td>\n",
       "      <td>1352</td>\n",
       "      <td>2012/08/22 00:00:00+00</td>\n",
       "      <td>1352.0</td>\n",
       "      <td>2012/08/22 00:00:00+00</td>\n",
       "      <td>1513.0</td>\n",
       "      <td>2012/10/23 00:00:00+00</td>\n",
       "      <td>900.0</td>\n",
       "      <td>NaN</td>\n",
       "      <td>0.1</td>\n",
       "      <td>NaN</td>\n",
       "      <td>1</td>\n",
       "      <td>Classified</td>\n",
       "      <td>188056</td>\n",
       "      <td>45.69946</td>\n",
       "      <td>-122.278140</td>\n",
       "      <td>WA-PCS-0064</td>\n",
       "      <td>NaN</td>\n",
       "      <td>Private</td>\n",
       "      <td>DNR</td>\n",
       "      <td>DNR Protection FFPA</td>\n",
       "      <td>PACIFIC CASC</td>\n",
       "    </tr>\n",
       "    <tr>\n",
       "      <th>4</th>\n",
       "      <td>-1.328349e+07</td>\n",
       "      <td>6.239409e+06</td>\n",
       "      <td>1744</td>\n",
       "      <td>35362</td>\n",
       "      <td>6</td>\n",
       "      <td>ANTOINE</td>\n",
       "      <td>34125</td>\n",
       "      <td>OKANOGAN</td>\n",
       "      <td>38</td>\n",
       "      <td>0</td>\n",
       "      <td>28</td>\n",
       "      <td>0</td>\n",
       "      <td>E</td>\n",
       "      <td>17</td>\n",
       "      <td>2600.0</td>\n",
       "      <td>Debris Burn</td>\n",
       "      <td>None</td>\n",
       "      <td>High Winds</td>\n",
       "      <td>1.5</td>\n",
       "      <td>2014/03/26 08:00:00+00</td>\n",
       "      <td>1145</td>\n",
       "      <td>2014/03/26 00:00:00+00</td>\n",
       "      <td>1150.0</td>\n",
       "      <td>2014/03/26 00:00:00+00</td>\n",
       "      <td>2000.0</td>\n",
       "      <td>2014/04/03 00:00:00+00</td>\n",
       "      <td>930.0</td>\n",
       "      <td>1.5</td>\n",
       "      <td>NaN</td>\n",
       "      <td>NaN</td>\n",
       "      <td>1</td>\n",
       "      <td>Classified</td>\n",
       "      <td>761020</td>\n",
       "      <td>48.79060</td>\n",
       "      <td>-119.327640</td>\n",
       "      <td>NaN</td>\n",
       "      <td>NaN</td>\n",
       "      <td>Private</td>\n",
       "      <td>DNR</td>\n",
       "      <td>DNR Protection FFPA</td>\n",
       "      <td>NORTHEAST</td>\n",
       "    </tr>\n",
       "  </tbody>\n",
       "</table>\n",
       "</div>"
      ],
      "text/plain": [
       "              X             Y  OBJECTID  FIREEVENT_ID  INCIDENT_NO  \\\n",
       "0 -1.340519e+07  6.033916e+06     17296         41027           38   \n",
       "1 -1.306374e+07  6.251882e+06     11762         63619           59   \n",
       "2 -1.306029e+07  6.061037e+06      5926         50880          131   \n",
       "3 -1.361194e+07  5.732321e+06     16132         29155           64   \n",
       "4 -1.328349e+07  6.239409e+06      1744         35362            6   \n",
       "\n",
       "      INCIDENT_NM  INCIDENT_ID COUNTY_LABEL_NM  FIRE_TWP_WHOLE_NO  \\\n",
       "0         Nahahum        40170          CHELAN                 24   \n",
       "1  LIME LAKE ROAD        63512    PEND OREILLE                 39   \n",
       "2     BIG WILDING        50733         SPOKANE                 26   \n",
       "3  SHOOTING RANGE        28839           CLARK                  3   \n",
       "4         ANTOINE        34125        OKANOGAN                 38   \n",
       "\n",
       "   FIRE_TWP_FRACT_NO  FIRE_RGE_WHOLE_NO  FIRE_RGE_FRACT_NO FIRE_RGE_DIR_FLG  \\\n",
       "0                  0                 19                  0                E   \n",
       "1                  0                 43                  0                E   \n",
       "2                  0                 43                  0                E   \n",
       "3                  0                  4                  0                E   \n",
       "4                  0                 28                  0                E   \n",
       "\n",
       "   FIRE_SECT_NO  SITE_ELEV FIREGCAUSE_LABEL_NM FIRESCAUSE_LABEL_NM  \\\n",
       "0            23     1900.0        Under Invest        Under Invest   \n",
       "1            22     2500.0         Debris Burn                None   \n",
       "2            25     2150.0        Undetermined                None   \n",
       "3            35     1500.0          Recreation               Other   \n",
       "4            17     2600.0         Debris Burn                None   \n",
       "\n",
       "  BURNESCAPE_RSN_LABEL_NM  ACRES_BURNED                START_DT  START_TM  \\\n",
       "0                     NaN         117.5  2015/05/31 08:00:00+00      1340   \n",
       "1              High Winds           2.5  2020/04/09 08:00:00+00      1330   \n",
       "2                     NaN           0.5  2017/07/08 08:00:00+00      1450   \n",
       "3                     NaN           0.1  2012/08/22 08:00:00+00      1352   \n",
       "4              High Winds           1.5  2014/03/26 08:00:00+00      1145   \n",
       "\n",
       "                 DSCVR_DT  DSCVR_TM              CONTROL_DT  CONTROL_TM  \\\n",
       "0  2015/05/31 00:00:00+00    1340.0  2015/06/01 00:00:00+00      1700.0   \n",
       "1  1970/01/01 00:00:00+00       NaN  2020/04/10 00:00:00+00      1244.0   \n",
       "2  2017/07/08 00:00:00+00    1445.0  2017/07/08 00:00:00+00      1700.0   \n",
       "3  2012/08/22 00:00:00+00    1352.0  2012/08/22 00:00:00+00      1513.0   \n",
       "4  2014/03/26 00:00:00+00    1150.0  2014/03/26 00:00:00+00      2000.0   \n",
       "\n",
       "              FIRE_OUT_DT  FIRE_OUT_TM  BURN_MERCH_AREA  BURN_REPROD_AREA  \\\n",
       "0  2015/06/08 00:00:00+00       1201.0              NaN               NaN   \n",
       "1  2020/04/10 00:00:00+00       1244.0              NaN               NaN   \n",
       "2  2017/07/13 00:00:00+00       1301.0              0.5               NaN   \n",
       "3  2012/10/23 00:00:00+00        900.0              NaN               0.1   \n",
       "4  2014/04/03 00:00:00+00        930.0              1.5               NaN   \n",
       "\n",
       "   BURN_NONSTOCK_AREA  FIREEVNT_CLASS_CD FIREEVNT_CLASS_LABEL_NM  \\\n",
       "0                 NaN                  1              Classified   \n",
       "1                 NaN                  1              Classified   \n",
       "2                 NaN                  1              Classified   \n",
       "3                 NaN                  1              Classified   \n",
       "4                 NaN                  1              Classified   \n",
       "\n",
       "   SECTION_SUBDIV_PTS_ID  LAT_COORD   LON_COORD      RES_ORDER_NO  \\\n",
       "0                 694112   47.55970 -120.420889        WA-SES-146   \n",
       "1                 648258   48.86438 -117.353540  WA-NES-2020-1182   \n",
       "2                1086168   47.72386 -117.322570       WA-NES-1345   \n",
       "3                 188056   45.69946 -122.278140       WA-PCS-0064   \n",
       "4                 761020   48.79060 -119.327640               NaN   \n",
       "\n",
       "  NON_DNR_RES_ORDER_NO START_OWNER_AGENCY_NM START_JURISDICTION_AGENCY_NM  \\\n",
       "0                  NaN               Private                          DNR   \n",
       "1                  NaN               Private                          DNR   \n",
       "2                  NaN               Private                          DNR   \n",
       "3                  NaN               Private                          DNR   \n",
       "4                  NaN               Private                          DNR   \n",
       "\n",
       "       PROTECTION_TYPE   REGION_NAME  \n",
       "0  DNR Protection FFPA     SOUTHEAST  \n",
       "1  DNR Protection FFPA     NORTHEAST  \n",
       "2  DNR Protection FFPA     NORTHEAST  \n",
       "3  DNR Protection FFPA  PACIFIC CASC  \n",
       "4  DNR Protection FFPA     NORTHEAST  "
      ]
     },
     "execution_count": 7,
     "metadata": {},
     "output_type": "execute_result"
    }
   ],
   "source": [
    "df = pd.read_csv('DNR_Fire_Statistics_2008_-_Present.csv')\n",
    "df = df.sample(frac=1).reset_index(drop=True) # Shuffling the data\n",
    "df.head()"
   ]
  },
  {
   "cell_type": "markdown",
   "metadata": {},
   "source": [
    "## Images:\n",
    "These are examples of the images I pulled using Google's API and the latitude and longitude pairs in the above data frame."
   ]
  },
  {
   "cell_type": "markdown",
   "metadata": {},
   "source": [
    "### Wildfire Area Image Previews:"
   ]
  },
  {
   "cell_type": "markdown",
   "metadata": {},
   "source": [
    "__Image examples:__<br>\n",
    "__Areas with wildfires:__\n",
    "![text](example_images/wf1.jpg)\n",
    "![text](example_images/wf2.jpg)\n",
    "![text](example_images/wf3.jpg)"
   ]
  },
  {
   "cell_type": "markdown",
   "metadata": {},
   "source": [
    "### Non-Wildfire Area Image Previews:"
   ]
  },
  {
   "cell_type": "markdown",
   "metadata": {},
   "source": [
    "__Areas without wildfires:__\n",
    "![text](example_images/nwf1.jpg)\n",
    "![text](example_images/nwf2.jpg)\n",
    "![text](example_images/nwf3.jpg)"
   ]
  },
  {
   "cell_type": "markdown",
   "metadata": {},
   "source": [
    "# Cleaning:"
   ]
  },
  {
   "cell_type": "code",
   "execution_count": 8,
   "metadata": {},
   "outputs": [],
   "source": [
    "# Quick spelling error fixed\n",
    "# Quick fixes, not crucial for the neural network, but nice for consistency  \n",
    "df['FIREGCAUSE_LABEL_NM'] = df['FIREGCAUSE_LABEL_NM'].map(lambda x: 'Misc' \n",
    "                                                          if x == 'Miscellaneou' \n",
    "                                                          else x)"
   ]
  },
  {
   "cell_type": "code",
   "execution_count": 9,
   "metadata": {},
   "outputs": [],
   "source": [
    "# Dealing with dates: \n",
    "df['date'] = pd.to_datetime(df.START_DT)\n",
    "df.date = df.date.dt.strftime('%m/%d/%Y')\n",
    "df['date'] = pd.to_datetime(df.date)\n",
    "# Extracting Month\n",
    "df['month'] = pd.DatetimeIndex(df['date']).month\n",
    "df['year'] = pd.DatetimeIndex(df['date']).year\n",
    "\n",
    "# More relevant to EDA, but keeping the above code in"
   ]
  },
  {
   "cell_type": "markdown",
   "metadata": {},
   "source": [
    "# Neural Network:"
   ]
  },
  {
   "cell_type": "markdown",
   "metadata": {},
   "source": [
    "## Import Images:"
   ]
  },
  {
   "cell_type": "code",
   "execution_count": 11,
   "metadata": {},
   "outputs": [],
   "source": [
    "# Paths - PC:\n",
    "\n",
    "train_folder = r\"C:\\Users\\thoma\\Desktop\\split\\train\"\n",
    "train_wf = r\"C:\\Users\\thoma\\Desktop\\split\\train\\wf\"\n",
    "train_nwf = r\"C:\\Users\\thoma\\Desktop\\split\\train\\nwf\"\n",
    "\n",
    "test_folder = r\"C:\\Users\\thoma\\Desktop\\split\\test\"\n",
    "test_wf = r\"C:\\Users\\thoma\\Desktop\\split\\test\\wf\"\n",
    "test_nwf = r\"C:\\Users\\thoma\\Desktop\\split\\test\\nwf\"\n",
    "\n",
    "val_folder = r\"C:\\Users\\thoma\\Desktop\\split\\val\"\n",
    "val_wf = r\"C:\\Users\\thoma\\Desktop\\split\\val\\wf\"\n",
    "val_nwf = r\"C:\\Users\\thoma\\Desktop\\split\\val\\nwf\""
   ]
  },
  {
   "cell_type": "code",
   "execution_count": 12,
   "metadata": {},
   "outputs": [
    {
     "data": {
      "text/plain": [
       "\"\\n# Paths - mac:\\n# Train \\ntrain_folder = '/Users/Thomas/Desktop/split/train'\\ntrain_wf = '/Users/Thomas/Desktop/split/train/wf'\\ntrain_nwf = '/Users/Thomas/Desktop/split/train/nwf'\\n\\n# Test \\ntest_folder = '/Users/Thomas/Desktop/split/test'\\ntest_wf = '/Users/Thomas/Desktop/split/test/wf'\\ntest_nwf = '/Users/Thomas/Desktop/split/test/nwf'\\n\\n# Val \\nval_folder = '/Users/Thomas/Desktop/split/val'\\nval_wf = '/Users/Thomas/Desktop/split/val/wf'\\nval_nwf = '/Users/Thomas/Desktop/split/val/nwf'\\n\""
      ]
     },
     "execution_count": 12,
     "metadata": {},
     "output_type": "execute_result"
    }
   ],
   "source": [
    "# Not using this code for now as I'm running the neural network on the PC\n",
    "'''\n",
    "# Paths - mac:\n",
    "# Train \n",
    "train_folder = '/Users/Thomas/Desktop/split/train'\n",
    "train_wf = '/Users/Thomas/Desktop/split/train/wf'\n",
    "train_nwf = '/Users/Thomas/Desktop/split/train/nwf'\n",
    "\n",
    "# Test \n",
    "test_folder = '/Users/Thomas/Desktop/split/test'\n",
    "test_wf = '/Users/Thomas/Desktop/split/test/wf'\n",
    "test_nwf = '/Users/Thomas/Desktop/split/test/nwf'\n",
    "\n",
    "# Val \n",
    "val_folder = '/Users/Thomas/Desktop/split/val'\n",
    "val_wf = '/Users/Thomas/Desktop/split/val/wf'\n",
    "val_nwf = '/Users/Thomas/Desktop/split/val/nwf'\n",
    "'''"
   ]
  },
  {
   "cell_type": "code",
   "execution_count": 13,
   "metadata": {},
   "outputs": [
    {
     "name": "stdout",
     "output_type": "stream",
     "text": [
      "Found 15511 images belonging to 2 classes.\n",
      "Found 2000 images belonging to 2 classes.\n",
      "Found 2000 images belonging to 2 classes.\n"
     ]
    }
   ],
   "source": [
    "# For now, we're keeping the image size at 350x350\n",
    "train_generator = ImageDataGenerator(rescale=1./255).flow_from_directory(\n",
    "        train_folder, \n",
    "        target_size=(350, 350), batch_size = 5000)\n",
    "\n",
    "test_generator = ImageDataGenerator(rescale=1./255).flow_from_directory(\n",
    "        test_folder, \n",
    "        target_size=(350, 350), batch_size = 750) \n",
    "\n",
    "val_generator = ImageDataGenerator(rescale=1./255).flow_from_directory(\n",
    "        val_folder, \n",
    "        target_size=(350, 350), batch_size = 750)"
   ]
  },
  {
   "cell_type": "code",
   "execution_count": 14,
   "metadata": {},
   "outputs": [],
   "source": [
    "train_images, train_labels = next(train_generator)\n",
    "test_images, test_labels = next(test_generator)\n",
    "val_images, val_labels = next(val_generator)"
   ]
  },
  {
   "cell_type": "code",
   "execution_count": 15,
   "metadata": {},
   "outputs": [
    {
     "name": "stdout",
     "output_type": "stream",
     "text": [
      "Number of training samples: 5000\n",
      "Number of testing samples: 750\n",
      "Number of validation samples: 750\n",
      "train_images shape: (5000, 350, 350, 3)\n",
      "train_labels shape: (5000, 2)\n",
      "test_images shape: (750, 350, 350, 3)\n",
      "test_labels shape: (750, 2)\n",
      "val_images shape: (750, 350, 350, 3)\n",
      "val_labels shape: (750, 2)\n"
     ]
    }
   ],
   "source": [
    "# Explore your dataset again\n",
    "m_train = train_images.shape[0]\n",
    "num_px = train_images.shape[1]\n",
    "m_test = test_images.shape[0]\n",
    "m_val = val_images.shape[0]\n",
    "\n",
    "print (\"Number of training samples: \" + str(m_train))\n",
    "print (\"Number of testing samples: \" + str(m_test))\n",
    "print (\"Number of validation samples: \" + str(m_val))\n",
    "print (\"train_images shape: \" + str(train_images.shape))\n",
    "print (\"train_labels shape: \" + str(train_labels.shape))\n",
    "print (\"test_images shape: \" + str(test_images.shape))\n",
    "print (\"test_labels shape: \" + str(test_labels.shape))\n",
    "print (\"val_images shape: \" + str(val_images.shape))\n",
    "print (\"val_labels shape: \" + str(val_labels.shape))"
   ]
  },
  {
   "cell_type": "code",
   "execution_count": 16,
   "metadata": {},
   "outputs": [
    {
     "name": "stdout",
     "output_type": "stream",
     "text": [
      "(5000, 367500)\n",
      "(750, 367500)\n",
      "(750, 367500)\n"
     ]
    }
   ],
   "source": [
    "# Reshaping to 1d array - for baseline model:\n",
    "train_img = train_images.reshape(train_images.shape[0], -1)\n",
    "test_img = test_images.reshape(test_images.shape[0], -1)\n",
    "val_img = val_images.reshape(val_images.shape[0], -1)\n",
    "\n",
    "print(train_img.shape)\n",
    "print(test_img.shape)\n",
    "print(val_img.shape)"
   ]
  },
  {
   "cell_type": "code",
   "execution_count": 17,
   "metadata": {},
   "outputs": [],
   "source": [
    "# Lablels for the images:\n",
    "train_y = np.reshape(train_labels[:,0], (5000,1))\n",
    "test_y = np.reshape(test_labels[:,0], (750,1))\n",
    "val_y = np.reshape(val_labels[:,0], (750,1))"
   ]
  },
  {
   "cell_type": "markdown",
   "metadata": {},
   "source": [
    "## Baseline Model: \n",
    "### (Basic Artificial Neural Network with Several Dense Layers)"
   ]
  },
  {
   "cell_type": "markdown",
   "metadata": {},
   "source": [
    "### Model Evaluation Formulas:"
   ]
  },
  {
   "cell_type": "code",
   "execution_count": 18,
   "metadata": {},
   "outputs": [],
   "source": [
    "# Graphs\n",
    "def model_eval(history):\n",
    "    pd.DataFrame(history.history).plot(figsize = (12,8)) \n",
    "    plt.grid(True)\n",
    "    plt.gca().set_ylim(0, 1)\n",
    "    plt.show"
   ]
  },
  {
   "cell_type": "code",
   "execution_count": 19,
   "metadata": {},
   "outputs": [],
   "source": [
    "# Metrics\n",
    "def model_metrics(model):\n",
    "    train_acc = model.evaluate(train_img, train_y, verbose=0)\n",
    "    test_acc = model.evaluate(test_img, test_y, verbose=0)\n",
    "    print('Train Loss:', \"{:.3%}\".format(train_acc[0]))\n",
    "    print('Train Accuracy:', \"{:.3%}\".format(train_acc[1]))\n",
    "    print('Test Loss:', \"{:.3%}\".format(test_acc[0]))\n",
    "    print('Test Accuracy:', \"{:.3%}\".format(test_acc[1]))\n",
    "    \n",
    "def cnn_metrics(model):\n",
    "    train_acc = model.evaluate(train_images, train_y, verbose=0)\n",
    "    test_acc = model.evaluate(test_images, test_y, verbose=0)\n",
    "    print('Train Loss:', \"{:.3%}\".format(train_acc[0]))\n",
    "    print('Train Accuracy:', \"{:.3%}\".format(train_acc[1]))\n",
    "    print('Test Loss:', \"{:.3%}\".format(test_acc[0]))\n",
    "    print('Test Accuracy:', \"{:.3%}\".format(test_acc[1]))"
   ]
  },
  {
   "cell_type": "markdown",
   "metadata": {},
   "source": [
    "### Model:"
   ]
  },
  {
   "cell_type": "code",
   "execution_count": null,
   "metadata": {},
   "outputs": [],
   "source": [
    "# First baseline model.  Standard dense layers.\n",
    "model = models.Sequential()\n",
    "model.add(layers.Dense(32, activation='relu', input_shape=(196608,))) # 2 hidden layers\n",
    "model.add(layers.Dense(16, activation='relu'))\n",
    "model.add(layers.Dense(16, activation='relu'))\n",
    "model.add(layers.Dense(1, activation='sigmoid'))\n",
    "\n",
    "model.compile(optimizer='sgd',\n",
    "              loss='binary_crossentropy',\n",
    "              metrics=['accuracy'])"
   ]
  },
  {
   "cell_type": "code",
   "execution_count": null,
   "metadata": {},
   "outputs": [],
   "source": [
    "early_stopping_cb = keras.callbacks.EarlyStopping(patience = 50)"
   ]
  },
  {
   "cell_type": "code",
   "execution_count": null,
   "metadata": {},
   "outputs": [],
   "source": [
    "# Training the model\n",
    "history = model.fit(train_img,\n",
    "                    train_y,\n",
    "                    epochs=50,\n",
    "                    batch_size=32,\n",
    "                    validation_data=(val_img, val_y))"
   ]
  },
  {
   "cell_type": "code",
   "execution_count": null,
   "metadata": {
    "scrolled": false
   },
   "outputs": [],
   "source": [
    "model_eval(history)"
   ]
  },
  {
   "cell_type": "code",
   "execution_count": null,
   "metadata": {},
   "outputs": [],
   "source": [
    "# A tiny bit better than guessing\n",
    "# Much room for improvement though!\n",
    "model_metrics(model)"
   ]
  },
  {
   "cell_type": "markdown",
   "metadata": {},
   "source": [
    "## Convolutional Neural Network:"
   ]
  },
  {
   "cell_type": "markdown",
   "metadata": {},
   "source": [
    "For this project, I chose to use a convolutional neural network. It's the industry standard for image recognition as it is able to pick up patterns and distinguish different images from each other. A convolutional neural network works by using filters that scan through images. At first, these filters are randomly oriented, but as the model learns and is refined, the filters begin to pick up patterns like edges, lines, shapes, or even color intensity (in the case of RGB images). I tried several versions of the convolutional neural network, and by the end, I had one that I was satisfied with. "
   ]
  },
  {
   "cell_type": "code",
   "execution_count": 20,
   "metadata": {},
   "outputs": [],
   "source": [
    "# Sequential model using convolutions\n",
    "# Add dropout later\n",
    "# Using 350 x 350 images now, slightly reducing dropout, adding early stopping\n",
    "model = models.Sequential()\n",
    "model.add(layers.Conv2D(64, (3, 3), activation='relu', kernel_initializer = 'he_normal', padding = 'same',\n",
    "                        input_shape=(350, 350,  3)))\n",
    "model.add(layers.MaxPooling2D((2, 2)))\n",
    "\n",
    "model.add(layers.Conv2D(128, (3, 3), kernel_initializer = 'he_normal', activation='relu', padding = 'same'))\n",
    "model.add(layers.Conv2D(128, (3, 3), kernel_initializer = 'he_normal', activation='relu', padding = 'same'))\n",
    "model.add(layers.MaxPooling2D((2, 2)))\n",
    "\n",
    "model.add(layers.Conv2D(256, (3, 3), kernel_initializer = 'he_normal', activation='relu', padding = 'same'))\n",
    "model.add(layers.Conv2D(256, (3, 3), kernel_initializer = 'he_normal', activation='relu', padding = 'same'))\n",
    "model.add(layers.MaxPooling2D((2, 2)))\n",
    "\n",
    "model.add(layers.Flatten())\n",
    "model.add(layers.Dense(500, activation='relu'))\n",
    "model.add(layers.Dropout(.5))\n",
    "model.add(layers.Dense(250, activation='relu'))\n",
    "model.add(layers.Dropout(.5))\n",
    "model.add(layers.Dense(1, activation='sigmoid'))\n",
    "\n",
    "model.compile(loss='binary_crossentropy',\n",
    "              optimizer=\"sgd\",\n",
    "              metrics=['acc'])"
   ]
  },
  {
   "cell_type": "code",
   "execution_count": 21,
   "metadata": {},
   "outputs": [],
   "source": [
    "# Callbacks for early stopping and saving:\n",
    "early_stopping_cb = keras.callbacks.EarlyStopping(patience = 5, restore_best_weights=True)\n",
    "checkpoint_cb = keras.callbacks.ModelCheckpoint('cnn1.h5')"
   ]
  },
  {
   "cell_type": "code",
   "execution_count": 22,
   "metadata": {
    "scrolled": true
   },
   "outputs": [
    {
     "name": "stdout",
     "output_type": "stream",
     "text": [
      "Epoch 1/35\n",
      "157/157 [==============================] - 964s 6s/step - loss: 0.7510 - acc: 0.5550 - val_loss: 0.6647 - val_acc: 0.5507\n",
      "Epoch 2/35\n",
      "157/157 [==============================] - 948s 6s/step - loss: 0.6524 - acc: 0.6062 - val_loss: 0.6300 - val_acc: 0.6667\n",
      "Epoch 3/35\n",
      "157/157 [==============================] - 948s 6s/step - loss: 0.6368 - acc: 0.6340 - val_loss: 0.6282 - val_acc: 0.6493\n",
      "Epoch 4/35\n",
      "157/157 [==============================] - 948s 6s/step - loss: 0.6251 - acc: 0.6526 - val_loss: 0.6037 - val_acc: 0.6853\n",
      "Epoch 5/35\n",
      "157/157 [==============================] - 948s 6s/step - loss: 0.6152 - acc: 0.6626 - val_loss: 0.6196 - val_acc: 0.6467\n",
      "Epoch 6/35\n",
      "157/157 [==============================] - 948s 6s/step - loss: 0.6055 - acc: 0.6710 - val_loss: 0.6476 - val_acc: 0.6240\n",
      "Epoch 7/35\n",
      "157/157 [==============================] - 948s 6s/step - loss: 0.5966 - acc: 0.6830 - val_loss: 0.6138 - val_acc: 0.6600\n",
      "Epoch 8/35\n",
      "157/157 [==============================] - 950s 6s/step - loss: 0.5896 - acc: 0.6868 - val_loss: 0.5942 - val_acc: 0.6733\n",
      "Epoch 9/35\n",
      "157/157 [==============================] - 948s 6s/step - loss: 0.5796 - acc: 0.6998 - val_loss: 0.5780 - val_acc: 0.7040\n",
      "Epoch 10/35\n",
      "157/157 [==============================] - 949s 6s/step - loss: 0.5711 - acc: 0.7104 - val_loss: 0.5654 - val_acc: 0.7040\n",
      "Epoch 11/35\n",
      "157/157 [==============================] - 949s 6s/step - loss: 0.5587 - acc: 0.7142 - val_loss: 0.5690 - val_acc: 0.7093\n",
      "Epoch 12/35\n",
      "157/157 [==============================] - 949s 6s/step - loss: 0.5464 - acc: 0.7258 - val_loss: 0.5640 - val_acc: 0.7040\n",
      "Epoch 13/35\n",
      "157/157 [==============================] - 949s 6s/step - loss: 0.5246 - acc: 0.7386 - val_loss: 0.5775 - val_acc: 0.7013\n",
      "Epoch 14/35\n",
      "157/157 [==============================] - 948s 6s/step - loss: 0.5059 - acc: 0.7628 - val_loss: 0.5670 - val_acc: 0.7147\n",
      "Epoch 15/35\n",
      "157/157 [==============================] - 949s 6s/step - loss: 0.4801 - acc: 0.7806 - val_loss: 0.7951 - val_acc: 0.5253\n",
      "Epoch 16/35\n",
      "157/157 [==============================] - 947s 6s/step - loss: 0.4372 - acc: 0.8064 - val_loss: 0.6523 - val_acc: 0.6787\n",
      "Epoch 17/35\n",
      "157/157 [==============================] - 948s 6s/step - loss: 0.4086 - acc: 0.8230 - val_loss: 0.6095 - val_acc: 0.6667\n"
     ]
    }
   ],
   "source": [
    "# batch of 15, 50 ephochs\n",
    "history = model.fit(train_images,\n",
    "                    train_y,\n",
    "                    epochs=35,\n",
    "                    batch_size=32,\n",
    "                    validation_data=(val_images, val_y),\n",
    "                    callbacks = [early_stopping_cb, checkpoint_cb])"
   ]
  },
  {
   "cell_type": "code",
   "execution_count": 23,
   "metadata": {},
   "outputs": [
    {
     "data": {
      "image/png": "[encoded data removed]",
      "text/plain": [
       "<Figure size 864x576 with 1 Axes>"
      ]
     },
     "metadata": {
      "needs_background": "light"
     },
     "output_type": "display_data"
    }
   ],
   "source": [
    "model_eval(history)"
   ]
  },
  {
   "cell_type": "code",
   "execution_count": 24,
   "metadata": {},
   "outputs": [
    {
     "name": "stdout",
     "output_type": "stream",
     "text": [
      "Train Loss: 49.219%\n",
      "Train Accuracy: 76.520%\n",
      "Test Loss: 58.730%\n",
      "Test Accuracy: 69.200%\n"
     ]
    }
   ],
   "source": [
    "cnn_metrics(model)"
   ]
  },
  {
   "cell_type": "code",
   "execution_count": 25,
   "metadata": {},
   "outputs": [],
   "source": [
    "model.save('cnn1.h5')"
   ]
  },
  {
   "cell_type": "markdown",
   "metadata": {},
   "source": [
    "## Neural Network Results:"
   ]
  },
  {
   "cell_type": "code",
   "execution_count": null,
   "metadata": {},
   "outputs": [],
   "source": [
    "# Making the predictions\n",
    "training_preds = model.predict(train_images)\n",
    "test_preds = model.predict(test_images)"
   ]
  },
  {
   "cell_type": "code",
   "execution_count": 124,
   "metadata": {},
   "outputs": [],
   "source": [
    "# Setting a threshold and reorienting the predictions:\n",
    "threshold = .6\n",
    "# Creating a new list\n",
    "test_preds_ii = []\n",
    "# Looping through an appending as a binary value\n",
    "for pred in test_preds:\n",
    "    if pred >= threshold:\n",
    "        test_preds_ii.append([1])\n",
    "    else:\n",
    "        test_preds_ii.append([0])\n",
    "# Changing to a numpy array       \n",
    "test_preds_ii = np.array(test_preds_ii)\n",
    "\n",
    "# Same as above but for the training predictions\n",
    "train_preds_ii = []\n",
    "\n",
    "for pred in training_preds:\n",
    "    if pred >= threshold:\n",
    "        train_preds_ii.append([1])\n",
    "    else:\n",
    "        train_preds_ii.append([0])\n",
    "        \n",
    "train_preds_ii = np.array(train_preds_ii)"
   ]
  },
  {
   "cell_type": "code",
   "execution_count": 128,
   "metadata": {
    "scrolled": false
   },
   "outputs": [],
   "source": [
    "# Creating the confusion matrices\n",
    "conf_mat_train = confusion_matrix(train_y, train_preds_ii)\n",
    "conf_mat_test = confusion_matrix(test_y, test_preds_ii)\n",
    "    \n",
    "# Collecting true positives, true negatives, false positives, and false negatives\n",
    "wf_tp_train = conf_mat_train[0,0]\n",
    "wf_tn_train = conf_mat_train[1,1]\n",
    "wf_fp_train = conf_mat_train[1,0]\n",
    "wf_fn_train = conf_mat_train[0,1]\n",
    "\n",
    "wf_tp_test = conf_mat_test[0,0]\n",
    "wf_tn_test = conf_mat_test[1,1]\n",
    "wf_fp_test = conf_mat_test[1,0]\n",
    "wf_fn_test = conf_mat_test[0,1]\n",
    "\n",
    "# Collecting Precision and Recall for train and test:\n",
    "train_wf_recall = wf_tp_train / (wf_tp_train + wf_fn_train)\n",
    "train_wf_precision = wf_tp_train / (wf_tp_train + wf_fp_train)\n",
    "\n",
    "test_wf_recall = wf_tp_test / (wf_tp_test + wf_fn_test)\n",
    "test_wf_precision = wf_tp_test / (wf_tp_test + wf_fp_test)\n",
    "\n",
    "# Creating functions to show the confusion matrices and other results:\n",
    "def conf_matrix_train():\n",
    "    print ('0 = Wildfire\\n1 = No Wildfire\\n')\n",
    "\n",
    "    # Plotting the first matrix\n",
    "    plt.figure(figsize = (7,6))\n",
    "    sns.heatmap(conf_mat_train, cmap = 'Blues', linecolor = 'black', linewidth = 1, annot = True, fmt = '')\n",
    "    plt.title('Confusion Matrix - Train')\n",
    "    plt.xlabel('Predicted', fontsize = 12)\n",
    "    plt.ylabel('True', fontsize = 12)\n",
    "    plt.show\n",
    "    print('Wildfire Precision - Training:', \"{:.2%}\".format(train_wf_precision))\n",
    "    print('Wildfire Recall - Training:', \"{:.2%}\".format(train_wf_recall))\n",
    "     \n",
    "def conf_matrix_test():\n",
    "    # and the second\n",
    "    print ('0 = Wildfire\\n1 = No Wildfire\\n')\n",
    "    plt.figure(figsize = (7,6))\n",
    "    sns.heatmap(conf_mat_test, cmap = 'Blues', linecolor = 'black', linewidth = 1, annot = True, fmt = '')\n",
    "    plt.title('Confusion Matrix - Train')\n",
    "    plt.xlabel('Predicted', fontsize = 12)\n",
    "    plt.ylabel('True', fontsize = 12)\n",
    "    plt.show\n",
    "    print('Wildfire Precision - Testing:', \"{:.2%}\".format(test_wf_precision))\n",
    "    print('Wildfire Recall - Testing:', \"{:.2%}\".format(test_wf_recall))"
   ]
  },
  {
   "cell_type": "code",
   "execution_count": 129,
   "metadata": {},
   "outputs": [
    {
     "name": "stdout",
     "output_type": "stream",
     "text": [
      "0 = Wildfire\n",
      "1 = No Wildfire\n",
      "\n",
      "Wildfire Precision - Training: 71.07%\n",
      "Wildfire Recall - Training: 86.73%\n"
     ]
    },
    {
     "data": {
      "image/png": "[encoded data removed]",
      "text/plain": [
       "<Figure size 504x432 with 2 Axes>"
      ]
     },
     "metadata": {
      "needs_background": "light"
     },
     "output_type": "display_data"
    }
   ],
   "source": [
    "conf_matrix_train()"
   ]
  },
  {
   "cell_type": "code",
   "execution_count": 130,
   "metadata": {},
   "outputs": [
    {
     "name": "stdout",
     "output_type": "stream",
     "text": [
      "0 = Wildfire\n",
      "1 = No Wildfire\n",
      "\n",
      "Wildfire Precision - Testing: 63.32%\n",
      "Wildfire Recall - Testing: 77.96%\n"
     ]
    },
    {
     "data": {
      "image/png": "[encoded data removed]",
      "text/plain": [
       "<Figure size 504x432 with 2 Axes>"
      ]
     },
     "metadata": {
      "needs_background": "light"
     },
     "output_type": "display_data"
    }
   ],
   "source": [
    "conf_matrix_test()"
   ]
  },
  {
   "cell_type": "markdown",
   "metadata": {},
   "source": [
    "# Conclusion:"
   ]
  },
  {
   "cell_type": "markdown",
   "metadata": {},
   "source": [
    "The above model turned out better than I had hoped. It had a high false positive rate rate, especially with the testing set, but given how much of Washington is full of relatively dry forest, I think it's reasonable for the model to recognize these areas at high risk, even if they've never had a wildfire started there. It seems like there was a bit of 'cross-contamination' between the wildfire set and non-wildfire set, given how an area in the non-wildfire set may be at risk of fire, despite it never having been on fire before.\n",
    "\n",
    "In the future, I can revisit this with some new types of data and see if the model performs better. In the long run, I would love to see an improved version of this model put into deployment through state and local governments to keep tabs on their forests through live satellite feeds being analyzed through the neural network.  It would bea  tremendous way to identify new areas at risk and mitigate the risk of fire before it's set.\n",
    "\n",
    "Thanks for checking out the repo, and let me know if you have any questions!\n",
    "\n",
    "-Thomas"
   ]
  },
  {
   "cell_type": "code",
   "execution_count": null,
   "metadata": {},
   "outputs": [],
   "source": []
  }
 ],
 "metadata": {
  "kernelspec": {
   "display_name": "Python 3",
   "language": "python",
   "name": "python3"
  },
  "language_info": {
   "codemirror_mode": {
    "name": "ipython",
    "version": 3
   },
   "file_extension": ".py",
   "mimetype": "text/x-python",
   "name": "python",
   "nbconvert_exporter": "python",
   "pygments_lexer": "ipython3",
   "version": "3.6.9"
  },
  "toc": {
   "base_numbering": 1,
   "nav_menu": {},
   "number_sections": true,
   "sideBar": true,
   "skip_h1_title": false,
   "title_cell": "Table of Contents",
   "title_sidebar": "Contents",
   "toc_cell": false,
   "toc_position": {},
   "toc_section_display": true,
   "toc_window_display": true
  }
 },
 "nbformat": 4,
 "nbformat_minor": 2
}
