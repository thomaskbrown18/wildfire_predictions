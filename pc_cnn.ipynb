{
 "cells": [
  {
   "cell_type": "markdown",
   "metadata": {},
   "source": [
    "# Finding Sites at Risk of Wildfire with Convolutional Neural Networks"
   ]
  },
  {
   "cell_type": "markdown",
   "metadata": {},
   "source": [
    "__Project Description:__ <br>\n",
    "This notebook contains exploratory data analysis and the convolutional neural network model used to predict whether or not a location is susceptible to wildfires.  The data for this exploration consists of roughly 20,000 labeled satellite images. 10,000 of the images are locations which have experienced wildfires, while the other 10,000 have never seen a wildfire before."
   ]
  },
  {
   "cell_type": "markdown",
   "metadata": {},
   "source": [
    "While I was unable to collect satellite imagery of the site a few days before the fire, I believe this will suffice as a proof of concept, especially since areas that experience wildfires often experience them again."
   ]
  },
  {
   "cell_type": "markdown",
   "metadata": {},
   "source": [
    "Note: This notebook was created separately for the CNN alone in order to tune the network on a more powerful computer.  The other work was done on a mac with more of the standard data science packages installed."
   ]
  },
  {
   "cell_type": "markdown",
   "metadata": {},
   "source": [
    "# Importing Libraries:"
   ]
  },
  {
   "cell_type": "code",
   "execution_count": 1,
   "metadata": {},
   "outputs": [],
   "source": [
    "import os\n",
    "import shutil\n",
    "import pandas as pd\n",
    "import numpy as np"
   ]
  },
  {
   "cell_type": "code",
   "execution_count": 2,
   "metadata": {},
   "outputs": [],
   "source": [
    "import requests\n",
    "import random\n",
    "from IPython.display import Image, display"
   ]
  },
  {
   "cell_type": "code",
   "execution_count": 3,
   "metadata": {},
   "outputs": [],
   "source": [
    "import urllib.request\n",
    "from pathlib import Path"
   ]
  },
  {
   "cell_type": "code",
   "execution_count": 4,
   "metadata": {},
   "outputs": [
    {
     "name": "stderr",
     "output_type": "stream",
     "text": [
      "Using TensorFlow backend.\n"
     ]
    }
   ],
   "source": [
    "import keras\n",
    "from keras.models import Sequential\n",
    "from keras.layers import Dense, Conv2D , MaxPool2D , Flatten , Dropout , BatchNormalization\n",
    "from keras.preprocessing.image import ImageDataGenerator\n",
    "from sklearn.model_selection import train_test_split\n",
    "from sklearn.metrics import classification_report,confusion_matrix\n",
    "from keras.callbacks import ReduceLROnPlateau\n",
    "from keras.preprocessing.image import ImageDataGenerator, array_to_img, img_to_array, load_img\n",
    "from keras import models\n",
    "from keras import layers\n",
    "from keras import initializers"
   ]
  },
  {
   "cell_type": "code",
   "execution_count": 5,
   "metadata": {},
   "outputs": [],
   "source": [
    "import PIL\n",
    "from PIL import Image\n",
    "\n",
    "# Other\n",
    "import scipy\n",
    "from scipy import ndimage\n",
    "\n",
    "# Shows all columns\n",
    "pd.set_option('display.max_columns', None)\n",
    "\n",
    "# Turning off warnings\n",
    "import warnings\n",
    "warnings.filterwarnings('ignore')"
   ]
  },
  {
   "cell_type": "code",
   "execution_count": 6,
   "metadata": {},
   "outputs": [
    {
     "data": {
      "text/plain": [
       "'\\n# Plots and Graphs\\nimport seaborn as sns\\nsns.set_theme(style=\"darkgrid\")\\nimport matplotlib.pyplot as plt\\nfrom matplotlib import image\\nimport plotly.express as px\\nimport scikitplot as skplt\\nimport folium \\n%matplotlib inline\\n'"
      ]
     },
     "execution_count": 6,
     "metadata": {},
     "output_type": "execute_result"
    }
   ],
   "source": [
    "import matplotlib.pyplot as plt\n",
    "from matplotlib import image\n",
    "%matplotlib inline\n",
    "\n",
    "# Leaving this alone for now\n",
    "'''\n",
    "# Plots and Graphs\n",
    "import seaborn as sns\n",
    "sns.set_theme(style=\"darkgrid\")\n",
    "import matplotlib.pyplot as plt\n",
    "from matplotlib import image\n",
    "import plotly.express as px\n",
    "import scikitplot as skplt\n",
    "import folium \n",
    "%matplotlib inline\n",
    "'''"
   ]
  },
  {
   "cell_type": "markdown",
   "metadata": {},
   "source": [
    "# Importing Data:"
   ]
  },
  {
   "cell_type": "markdown",
   "metadata": {},
   "source": [
    "Source: Washington State DNR [link](https://geo.wa.gov/datasets/wadnr::dnr-fire-statistics-2008-present-1/data?geometry=-126.579%2C45.325%2C-111.143%2C47.964&orderBy=FIRE_RGE_WHOLE_NO&orderByAsc=false&selectedAttribute=ACRES_BURNED)"
   ]
  },
  {
   "cell_type": "code",
   "execution_count": 7,
   "metadata": {},
   "outputs": [
    {
     "data": {
      "text/html": [
       "<div>\n",
       "<style scoped>\n",
       "    .dataframe tbody tr th:only-of-type {\n",
       "        vertical-align: middle;\n",
       "    }\n",
       "\n",
       "    .dataframe tbody tr th {\n",
       "        vertical-align: top;\n",
       "    }\n",
       "\n",
       "    .dataframe thead th {\n",
       "        text-align: right;\n",
       "    }\n",
       "</style>\n",
       "<table border=\"1\" class=\"dataframe\">\n",
       "  <thead>\n",
       "    <tr style=\"text-align: right;\">\n",
       "      <th></th>\n",
       "      <th>X</th>\n",
       "      <th>Y</th>\n",
       "      <th>OBJECTID</th>\n",
       "      <th>FIREEVENT_ID</th>\n",
       "      <th>INCIDENT_NO</th>\n",
       "      <th>INCIDENT_NM</th>\n",
       "      <th>INCIDENT_ID</th>\n",
       "      <th>COUNTY_LABEL_NM</th>\n",
       "      <th>FIRE_TWP_WHOLE_NO</th>\n",
       "      <th>FIRE_TWP_FRACT_NO</th>\n",
       "      <th>FIRE_RGE_WHOLE_NO</th>\n",
       "      <th>FIRE_RGE_FRACT_NO</th>\n",
       "      <th>FIRE_RGE_DIR_FLG</th>\n",
       "      <th>FIRE_SECT_NO</th>\n",
       "      <th>SITE_ELEV</th>\n",
       "      <th>FIREGCAUSE_LABEL_NM</th>\n",
       "      <th>FIRESCAUSE_LABEL_NM</th>\n",
       "      <th>BURNESCAPE_RSN_LABEL_NM</th>\n",
       "      <th>ACRES_BURNED</th>\n",
       "      <th>START_DT</th>\n",
       "      <th>START_TM</th>\n",
       "      <th>DSCVR_DT</th>\n",
       "      <th>DSCVR_TM</th>\n",
       "      <th>CONTROL_DT</th>\n",
       "      <th>CONTROL_TM</th>\n",
       "      <th>FIRE_OUT_DT</th>\n",
       "      <th>FIRE_OUT_TM</th>\n",
       "      <th>BURN_MERCH_AREA</th>\n",
       "      <th>BURN_REPROD_AREA</th>\n",
       "      <th>BURN_NONSTOCK_AREA</th>\n",
       "      <th>FIREEVNT_CLASS_CD</th>\n",
       "      <th>FIREEVNT_CLASS_LABEL_NM</th>\n",
       "      <th>SECTION_SUBDIV_PTS_ID</th>\n",
       "      <th>LAT_COORD</th>\n",
       "      <th>LON_COORD</th>\n",
       "      <th>RES_ORDER_NO</th>\n",
       "      <th>NON_DNR_RES_ORDER_NO</th>\n",
       "      <th>START_OWNER_AGENCY_NM</th>\n",
       "      <th>START_JURISDICTION_AGENCY_NM</th>\n",
       "      <th>PROTECTION_TYPE</th>\n",
       "      <th>REGION_NAME</th>\n",
       "    </tr>\n",
       "  </thead>\n",
       "  <tbody>\n",
       "    <tr>\n",
       "      <th>0</th>\n",
       "      <td>-1.337462e+07</td>\n",
       "      <td>6.149761e+06</td>\n",
       "      <td>6858</td>\n",
       "      <td>31359</td>\n",
       "      <td>33</td>\n",
       "      <td>SMITH CANYON</td>\n",
       "      <td>30737</td>\n",
       "      <td>OKANOGAN</td>\n",
       "      <td>32</td>\n",
       "      <td>0</td>\n",
       "      <td>21</td>\n",
       "      <td>0</td>\n",
       "      <td>E</td>\n",
       "      <td>23</td>\n",
       "      <td>2100.0</td>\n",
       "      <td>Debris Burn</td>\n",
       "      <td>None</td>\n",
       "      <td>High Winds</td>\n",
       "      <td>2.60</td>\n",
       "      <td>2013/05/01 08:00:00+00</td>\n",
       "      <td>1330</td>\n",
       "      <td>2013/05/01 00:00:00+00</td>\n",
       "      <td>1425.0</td>\n",
       "      <td>2013/05/01 00:00:00+00</td>\n",
       "      <td>1800.0</td>\n",
       "      <td>2013/05/12 00:00:00+00</td>\n",
       "      <td>1134.0</td>\n",
       "      <td>2.6</td>\n",
       "      <td>NaN</td>\n",
       "      <td>NaN</td>\n",
       "      <td>1</td>\n",
       "      <td>Classified</td>\n",
       "      <td>475925</td>\n",
       "      <td>48.257250</td>\n",
       "      <td>-120.146260</td>\n",
       "      <td>NaN</td>\n",
       "      <td>NaN</td>\n",
       "      <td>Private</td>\n",
       "      <td>DNR</td>\n",
       "      <td>DNR Protection FFPA</td>\n",
       "      <td>NORTHEAST</td>\n",
       "    </tr>\n",
       "    <tr>\n",
       "      <th>1</th>\n",
       "      <td>-1.371625e+07</td>\n",
       "      <td>5.990011e+06</td>\n",
       "      <td>14192</td>\n",
       "      <td>42112</td>\n",
       "      <td>75</td>\n",
       "      <td>CALIFORNIA</td>\n",
       "      <td>41565</td>\n",
       "      <td>MASON</td>\n",
       "      <td>21</td>\n",
       "      <td>0</td>\n",
       "      <td>4</td>\n",
       "      <td>0</td>\n",
       "      <td>W</td>\n",
       "      <td>20</td>\n",
       "      <td>488.0</td>\n",
       "      <td>Undetermined</td>\n",
       "      <td>None</td>\n",
       "      <td>NaN</td>\n",
       "      <td>0.01</td>\n",
       "      <td>2015/07/15 08:00:00+00</td>\n",
       "      <td>809</td>\n",
       "      <td>2015/07/21 00:00:00+00</td>\n",
       "      <td>800.0</td>\n",
       "      <td>2015/07/21 00:00:00+00</td>\n",
       "      <td>1029.0</td>\n",
       "      <td>2015/07/30 00:00:00+00</td>\n",
       "      <td>1235.0</td>\n",
       "      <td>NaN</td>\n",
       "      <td>NaN</td>\n",
       "      <td>NaN</td>\n",
       "      <td>1</td>\n",
       "      <td>Classified</td>\n",
       "      <td>440044</td>\n",
       "      <td>47.292870</td>\n",
       "      <td>-123.215160</td>\n",
       "      <td>WA-SPS-120</td>\n",
       "      <td>NaN</td>\n",
       "      <td>Private</td>\n",
       "      <td>DNR</td>\n",
       "      <td>DNR Protection FFPA</td>\n",
       "      <td>SO PUGET</td>\n",
       "    </tr>\n",
       "    <tr>\n",
       "      <th>2</th>\n",
       "      <td>-1.364936e+07</td>\n",
       "      <td>5.934043e+06</td>\n",
       "      <td>15984</td>\n",
       "      <td>36804</td>\n",
       "      <td>10</td>\n",
       "      <td>YELM AVENUE</td>\n",
       "      <td>35647</td>\n",
       "      <td>THURSTON</td>\n",
       "      <td>17</td>\n",
       "      <td>0</td>\n",
       "      <td>1</td>\n",
       "      <td>0</td>\n",
       "      <td>E</td>\n",
       "      <td>24</td>\n",
       "      <td>344.0</td>\n",
       "      <td>Miscellaneou</td>\n",
       "      <td>Fireworks</td>\n",
       "      <td>NaN</td>\n",
       "      <td>0.25</td>\n",
       "      <td>2014/07/03 08:00:00+00</td>\n",
       "      <td>1530</td>\n",
       "      <td>2014/07/03 00:00:00+00</td>\n",
       "      <td>1525.0</td>\n",
       "      <td>2014/07/03 00:00:00+00</td>\n",
       "      <td>1540.0</td>\n",
       "      <td>2014/07/05 00:00:00+00</td>\n",
       "      <td>1424.0</td>\n",
       "      <td>NaN</td>\n",
       "      <td>NaN</td>\n",
       "      <td>NaN</td>\n",
       "      <td>1</td>\n",
       "      <td>Classified</td>\n",
       "      <td>895575</td>\n",
       "      <td>46.950770</td>\n",
       "      <td>-122.614290</td>\n",
       "      <td>WA-SPS-010</td>\n",
       "      <td>NaN</td>\n",
       "      <td>DNR</td>\n",
       "      <td>DNR</td>\n",
       "      <td>DNR Protection FFPA</td>\n",
       "      <td>SO PUGET</td>\n",
       "    </tr>\n",
       "    <tr>\n",
       "      <th>3</th>\n",
       "      <td>-1.353418e+07</td>\n",
       "      <td>6.189254e+06</td>\n",
       "      <td>15607</td>\n",
       "      <td>63960</td>\n",
       "      <td>13</td>\n",
       "      <td>SHULAR</td>\n",
       "      <td>63853</td>\n",
       "      <td>SKAGIT</td>\n",
       "      <td>35</td>\n",
       "      <td>0</td>\n",
       "      <td>9</td>\n",
       "      <td>0</td>\n",
       "      <td>E</td>\n",
       "      <td>25</td>\n",
       "      <td>450.0</td>\n",
       "      <td>Debris Burn</td>\n",
       "      <td>None</td>\n",
       "      <td>Unattended</td>\n",
       "      <td>1.00</td>\n",
       "      <td>2020/04/14 08:00:00+00</td>\n",
       "      <td>1658</td>\n",
       "      <td>1970/01/01 00:00:00+00</td>\n",
       "      <td>NaN</td>\n",
       "      <td>2020/04/14 00:00:00+00</td>\n",
       "      <td>2022.0</td>\n",
       "      <td>2020/04/15 00:00:00+00</td>\n",
       "      <td>1315.0</td>\n",
       "      <td>NaN</td>\n",
       "      <td>NaN</td>\n",
       "      <td>NaN</td>\n",
       "      <td>1</td>\n",
       "      <td>Classified</td>\n",
       "      <td>169240</td>\n",
       "      <td>48.492910</td>\n",
       "      <td>-121.579540</td>\n",
       "      <td>WA-NWS-2020-0068</td>\n",
       "      <td>NaN</td>\n",
       "      <td>Private</td>\n",
       "      <td>DNR</td>\n",
       "      <td>DNR Protection FFPA</td>\n",
       "      <td>NORTHWEST</td>\n",
       "    </tr>\n",
       "    <tr>\n",
       "      <th>4</th>\n",
       "      <td>-1.358952e+07</td>\n",
       "      <td>5.904734e+06</td>\n",
       "      <td>17540</td>\n",
       "      <td>28099</td>\n",
       "      <td>10</td>\n",
       "      <td>8 ROAD CAMP</td>\n",
       "      <td>27821</td>\n",
       "      <td>PIERCE</td>\n",
       "      <td>15</td>\n",
       "      <td>0</td>\n",
       "      <td>6</td>\n",
       "      <td>0</td>\n",
       "      <td>E</td>\n",
       "      <td>20</td>\n",
       "      <td>1930.0</td>\n",
       "      <td>Recreation</td>\n",
       "      <td>Camper</td>\n",
       "      <td>NaN</td>\n",
       "      <td>0.01</td>\n",
       "      <td>2012/07/14 08:00:00+00</td>\n",
       "      <td>1140</td>\n",
       "      <td>2012/07/14 00:00:00+00</td>\n",
       "      <td>1140.0</td>\n",
       "      <td>2012/07/14 00:00:00+00</td>\n",
       "      <td>1328.0</td>\n",
       "      <td>2012/07/15 00:00:00+00</td>\n",
       "      <td>1110.0</td>\n",
       "      <td>NaN</td>\n",
       "      <td>NaN</td>\n",
       "      <td>NaN</td>\n",
       "      <td>1</td>\n",
       "      <td>Classified</td>\n",
       "      <td>437957</td>\n",
       "      <td>46.770738</td>\n",
       "      <td>-122.076758</td>\n",
       "      <td>WA-SPS-010</td>\n",
       "      <td>NaN</td>\n",
       "      <td>DNR</td>\n",
       "      <td>DNR</td>\n",
       "      <td>DNR Protection FFPA</td>\n",
       "      <td>SO PUGET</td>\n",
       "    </tr>\n",
       "  </tbody>\n",
       "</table>\n",
       "</div>"
      ],
      "text/plain": [
       "              X             Y  OBJECTID  FIREEVENT_ID  INCIDENT_NO  \\\n",
       "0 -1.337462e+07  6.149761e+06      6858         31359           33   \n",
       "1 -1.371625e+07  5.990011e+06     14192         42112           75   \n",
       "2 -1.364936e+07  5.934043e+06     15984         36804           10   \n",
       "3 -1.353418e+07  6.189254e+06     15607         63960           13   \n",
       "4 -1.358952e+07  5.904734e+06     17540         28099           10   \n",
       "\n",
       "    INCIDENT_NM  INCIDENT_ID COUNTY_LABEL_NM  FIRE_TWP_WHOLE_NO  \\\n",
       "0  SMITH CANYON        30737        OKANOGAN                 32   \n",
       "1    CALIFORNIA        41565           MASON                 21   \n",
       "2   YELM AVENUE        35647        THURSTON                 17   \n",
       "3       SHULAR         63853          SKAGIT                 35   \n",
       "4   8 ROAD CAMP        27821          PIERCE                 15   \n",
       "\n",
       "   FIRE_TWP_FRACT_NO  FIRE_RGE_WHOLE_NO  FIRE_RGE_FRACT_NO FIRE_RGE_DIR_FLG  \\\n",
       "0                  0                 21                  0                E   \n",
       "1                  0                  4                  0                W   \n",
       "2                  0                  1                  0                E   \n",
       "3                  0                  9                  0                E   \n",
       "4                  0                  6                  0                E   \n",
       "\n",
       "   FIRE_SECT_NO  SITE_ELEV FIREGCAUSE_LABEL_NM FIRESCAUSE_LABEL_NM  \\\n",
       "0            23     2100.0         Debris Burn                None   \n",
       "1            20      488.0        Undetermined                None   \n",
       "2            24      344.0        Miscellaneou           Fireworks   \n",
       "3            25      450.0         Debris Burn                None   \n",
       "4            20     1930.0          Recreation              Camper   \n",
       "\n",
       "  BURNESCAPE_RSN_LABEL_NM  ACRES_BURNED                START_DT  START_TM  \\\n",
       "0              High Winds          2.60  2013/05/01 08:00:00+00      1330   \n",
       "1                     NaN          0.01  2015/07/15 08:00:00+00       809   \n",
       "2                     NaN          0.25  2014/07/03 08:00:00+00      1530   \n",
       "3              Unattended          1.00  2020/04/14 08:00:00+00      1658   \n",
       "4                     NaN          0.01  2012/07/14 08:00:00+00      1140   \n",
       "\n",
       "                 DSCVR_DT  DSCVR_TM              CONTROL_DT  CONTROL_TM  \\\n",
       "0  2013/05/01 00:00:00+00    1425.0  2013/05/01 00:00:00+00      1800.0   \n",
       "1  2015/07/21 00:00:00+00     800.0  2015/07/21 00:00:00+00      1029.0   \n",
       "2  2014/07/03 00:00:00+00    1525.0  2014/07/03 00:00:00+00      1540.0   \n",
       "3  1970/01/01 00:00:00+00       NaN  2020/04/14 00:00:00+00      2022.0   \n",
       "4  2012/07/14 00:00:00+00    1140.0  2012/07/14 00:00:00+00      1328.0   \n",
       "\n",
       "              FIRE_OUT_DT  FIRE_OUT_TM  BURN_MERCH_AREA  BURN_REPROD_AREA  \\\n",
       "0  2013/05/12 00:00:00+00       1134.0              2.6               NaN   \n",
       "1  2015/07/30 00:00:00+00       1235.0              NaN               NaN   \n",
       "2  2014/07/05 00:00:00+00       1424.0              NaN               NaN   \n",
       "3  2020/04/15 00:00:00+00       1315.0              NaN               NaN   \n",
       "4  2012/07/15 00:00:00+00       1110.0              NaN               NaN   \n",
       "\n",
       "   BURN_NONSTOCK_AREA  FIREEVNT_CLASS_CD FIREEVNT_CLASS_LABEL_NM  \\\n",
       "0                 NaN                  1              Classified   \n",
       "1                 NaN                  1              Classified   \n",
       "2                 NaN                  1              Classified   \n",
       "3                 NaN                  1              Classified   \n",
       "4                 NaN                  1              Classified   \n",
       "\n",
       "   SECTION_SUBDIV_PTS_ID  LAT_COORD   LON_COORD      RES_ORDER_NO  \\\n",
       "0                 475925  48.257250 -120.146260               NaN   \n",
       "1                 440044  47.292870 -123.215160        WA-SPS-120   \n",
       "2                 895575  46.950770 -122.614290        WA-SPS-010   \n",
       "3                 169240  48.492910 -121.579540  WA-NWS-2020-0068   \n",
       "4                 437957  46.770738 -122.076758        WA-SPS-010   \n",
       "\n",
       "  NON_DNR_RES_ORDER_NO START_OWNER_AGENCY_NM START_JURISDICTION_AGENCY_NM  \\\n",
       "0                  NaN               Private                          DNR   \n",
       "1                  NaN               Private                          DNR   \n",
       "2                  NaN                   DNR                          DNR   \n",
       "3                  NaN               Private                          DNR   \n",
       "4                  NaN                   DNR                          DNR   \n",
       "\n",
       "       PROTECTION_TYPE REGION_NAME  \n",
       "0  DNR Protection FFPA   NORTHEAST  \n",
       "1  DNR Protection FFPA    SO PUGET  \n",
       "2  DNR Protection FFPA    SO PUGET  \n",
       "3  DNR Protection FFPA   NORTHWEST  \n",
       "4  DNR Protection FFPA    SO PUGET  "
      ]
     },
     "execution_count": 7,
     "metadata": {},
     "output_type": "execute_result"
    }
   ],
   "source": [
    "df = pd.read_csv('DNR_Fire_Statistics_2008_-_Present.csv')\n",
    "df = df.sample(frac=1).reset_index(drop=True) # Shuffling the data\n",
    "df.head()"
   ]
  },
  {
   "cell_type": "markdown",
   "metadata": {},
   "source": [
    "## Images:"
   ]
  },
  {
   "cell_type": "markdown",
   "metadata": {},
   "source": [
    "### Wildfire Area Image Previews:"
   ]
  },
  {
   "cell_type": "markdown",
   "metadata": {},
   "source": [
    "__Image examples:__<br>\n",
    "__Areas with wildfires:__\n",
    "![text](example_images/wf1.jpg)\n",
    "![text](example_images/wf2.jpg)\n",
    "![text](example_images/wf3.jpg)"
   ]
  },
  {
   "cell_type": "markdown",
   "metadata": {},
   "source": [
    "### Non-Wildfire Area Image Previews:"
   ]
  },
  {
   "cell_type": "markdown",
   "metadata": {},
   "source": [
    "__Areas without wildfires:__\n",
    "![text](example_images/nwf1.jpg)\n",
    "![text](example_images/nwf2.jpg)\n",
    "![text](example_images/nwf3.jpg)"
   ]
  },
  {
   "cell_type": "markdown",
   "metadata": {},
   "source": [
    "# Cleaning:"
   ]
  },
  {
   "cell_type": "code",
   "execution_count": 8,
   "metadata": {},
   "outputs": [],
   "source": [
    "# Quick spelling error fixed\n",
    "# Quick fixes, not crucial for the neural network, but nice for consistency  \n",
    "df['FIREGCAUSE_LABEL_NM'] = df['FIREGCAUSE_LABEL_NM'].map(lambda x: 'Misc' \n",
    "                                                          if x == 'Miscellaneou' \n",
    "                                                          else x)"
   ]
  },
  {
   "cell_type": "code",
   "execution_count": 9,
   "metadata": {},
   "outputs": [],
   "source": [
    "# Dealing with dates: \n",
    "df['date'] = pd.to_datetime(df.START_DT)\n",
    "df.date = df.date.dt.strftime('%m/%d/%Y')\n",
    "df['date'] = pd.to_datetime(df.date)\n",
    "# Extracting Month\n",
    "df['month'] = pd.DatetimeIndex(df['date']).month\n",
    "df['year'] = pd.DatetimeIndex(df['date']).year\n",
    "\n",
    "# More relevant to EDA, but keeping the above code in"
   ]
  },
  {
   "cell_type": "markdown",
   "metadata": {},
   "source": [
    "# Neural Network:"
   ]
  },
  {
   "cell_type": "markdown",
   "metadata": {},
   "source": [
    "## Import Images:"
   ]
  },
  {
   "cell_type": "code",
   "execution_count": 12,
   "metadata": {},
   "outputs": [],
   "source": [
    "# Paths - PC:\n",
    "\n",
    "train_folder = r\"C:\\Users\\thoma\\Desktop\\split\\train\"\n",
    "train_wf = r\"C:\\Users\\thoma\\Desktop\\split\\train\\wf\"\n",
    "train_nwf = r\"C:\\Users\\thoma\\Desktop\\split\\train\\nwf\"\n",
    "\n",
    "test_folder = r\"C:\\Users\\thoma\\Desktop\\split\\test\"\n",
    "test_wf = r\"C:\\Users\\thoma\\Desktop\\split\\test\\wf\"\n",
    "test_nwf = r\"C:\\Users\\thoma\\Desktop\\split\\test\\nwf\"\n",
    "\n",
    "val_folder = r\"C:\\Users\\thoma\\Desktop\\split\\val\"\n",
    "val_wf = r\"C:\\Users\\thoma\\Desktop\\split\\val\\wf\"\n",
    "val_nwf = r\"C:\\Users\\thoma\\Desktop\\split\\val\\nwf\""
   ]
  },
  {
   "cell_type": "code",
   "execution_count": 13,
   "metadata": {},
   "outputs": [
    {
     "data": {
      "text/plain": [
       "\"\\n# Paths - mac:\\n# Train - 15 each\\ntrain_folder = '/Users/Thomas/Desktop/split/train'\\ntrain_wf = '/Users/Thomas/Desktop/split/train/wf'\\ntrain_nwf = '/Users/Thomas/Desktop/split/train/nwf'\\n\\n# Test - 5 each\\ntest_folder = '/Users/Thomas/Desktop/split/test'\\ntest_wf = '/Users/Thomas/Desktop/split/test/wf'\\ntest_nwf = '/Users/Thomas/Desktop/split/test/nwf'\\n\\n# Val - 5 each\\nval_folder = '/Users/Thomas/Desktop/split/val'\\nval_wf = '/Users/Thomas/Desktop/split/val/wf'\\nval_nwf = '/Users/Thomas/Desktop/split/val/nwf'\\n\""
      ]
     },
     "execution_count": 13,
     "metadata": {},
     "output_type": "execute_result"
    }
   ],
   "source": [
    "# Not using this code for now as I'm running the neural network on the PC\n",
    "'''\n",
    "# Paths - mac:\n",
    "# Train \n",
    "train_folder = '/Users/Thomas/Desktop/split/train'\n",
    "train_wf = '/Users/Thomas/Desktop/split/train/wf'\n",
    "train_nwf = '/Users/Thomas/Desktop/split/train/nwf'\n",
    "\n",
    "# Test \n",
    "test_folder = '/Users/Thomas/Desktop/split/test'\n",
    "test_wf = '/Users/Thomas/Desktop/split/test/wf'\n",
    "test_nwf = '/Users/Thomas/Desktop/split/test/nwf'\n",
    "\n",
    "# Val \n",
    "val_folder = '/Users/Thomas/Desktop/split/val'\n",
    "val_wf = '/Users/Thomas/Desktop/split/val/wf'\n",
    "val_nwf = '/Users/Thomas/Desktop/split/val/nwf'\n",
    "'''"
   ]
  },
  {
   "cell_type": "code",
   "execution_count": 30,
   "metadata": {},
   "outputs": [
    {
     "name": "stdout",
     "output_type": "stream",
     "text": [
      "Found 15511 images belonging to 2 classes.\n",
      "Found 2000 images belonging to 2 classes.\n",
      "Found 2000 images belonging to 2 classes.\n"
     ]
    }
   ],
   "source": [
    "# For now, we're keeping the image size at 350x350\n",
    "train_generator = ImageDataGenerator(rescale=1./255).flow_from_directory(\n",
    "        train_folder, \n",
    "        target_size=(350, 350), batch_size = 5000)\n",
    "\n",
    "test_generator = ImageDataGenerator(rescale=1./255).flow_from_directory(\n",
    "        test_folder, \n",
    "        target_size=(350, 350), batch_size = 750) \n",
    "\n",
    "val_generator = ImageDataGenerator(rescale=1./255).flow_from_directory(\n",
    "        val_folder, \n",
    "        target_size=(350, 350), batch_size = 750)"
   ]
  },
  {
   "cell_type": "code",
   "execution_count": 31,
   "metadata": {},
   "outputs": [],
   "source": [
    "train_images, train_labels = next(train_generator)\n",
    "test_images, test_labels = next(test_generator)\n",
    "val_images, val_labels = next(val_generator)"
   ]
  },
  {
   "cell_type": "code",
   "execution_count": 32,
   "metadata": {},
   "outputs": [
    {
     "name": "stdout",
     "output_type": "stream",
     "text": [
      "Number of training samples: 5000\n",
      "Number of testing samples: 750\n",
      "Number of validation samples: 750\n",
      "train_images shape: (5000, 350, 350, 3)\n",
      "train_labels shape: (5000, 2)\n",
      "test_images shape: (750, 350, 350, 3)\n",
      "test_labels shape: (750, 2)\n",
      "val_images shape: (750, 350, 350, 3)\n",
      "val_labels shape: (750, 2)\n"
     ]
    }
   ],
   "source": [
    "# Explore your dataset again\n",
    "m_train = train_images.shape[0]\n",
    "num_px = train_images.shape[1]\n",
    "m_test = test_images.shape[0]\n",
    "m_val = val_images.shape[0]\n",
    "\n",
    "print (\"Number of training samples: \" + str(m_train))\n",
    "print (\"Number of testing samples: \" + str(m_test))\n",
    "print (\"Number of validation samples: \" + str(m_val))\n",
    "print (\"train_images shape: \" + str(train_images.shape))\n",
    "print (\"train_labels shape: \" + str(train_labels.shape))\n",
    "print (\"test_images shape: \" + str(test_images.shape))\n",
    "print (\"test_labels shape: \" + str(test_labels.shape))\n",
    "print (\"val_images shape: \" + str(val_images.shape))\n",
    "print (\"val_labels shape: \" + str(val_labels.shape))"
   ]
  },
  {
   "cell_type": "code",
   "execution_count": 33,
   "metadata": {},
   "outputs": [
    {
     "name": "stdout",
     "output_type": "stream",
     "text": [
      "(5000, 367500)\n",
      "(750, 367500)\n",
      "(750, 367500)\n"
     ]
    }
   ],
   "source": [
    "# Reshaping to 1d array - for baseline model:\n",
    "train_img = train_images.reshape(train_images.shape[0], -1)\n",
    "test_img = test_images.reshape(test_images.shape[0], -1)\n",
    "val_img = val_images.reshape(val_images.shape[0], -1)\n",
    "\n",
    "print(train_img.shape)\n",
    "print(test_img.shape)\n",
    "print(val_img.shape)"
   ]
  },
  {
   "cell_type": "code",
   "execution_count": 35,
   "metadata": {},
   "outputs": [],
   "source": [
    "# Lablels for the images:\n",
    "train_y = np.reshape(train_labels[:,0], (5000,1))\n",
    "test_y = np.reshape(test_labels[:,0], (750,1))\n",
    "val_y = np.reshape(val_labels[:,0], (750,1))"
   ]
  },
  {
   "cell_type": "markdown",
   "metadata": {},
   "source": [
    "## Baseline Model: \n",
    "### (Basic Artificial Neural Network with Several Dense Layers)"
   ]
  },
  {
   "cell_type": "code",
   "execution_count": 36,
   "metadata": {},
   "outputs": [],
   "source": [
    "# Graphs\n",
    "def model_eval(history):\n",
    "    pd.DataFrame(history.history).plot(figsize = (12,8)) \n",
    "    plt.grid(True)\n",
    "    plt.gca().set_ylim(0, 1)\n",
    "    plt.show"
   ]
  },
  {
   "cell_type": "code",
   "execution_count": 37,
   "metadata": {},
   "outputs": [],
   "source": [
    "# Metrics\n",
    "def model_metrics(model):\n",
    "    train_acc = model.evaluate(train_img, train_y, verbose=0)\n",
    "    test_acc = model.evaluate(test_img, test_y, verbose=0)\n",
    "    print('Train Loss:', \"{:.3%}\".format(train_acc[0]))\n",
    "    print('Train Accuracy:', \"{:.3%}\".format(train_acc[1]))\n",
    "    print('Test Loss:', \"{:.3%}\".format(test_acc[0]))\n",
    "    print('Test Accuracy:', \"{:.3%}\".format(test_acc[1]))\n",
    "    \n",
    "def cnn_metrics(model):\n",
    "    train_acc = model.evaluate(train_images, train_y, verbose=0)\n",
    "    test_acc = model.evaluate(test_images, test_y, verbose=0)\n",
    "    print('Train Loss:', \"{:.3%}\".format(train_acc[0]))\n",
    "    print('Train Accuracy:', \"{:.3%}\".format(train_acc[1]))\n",
    "    print('Test Loss:', \"{:.3%}\".format(test_acc[0]))\n",
    "    print('Test Accuracy:', \"{:.3%}\".format(test_acc[1]))"
   ]
  },
  {
   "cell_type": "code",
   "execution_count": 29,
   "metadata": {},
   "outputs": [],
   "source": [
    "# First baseline model.  Standard dense layers.\n",
    "model = models.Sequential()\n",
    "model.add(layers.Dense(32, activation='relu', input_shape=(196608,))) # 2 hidden layers\n",
    "model.add(layers.Dense(16, activation='relu'))\n",
    "model.add(layers.Dense(16, activation='relu'))\n",
    "model.add(layers.Dense(1, activation='sigmoid'))\n",
    "\n",
    "model.compile(optimizer='sgd',\n",
    "              loss='binary_crossentropy',\n",
    "              metrics=['accuracy'])"
   ]
  },
  {
   "cell_type": "code",
   "execution_count": 30,
   "metadata": {},
   "outputs": [],
   "source": [
    "early_stopping_cb = keras.callbacks.EarlyStopping(patience = 50)"
   ]
  },
  {
   "cell_type": "code",
   "execution_count": 36,
   "metadata": {},
   "outputs": [
    {
     "name": "stdout",
     "output_type": "stream",
     "text": [
      "Epoch 1/50\n",
      "94/94 [==============================] - 1s 14ms/step - loss: 0.6932 - accuracy: 0.5053 - val_loss: 0.6933 - val_accuracy: 0.4940\n",
      "Epoch 2/50\n",
      "94/94 [==============================] - 1s 13ms/step - loss: 0.6932 - accuracy: 0.5053 - val_loss: 0.6933 - val_accuracy: 0.4940\n",
      "Epoch 3/50\n",
      "94/94 [==============================] - 1s 14ms/step - loss: 0.6932 - accuracy: 0.5053 - val_loss: 0.6934 - val_accuracy: 0.4940\n",
      "Epoch 4/50\n",
      "94/94 [==============================] - 1s 14ms/step - loss: 0.6932 - accuracy: 0.5053 - val_loss: 0.6933 - val_accuracy: 0.4940\n",
      "Epoch 5/50\n",
      "94/94 [==============================] - 1s 14ms/step - loss: 0.6931 - accuracy: 0.5053 - val_loss: 0.6934 - val_accuracy: 0.4940\n",
      "Epoch 6/50\n",
      "94/94 [==============================] - 1s 14ms/step - loss: 0.6931 - accuracy: 0.5053 - val_loss: 0.6933 - val_accuracy: 0.4940\n",
      "Epoch 7/50\n",
      "94/94 [==============================] - 1s 14ms/step - loss: 0.6932 - accuracy: 0.5053 - val_loss: 0.6933 - val_accuracy: 0.4940\n",
      "Epoch 8/50\n",
      "94/94 [==============================] - 1s 14ms/step - loss: 0.6932 - accuracy: 0.5053 - val_loss: 0.6933 - val_accuracy: 0.4940\n",
      "Epoch 9/50\n",
      "94/94 [==============================] - 1s 14ms/step - loss: 0.6932 - accuracy: 0.5053 - val_loss: 0.6933 - val_accuracy: 0.4940\n",
      "Epoch 10/50\n",
      "94/94 [==============================] - 1s 14ms/step - loss: 0.6931 - accuracy: 0.5053 - val_loss: 0.6933 - val_accuracy: 0.4940\n",
      "Epoch 11/50\n",
      "94/94 [==============================] - 1s 14ms/step - loss: 0.6932 - accuracy: 0.5053 - val_loss: 0.6933 - val_accuracy: 0.4940\n",
      "Epoch 12/50\n",
      "94/94 [==============================] - 1s 14ms/step - loss: 0.6932 - accuracy: 0.5053 - val_loss: 0.6933 - val_accuracy: 0.4940\n",
      "Epoch 13/50\n",
      "94/94 [==============================] - 1s 14ms/step - loss: 0.6931 - accuracy: 0.5053 - val_loss: 0.6933 - val_accuracy: 0.4940\n",
      "Epoch 14/50\n",
      "94/94 [==============================] - 1s 14ms/step - loss: 0.6932 - accuracy: 0.5053 - val_loss: 0.6933 - val_accuracy: 0.4940\n",
      "Epoch 15/50\n",
      "94/94 [==============================] - 1s 14ms/step - loss: 0.6932 - accuracy: 0.5053 - val_loss: 0.6933 - val_accuracy: 0.4940\n",
      "Epoch 16/50\n",
      "94/94 [==============================] - 1s 14ms/step - loss: 0.6931 - accuracy: 0.5053 - val_loss: 0.6933 - val_accuracy: 0.4940\n",
      "Epoch 17/50\n",
      "94/94 [==============================] - 1s 14ms/step - loss: 0.6931 - accuracy: 0.5053 - val_loss: 0.6934 - val_accuracy: 0.4940\n",
      "Epoch 18/50\n",
      "94/94 [==============================] - 1s 14ms/step - loss: 0.6931 - accuracy: 0.5053 - val_loss: 0.6933 - val_accuracy: 0.4940\n",
      "Epoch 19/50\n",
      "94/94 [==============================] - 1s 14ms/step - loss: 0.6931 - accuracy: 0.5053 - val_loss: 0.6934 - val_accuracy: 0.4940\n",
      "Epoch 20/50\n",
      "94/94 [==============================] - 1s 14ms/step - loss: 0.6931 - accuracy: 0.5053 - val_loss: 0.6934 - val_accuracy: 0.4940\n",
      "Epoch 21/50\n",
      "94/94 [==============================] - 1s 14ms/step - loss: 0.6931 - accuracy: 0.5053 - val_loss: 0.6934 - val_accuracy: 0.4940\n",
      "Epoch 22/50\n",
      "94/94 [==============================] - 1s 14ms/step - loss: 0.6931 - accuracy: 0.5053 - val_loss: 0.6933 - val_accuracy: 0.4940\n",
      "Epoch 23/50\n",
      "94/94 [==============================] - 1s 14ms/step - loss: 0.6931 - accuracy: 0.5053 - val_loss: 0.6933 - val_accuracy: 0.4940\n",
      "Epoch 24/50\n",
      "94/94 [==============================] - 1s 14ms/step - loss: 0.6931 - accuracy: 0.5053 - val_loss: 0.6934 - val_accuracy: 0.4940\n",
      "Epoch 25/50\n",
      "94/94 [==============================] - 1s 14ms/step - loss: 0.6931 - accuracy: 0.5053 - val_loss: 0.6933 - val_accuracy: 0.4940\n",
      "Epoch 26/50\n",
      "94/94 [==============================] - 1s 14ms/step - loss: 0.6931 - accuracy: 0.5053 - val_loss: 0.6933 - val_accuracy: 0.4940\n",
      "Epoch 27/50\n",
      "94/94 [==============================] - 1s 14ms/step - loss: 0.6932 - accuracy: 0.5053 - val_loss: 0.6933 - val_accuracy: 0.4940\n",
      "Epoch 28/50\n",
      "94/94 [==============================] - 1s 14ms/step - loss: 0.6931 - accuracy: 0.5053 - val_loss: 0.6933 - val_accuracy: 0.4940\n",
      "Epoch 29/50\n",
      "94/94 [==============================] - 1s 14ms/step - loss: 0.6931 - accuracy: 0.5053 - val_loss: 0.6933 - val_accuracy: 0.4940\n",
      "Epoch 30/50\n",
      "94/94 [==============================] - 1s 14ms/step - loss: 0.6931 - accuracy: 0.5053 - val_loss: 0.6933 - val_accuracy: 0.4940\n",
      "Epoch 31/50\n",
      "94/94 [==============================] - 1s 14ms/step - loss: 0.6932 - accuracy: 0.5053 - val_loss: 0.6933 - val_accuracy: 0.4940\n",
      "Epoch 32/50\n",
      "94/94 [==============================] - 1s 14ms/step - loss: 0.6931 - accuracy: 0.5053 - val_loss: 0.6934 - val_accuracy: 0.4940\n",
      "Epoch 33/50\n",
      "94/94 [==============================] - 1s 14ms/step - loss: 0.6931 - accuracy: 0.5053 - val_loss: 0.6933 - val_accuracy: 0.4940\n",
      "Epoch 34/50\n",
      "94/94 [==============================] - 1s 14ms/step - loss: 0.6931 - accuracy: 0.5053 - val_loss: 0.6933 - val_accuracy: 0.4940\n",
      "Epoch 35/50\n",
      "94/94 [==============================] - 1s 14ms/step - loss: 0.6931 - accuracy: 0.5053 - val_loss: 0.6933 - val_accuracy: 0.4940\n",
      "Epoch 36/50\n",
      "94/94 [==============================] - 1s 14ms/step - loss: 0.6931 - accuracy: 0.5053 - val_loss: 0.6934 - val_accuracy: 0.4940\n",
      "Epoch 37/50\n",
      "94/94 [==============================] - 1s 14ms/step - loss: 0.6932 - accuracy: 0.5053 - val_loss: 0.6933 - val_accuracy: 0.4940\n",
      "Epoch 38/50\n",
      "94/94 [==============================] - 1s 14ms/step - loss: 0.6931 - accuracy: 0.5053 - val_loss: 0.6934 - val_accuracy: 0.4940\n",
      "Epoch 39/50\n",
      "94/94 [==============================] - 1s 14ms/step - loss: 0.6931 - accuracy: 0.5053 - val_loss: 0.6934 - val_accuracy: 0.4940\n",
      "Epoch 40/50\n",
      "94/94 [==============================] - 1s 14ms/step - loss: 0.6931 - accuracy: 0.5053 - val_loss: 0.6933 - val_accuracy: 0.4940\n",
      "Epoch 41/50\n",
      "94/94 [==============================] - 1s 14ms/step - loss: 0.6932 - accuracy: 0.5053 - val_loss: 0.6933 - val_accuracy: 0.4940\n",
      "Epoch 42/50\n",
      "94/94 [==============================] - 1s 14ms/step - loss: 0.6931 - accuracy: 0.5053 - val_loss: 0.6933 - val_accuracy: 0.4940\n",
      "Epoch 43/50\n",
      "94/94 [==============================] - 1s 14ms/step - loss: 0.6931 - accuracy: 0.5053 - val_loss: 0.6933 - val_accuracy: 0.4940\n",
      "Epoch 44/50\n",
      "94/94 [==============================] - 1s 14ms/step - loss: 0.6931 - accuracy: 0.5053 - val_loss: 0.6933 - val_accuracy: 0.4940\n",
      "Epoch 45/50\n",
      "94/94 [==============================] - 1s 14ms/step - loss: 0.6931 - accuracy: 0.5053 - val_loss: 0.6934 - val_accuracy: 0.4940\n",
      "Epoch 46/50\n",
      "94/94 [==============================] - 1s 14ms/step - loss: 0.6931 - accuracy: 0.5053 - val_loss: 0.6934 - val_accuracy: 0.4940\n",
      "Epoch 47/50\n",
      "94/94 [==============================] - 1s 14ms/step - loss: 0.6931 - accuracy: 0.5053 - val_loss: 0.6933 - val_accuracy: 0.4940\n",
      "Epoch 48/50\n",
      "94/94 [==============================] - 1s 14ms/step - loss: 0.6931 - accuracy: 0.5053 - val_loss: 0.6933 - val_accuracy: 0.4940\n",
      "Epoch 49/50\n",
      "94/94 [==============================] - 1s 14ms/step - loss: 0.6931 - accuracy: 0.5053 - val_loss: 0.6934 - val_accuracy: 0.4940\n",
      "Epoch 50/50\n",
      "94/94 [==============================] - 1s 13ms/step - loss: 0.6931 - accuracy: 0.5053 - val_loss: 0.6933 - val_accuracy: 0.4940\n"
     ]
    }
   ],
   "source": [
    "# Training the model\n",
    "history = model.fit(train_img,\n",
    "                    train_y,\n",
    "                    epochs=50,\n",
    "                    batch_size=32,\n",
    "                    validation_data=(val_img, val_y))"
   ]
  },
  {
   "cell_type": "code",
   "execution_count": 37,
   "metadata": {
    "scrolled": false
   },
   "outputs": [
    {
     "data": {
      "image/png": "[encoded data removed]",
      "text/plain": [
       "<Figure size 864x576 with 1 Axes>"
      ]
     },
     "metadata": {
      "needs_background": "light"
     },
     "output_type": "display_data"
    }
   ],
   "source": [
    "model_eval(history)"
   ]
  },
  {
   "cell_type": "code",
   "execution_count": 38,
   "metadata": {},
   "outputs": [
    {
     "name": "stdout",
     "output_type": "stream",
     "text": [
      "Train Loss: 69.309%\n",
      "Train Accuracy: 50.533%\n",
      "Test Loss: 69.308%\n",
      "Test Accuracy: 50.600%\n"
     ]
    }
   ],
   "source": [
    "# A tiny bit better than guessing\n",
    "# Much room for improvement though!\n",
    "model_metrics(model)"
   ]
  },
  {
   "cell_type": "markdown",
   "metadata": {},
   "source": [
    "## First CNN:\n",
    "### Will be replaced with better version soon!"
   ]
  },
  {
   "cell_type": "code",
   "execution_count": null,
   "metadata": {},
   "outputs": [],
   "source": [
    "# Leaving this old model here in case I want to revert back to it later.\n",
    "# It did not perform well initially, though.\n",
    "# Sequential model using convolutions\n",
    "'''\n",
    "model = models.Sequential()\n",
    "model.add(layers.Conv2D(32, (3, 3), activation='relu',\n",
    "                        input_shape=(256 ,256,  3)))\n",
    "model.add(layers.MaxPooling2D((2, 2)))\n",
    "\n",
    "model.add(layers.Conv2D(32, (4, 4), activation='relu'))\n",
    "model.add(layers.MaxPooling2D((2, 2)))\n",
    "\n",
    "model.add(layers.Conv2D(64, (3, 3), activation='relu'))\n",
    "model.add(layers.MaxPooling2D((2, 2)))\n",
    "\n",
    "model.add(layers.Flatten())\n",
    "model.add(layers.Dense(64, activation='relu'))\n",
    "model.add(layers.Dense(1, activation='sigmoid'))\n",
    "\n",
    "model.compile(loss='binary_crossentropy',\n",
    "              optimizer=\"sgd\",\n",
    "              metrics=['acc'])\n",
    "'''"
   ]
  },
  {
   "cell_type": "code",
   "execution_count": 41,
   "metadata": {},
   "outputs": [],
   "source": [
    "# Sequential model using convolutions\n",
    "# Add dropout later\n",
    "# Using 350 x 350 images now, slightly reducing dropout, adding early stopping\n",
    "model = models.Sequential()\n",
    "model.add(layers.Conv2D(64, (3, 3), activation='relu', kernel_initializer = 'he_normal', padding = 'same',\n",
    "                        input_shape=(350, 350,  3)))\n",
    "model.add(layers.MaxPooling2D((2, 2)))\n",
    "\n",
    "model.add(layers.Conv2D(128, (3, 3), kernel_initializer = 'he_normal', activation='relu', padding = 'same'))\n",
    "model.add(layers.Conv2D(128, (3, 3), kernel_initializer = 'he_normal', activation='relu', padding = 'same'))\n",
    "model.add(layers.MaxPooling2D((2, 2)))\n",
    "\n",
    "model.add(layers.Conv2D(256, (3, 3), kernel_initializer = 'he_normal', activation='relu', padding = 'same'))\n",
    "model.add(layers.Conv2D(256, (3, 3), kernel_initializer = 'he_normal', activation='relu', padding = 'same'))\n",
    "model.add(layers.MaxPooling2D((2, 2)))\n",
    "\n",
    "model.add(layers.Flatten())\n",
    "model.add(layers.Dense(500, activation='relu'))\n",
    "model.add(layers.Dropout(.5))\n",
    "model.add(layers.Dense(250, activation='relu'))\n",
    "model.add(layers.Dropout(.5))\n",
    "model.add(layers.Dense(1, activation='sigmoid'))\n",
    "\n",
    "model.compile(loss='binary_crossentropy',\n",
    "              optimizer=\"sgd\",\n",
    "              metrics=['acc'])"
   ]
  },
  {
   "cell_type": "code",
   "execution_count": 43,
   "metadata": {},
   "outputs": [],
   "source": [
    "# Callbacks\n",
    "early_stopping_cb = keras.callbacks.EarlyStopping(patience = 5, restore_best_weights=True)\n",
    "checkpoint_cb = keras.callbacks.ModelCheckpoint('cnn1.h5')"
   ]
  },
  {
   "cell_type": "code",
   "execution_count": 49,
   "metadata": {
    "scrolled": true
   },
   "outputs": [
    {
     "name": "stdout",
     "output_type": "stream",
     "text": [
      "Epoch 1/10\n",
      "157/157 [==============================] - 876s 6s/step - loss: 0.4461 - acc: 0.7950 - val_loss: 0.8675 - val_acc: 0.6320\n",
      "Epoch 2/10\n",
      "157/157 [==============================] - 883s 6s/step - loss: 0.3870 - acc: 0.8360 - val_loss: 0.7979 - val_acc: 0.6347\n",
      "Epoch 3/10\n",
      "157/157 [==============================] - 887s 6s/step - loss: 0.3179 - acc: 0.8706 - val_loss: 1.1788 - val_acc: 0.5333\n",
      "Epoch 4/10\n",
      "157/157 [==============================] - 882s 6s/step - loss: 0.2672 - acc: 0.8944 - val_loss: 0.7321 - val_acc: 0.6773\n",
      "Epoch 5/10\n",
      "157/157 [==============================] - 880s 6s/step - loss: 0.3051 - acc: 0.8868 - val_loss: 0.6464 - val_acc: 0.6147\n",
      "Epoch 6/10\n",
      "157/157 [==============================] - 880s 6s/step - loss: 0.3442 - acc: 0.8726 - val_loss: 1.2958 - val_acc: 0.6080\n",
      "Epoch 7/10\n",
      "157/157 [==============================] - 884s 6s/step - loss: 0.1241 - acc: 0.9622 - val_loss: 0.9490 - val_acc: 0.6653\n",
      "Epoch 8/10\n",
      "157/157 [==============================] - 885s 6s/step - loss: 0.0585 - acc: 0.9848 - val_loss: 1.2020 - val_acc: 0.6707\n"
     ]
    }
   ],
   "source": [
    "# batch of 15, 50 ephochs\n",
    "history = model.fit(train_images,\n",
    "                    train_y,\n",
    "                    epochs=35,\n",
    "                    batch_size=32,\n",
    "                    validation_data=(val_images, val_y),\n",
    "                    callbacks = [early_stopping_cb, checkpoint_cb])"
   ]
  },
  {
   "cell_type": "code",
   "execution_count": 50,
   "metadata": {},
   "outputs": [
    {
     "data": {
      "image/png": "[encoded data removed]",
      "text/plain": [
       "<Figure size 864x576 with 1 Axes>"
      ]
     },
     "metadata": {
      "needs_background": "light"
     },
     "output_type": "display_data"
    }
   ],
   "source": [
    "model_eval(history)"
   ]
  },
  {
   "cell_type": "code",
   "execution_count": 51,
   "metadata": {},
   "outputs": [
    {
     "name": "stdout",
     "output_type": "stream",
     "text": [
      "Train Loss: 53.241%\n",
      "Train Accuracy: 79.080%\n",
      "Test Loss: 66.221%\n",
      "Test Accuracy: 59.733%\n"
     ]
    }
   ],
   "source": [
    "cnn_metrics(model)"
   ]
  },
  {
   "cell_type": "code",
   "execution_count": 47,
   "metadata": {},
   "outputs": [],
   "source": [
    "model.save('cnn1.h5')"
   ]
  },
  {
   "cell_type": "markdown",
   "metadata": {},
   "source": [
    "## Neural Network Results:"
   ]
  },
  {
   "cell_type": "markdown",
   "metadata": {},
   "source": [
    "### Accuracy and Precision:"
   ]
  },
  {
   "cell_type": "markdown",
   "metadata": {},
   "source": [
    "### Confusion Matrix:"
   ]
  },
  {
   "cell_type": "markdown",
   "metadata": {},
   "source": [
    "### Other Results:"
   ]
  },
  {
   "cell_type": "markdown",
   "metadata": {},
   "source": [
    "# Future Work:"
   ]
  },
  {
   "cell_type": "markdown",
   "metadata": {},
   "source": [
    "# Conclusion:"
   ]
  },
  {
   "cell_type": "code",
   "execution_count": null,
   "metadata": {},
   "outputs": [],
   "source": []
  }
 ],
 "metadata": {
  "kernelspec": {
   "display_name": "Python 3",
   "language": "python",
   "name": "python3"
  },
  "language_info": {
   "codemirror_mode": {
    "name": "ipython",
    "version": 3
   },
   "file_extension": ".py",
   "mimetype": "text/x-python",
   "name": "python",
   "nbconvert_exporter": "python",
   "pygments_lexer": "ipython3",
   "version": "3.6.9"
  },
  "toc": {
   "base_numbering": 1,
   "nav_menu": {},
   "number_sections": true,
   "sideBar": true,
   "skip_h1_title": false,
   "title_cell": "Table of Contents",
   "title_sidebar": "Contents",
   "toc_cell": false,
   "toc_position": {},
   "toc_section_display": true,
   "toc_window_display": true
  }
 },
 "nbformat": 4,
 "nbformat_minor": 2
}
