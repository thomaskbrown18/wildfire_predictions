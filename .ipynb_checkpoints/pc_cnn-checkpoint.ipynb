{
 "cells": [
  {
   "cell_type": "markdown",
   "metadata": {},
   "source": [
    "# Finding Sites at Risk of Wildfire with Convolutional Neural Networks"
   ]
  },
  {
   "cell_type": "markdown",
   "metadata": {},
   "source": [
    "__Project Description:__ <br>\n",
    "This notebook contains exploratory data analysis and the convolutional neural network model used to predict whether or not a location is susceptible to wildfires.  The data for this exploration consists of roughly 20,000 labeled satellite images. 10,000 of the images are locations which have experienced wildfires, while the other 10,000 have never seen a wildfire before.  The data collection process can be observed in the data collection notebook.  In that notebook, I use the DNR list of wildfire sites and Google Maps API to collect the tens of thousands of images of both wildfire and non-wildfire areas."
   ]
  },
  {
   "cell_type": "markdown",
   "metadata": {},
   "source": [
    "While I was unable to collect satellite imagery of the site a few days before the fire, I believe this will suffice as a proof of concept, especially since areas that experience wildfires often experience them again.  Additionally, Google satellite imagery is around 3 years old on average, so many of the images were taken before recent fires."
   ]
  },
  {
   "cell_type": "markdown",
   "metadata": {},
   "source": [
    "Note: This notebook was created separately for the CNN alone in order to tune the network on a more powerful computer.  The other work was done on a mac with more of the standard data science packages installed."
   ]
  },
  {
   "cell_type": "markdown",
   "metadata": {},
   "source": [
    "# Importing Libraries:"
   ]
  },
  {
   "cell_type": "code",
   "execution_count": 1,
   "metadata": {},
   "outputs": [],
   "source": [
    "import os\n",
    "import shutil\n",
    "import pandas as pd\n",
    "import numpy as np"
   ]
  },
  {
   "cell_type": "code",
   "execution_count": 2,
   "metadata": {},
   "outputs": [],
   "source": [
    "import requests\n",
    "import random\n",
    "from IPython.display import Image, display"
   ]
  },
  {
   "cell_type": "code",
   "execution_count": 3,
   "metadata": {},
   "outputs": [],
   "source": [
    "import urllib.request\n",
    "from pathlib import Path"
   ]
  },
  {
   "cell_type": "code",
   "execution_count": 4,
   "metadata": {},
   "outputs": [],
   "source": [
    "import keras\n",
    "from keras.models import Sequential\n",
    "from keras.layers import Dense, Conv2D , MaxPool2D , Flatten , Dropout , BatchNormalization\n",
    "from keras.preprocessing.image import ImageDataGenerator\n",
    "from sklearn.model_selection import train_test_split\n",
    "from sklearn.metrics import classification_report,confusion_matrix\n",
    "from keras.callbacks import ReduceLROnPlateau\n",
    "from keras.preprocessing.image import ImageDataGenerator, array_to_img, img_to_array, load_img\n",
    "from keras import models\n",
    "from keras import layers\n",
    "from keras import initializers\n",
    "\n",
    "from sklearn.metrics import precision_score, recall_score, confusion_matrix, classification_report, accuracy_score, f1_score"
   ]
  },
  {
   "cell_type": "code",
   "execution_count": 5,
   "metadata": {},
   "outputs": [],
   "source": [
    "import PIL\n",
    "from PIL import Image\n",
    "\n",
    "# Other\n",
    "import scipy\n",
    "from scipy import ndimage\n",
    "\n",
    "# Shows all columns\n",
    "pd.set_option('display.max_columns', None)\n",
    "\n",
    "# Turning off warnings\n",
    "import warnings\n",
    "warnings.filterwarnings('ignore')"
   ]
  },
  {
   "cell_type": "code",
   "execution_count": 6,
   "metadata": {},
   "outputs": [
    {
     "data": {
      "text/plain": [
       "'\\nimport plotly.express as px\\nimport scikitplot as skplt\\nimport folium \\n\\n'"
      ]
     },
     "execution_count": 6,
     "metadata": {},
     "output_type": "execute_result"
    }
   ],
   "source": [
    "import matplotlib.pyplot as plt\n",
    "from matplotlib import image\n",
    "%matplotlib inline\n",
    "\n",
    "# Plots and Graphs\n",
    "import seaborn as sns"
   ]
  },
  {
   "cell_type": "markdown",
   "metadata": {},
   "source": [
    "# Importing Data:"
   ]
  },
  {
   "cell_type": "markdown",
   "metadata": {},
   "source": [
    "Source: Washington State DNR [link](https://geo.wa.gov/datasets/wadnr::dnr-fire-statistics-2008-present-1/data?geometry=-126.579%2C45.325%2C-111.143%2C47.964&orderBy=FIRE_RGE_WHOLE_NO&orderByAsc=false&selectedAttribute=ACRES_BURNED)"
   ]
  },
  {
   "cell_type": "code",
   "execution_count": 7,
   "metadata": {},
   "outputs": [
    {
     "data": {
      "text/html": [
       "<div>\n",
       "<style scoped>\n",
       "    .dataframe tbody tr th:only-of-type {\n",
       "        vertical-align: middle;\n",
       "    }\n",
       "\n",
       "    .dataframe tbody tr th {\n",
       "        vertical-align: top;\n",
       "    }\n",
       "\n",
       "    .dataframe thead th {\n",
       "        text-align: right;\n",
       "    }\n",
       "</style>\n",
       "<table border=\"1\" class=\"dataframe\">\n",
       "  <thead>\n",
       "    <tr style=\"text-align: right;\">\n",
       "      <th></th>\n",
       "      <th>X</th>\n",
       "      <th>Y</th>\n",
       "      <th>OBJECTID</th>\n",
       "      <th>FIREEVENT_ID</th>\n",
       "      <th>INCIDENT_NO</th>\n",
       "      <th>INCIDENT_NM</th>\n",
       "      <th>INCIDENT_ID</th>\n",
       "      <th>COUNTY_LABEL_NM</th>\n",
       "      <th>FIRE_TWP_WHOLE_NO</th>\n",
       "      <th>FIRE_TWP_FRACT_NO</th>\n",
       "      <th>FIRE_RGE_WHOLE_NO</th>\n",
       "      <th>FIRE_RGE_FRACT_NO</th>\n",
       "      <th>FIRE_RGE_DIR_FLG</th>\n",
       "      <th>FIRE_SECT_NO</th>\n",
       "      <th>SITE_ELEV</th>\n",
       "      <th>FIREGCAUSE_LABEL_NM</th>\n",
       "      <th>FIRESCAUSE_LABEL_NM</th>\n",
       "      <th>BURNESCAPE_RSN_LABEL_NM</th>\n",
       "      <th>ACRES_BURNED</th>\n",
       "      <th>START_DT</th>\n",
       "      <th>START_TM</th>\n",
       "      <th>DSCVR_DT</th>\n",
       "      <th>DSCVR_TM</th>\n",
       "      <th>CONTROL_DT</th>\n",
       "      <th>CONTROL_TM</th>\n",
       "      <th>FIRE_OUT_DT</th>\n",
       "      <th>FIRE_OUT_TM</th>\n",
       "      <th>BURN_MERCH_AREA</th>\n",
       "      <th>BURN_REPROD_AREA</th>\n",
       "      <th>BURN_NONSTOCK_AREA</th>\n",
       "      <th>FIREEVNT_CLASS_CD</th>\n",
       "      <th>FIREEVNT_CLASS_LABEL_NM</th>\n",
       "      <th>SECTION_SUBDIV_PTS_ID</th>\n",
       "      <th>LAT_COORD</th>\n",
       "      <th>LON_COORD</th>\n",
       "      <th>RES_ORDER_NO</th>\n",
       "      <th>NON_DNR_RES_ORDER_NO</th>\n",
       "      <th>START_OWNER_AGENCY_NM</th>\n",
       "      <th>START_JURISDICTION_AGENCY_NM</th>\n",
       "      <th>PROTECTION_TYPE</th>\n",
       "      <th>REGION_NAME</th>\n",
       "    </tr>\n",
       "  </thead>\n",
       "  <tbody>\n",
       "    <tr>\n",
       "      <th>0</th>\n",
       "      <td>-1.368122e+07</td>\n",
       "      <td>5.810891e+06</td>\n",
       "      <td>3985</td>\n",
       "      <td>55238</td>\n",
       "      <td>27</td>\n",
       "      <td>COWLITZ</td>\n",
       "      <td>55071</td>\n",
       "      <td>COWLITZ</td>\n",
       "      <td>8</td>\n",
       "      <td>0</td>\n",
       "      <td>2</td>\n",
       "      <td>0</td>\n",
       "      <td>W</td>\n",
       "      <td>11</td>\n",
       "      <td>36.0</td>\n",
       "      <td>Miscellaneou</td>\n",
       "      <td>Fireworks</td>\n",
       "      <td>NaN</td>\n",
       "      <td>0.59</td>\n",
       "      <td>2018/06/12 08:00:00+00</td>\n",
       "      <td>1450</td>\n",
       "      <td>2018/06/12 00:00:00+00</td>\n",
       "      <td>1450.0</td>\n",
       "      <td>2018/06/12 00:00:00+00</td>\n",
       "      <td>1603.0</td>\n",
       "      <td>2018/06/15 00:00:00+00</td>\n",
       "      <td>1058.0</td>\n",
       "      <td>NaN</td>\n",
       "      <td>NaN</td>\n",
       "      <td>NaN</td>\n",
       "      <td>1</td>\n",
       "      <td>Classified</td>\n",
       "      <td>584949</td>\n",
       "      <td>46.190250</td>\n",
       "      <td>-122.900440</td>\n",
       "      <td>WA-PCS-071</td>\n",
       "      <td>NaN</td>\n",
       "      <td>Private</td>\n",
       "      <td>DNR</td>\n",
       "      <td>DNR Protection Non-FFPA under agreement</td>\n",
       "      <td>PACIFIC CASC</td>\n",
       "    </tr>\n",
       "    <tr>\n",
       "      <th>1</th>\n",
       "      <td>-1.359486e+07</td>\n",
       "      <td>6.252866e+06</td>\n",
       "      <td>7748</td>\n",
       "      <td>41518</td>\n",
       "      <td>15</td>\n",
       "      <td>EAGLE VIEW</td>\n",
       "      <td>40765</td>\n",
       "      <td>WHATCOM</td>\n",
       "      <td>39</td>\n",
       "      <td>0</td>\n",
       "      <td>5</td>\n",
       "      <td>0</td>\n",
       "      <td>E</td>\n",
       "      <td>14</td>\n",
       "      <td>NaN</td>\n",
       "      <td>Miscellaneou</td>\n",
       "      <td>Fireworks</td>\n",
       "      <td>NaN</td>\n",
       "      <td>0.10</td>\n",
       "      <td>2015/06/23 08:00:00+00</td>\n",
       "      <td>2350</td>\n",
       "      <td>2015/06/23 00:00:00+00</td>\n",
       "      <td>2320.0</td>\n",
       "      <td>2015/06/24 00:00:00+00</td>\n",
       "      <td>1130.0</td>\n",
       "      <td>2015/06/26 00:00:00+00</td>\n",
       "      <td>1441.0</td>\n",
       "      <td>NaN</td>\n",
       "      <td>0.1</td>\n",
       "      <td>NaN</td>\n",
       "      <td>1</td>\n",
       "      <td>Classified</td>\n",
       "      <td>709058</td>\n",
       "      <td>48.870200</td>\n",
       "      <td>-122.124650</td>\n",
       "      <td>WA-NWS-015</td>\n",
       "      <td>NaN</td>\n",
       "      <td>DNR</td>\n",
       "      <td>DNR</td>\n",
       "      <td>DNR Protection FFPA</td>\n",
       "      <td>NORTHWEST</td>\n",
       "    </tr>\n",
       "    <tr>\n",
       "      <th>2</th>\n",
       "      <td>-1.352744e+07</td>\n",
       "      <td>5.772190e+06</td>\n",
       "      <td>13248</td>\n",
       "      <td>3303</td>\n",
       "      <td>49</td>\n",
       "      <td>Buffalo</td>\n",
       "      <td>3445</td>\n",
       "      <td>KLICKITAT</td>\n",
       "      <td>5</td>\n",
       "      <td>0</td>\n",
       "      <td>10</td>\n",
       "      <td>0</td>\n",
       "      <td>E</td>\n",
       "      <td>2</td>\n",
       "      <td>2800.0</td>\n",
       "      <td>Lightning</td>\n",
       "      <td>None</td>\n",
       "      <td>NaN</td>\n",
       "      <td>0.10</td>\n",
       "      <td>2008/06/30 08:00:00+00</td>\n",
       "      <td>1700</td>\n",
       "      <td>2008/06/30 00:00:00+00</td>\n",
       "      <td>1900.0</td>\n",
       "      <td>2008/06/30 00:00:00+00</td>\n",
       "      <td>2130.0</td>\n",
       "      <td>2008/07/06 00:00:00+00</td>\n",
       "      <td>1536.0</td>\n",
       "      <td>0.10</td>\n",
       "      <td>NaN</td>\n",
       "      <td>NaN</td>\n",
       "      <td>1</td>\n",
       "      <td>Classified</td>\n",
       "      <td>289308</td>\n",
       "      <td>45.949052</td>\n",
       "      <td>-121.519046</td>\n",
       "      <td>WA-SES-180</td>\n",
       "      <td>NaN</td>\n",
       "      <td>DNR</td>\n",
       "      <td>DNR</td>\n",
       "      <td>DNR Protection FFPA</td>\n",
       "      <td>SOUTHEAST</td>\n",
       "    </tr>\n",
       "    <tr>\n",
       "      <th>3</th>\n",
       "      <td>-1.331423e+07</td>\n",
       "      <td>6.109878e+06</td>\n",
       "      <td>11090</td>\n",
       "      <td>56826</td>\n",
       "      <td>395</td>\n",
       "      <td>BRIDGEPORT PARK</td>\n",
       "      <td>56679</td>\n",
       "      <td>OKANOGAN</td>\n",
       "      <td>29</td>\n",
       "      <td>0</td>\n",
       "      <td>26</td>\n",
       "      <td>0</td>\n",
       "      <td>E</td>\n",
       "      <td>18</td>\n",
       "      <td>850.0</td>\n",
       "      <td>Undetermined</td>\n",
       "      <td>None</td>\n",
       "      <td>NaN</td>\n",
       "      <td>20.00</td>\n",
       "      <td>2018/08/18 08:00:00+00</td>\n",
       "      <td>1115</td>\n",
       "      <td>2018/08/18 00:00:00+00</td>\n",
       "      <td>1115.0</td>\n",
       "      <td>2018/08/18 00:00:00+00</td>\n",
       "      <td>1700.0</td>\n",
       "      <td>2018/09/07 00:00:00+00</td>\n",
       "      <td>900.0</td>\n",
       "      <td>NaN</td>\n",
       "      <td>NaN</td>\n",
       "      <td>NaN</td>\n",
       "      <td>1</td>\n",
       "      <td>Classified</td>\n",
       "      <td>977040</td>\n",
       "      <td>48.018100</td>\n",
       "      <td>-119.603620</td>\n",
       "      <td>WA-NES-1959</td>\n",
       "      <td>NaN</td>\n",
       "      <td>Other Government</td>\n",
       "      <td>Bureau of Indian Affairs</td>\n",
       "      <td>DNR Protection FFPA</td>\n",
       "      <td>NORTHEAST</td>\n",
       "    </tr>\n",
       "    <tr>\n",
       "      <th>4</th>\n",
       "      <td>-1.338846e+07</td>\n",
       "      <td>5.964931e+06</td>\n",
       "      <td>11336</td>\n",
       "      <td>41132</td>\n",
       "      <td>56</td>\n",
       "      <td>Caribou Drainage</td>\n",
       "      <td>40345</td>\n",
       "      <td>KITTITAS</td>\n",
       "      <td>19</td>\n",
       "      <td>0</td>\n",
       "      <td>20</td>\n",
       "      <td>0</td>\n",
       "      <td>E</td>\n",
       "      <td>13</td>\n",
       "      <td>4200.0</td>\n",
       "      <td>Under Invest</td>\n",
       "      <td>Under Invest</td>\n",
       "      <td>NaN</td>\n",
       "      <td>0.97</td>\n",
       "      <td>2015/06/08 08:00:00+00</td>\n",
       "      <td>1235</td>\n",
       "      <td>2015/06/08 00:00:00+00</td>\n",
       "      <td>1235.0</td>\n",
       "      <td>2015/06/09 00:00:00+00</td>\n",
       "      <td>1100.0</td>\n",
       "      <td>2015/06/12 00:00:00+00</td>\n",
       "      <td>1200.0</td>\n",
       "      <td>0.97</td>\n",
       "      <td>NaN</td>\n",
       "      <td>NaN</td>\n",
       "      <td>1</td>\n",
       "      <td>Classified</td>\n",
       "      <td>404548</td>\n",
       "      <td>47.139845</td>\n",
       "      <td>-120.270537</td>\n",
       "      <td>WA-SES-191</td>\n",
       "      <td>NaN</td>\n",
       "      <td>DNR</td>\n",
       "      <td>DNR</td>\n",
       "      <td>DNR Protection FFPA</td>\n",
       "      <td>SOUTHEAST</td>\n",
       "    </tr>\n",
       "  </tbody>\n",
       "</table>\n",
       "</div>"
      ],
      "text/plain": [
       "              X             Y  OBJECTID  FIREEVENT_ID  INCIDENT_NO  \\\n",
       "0 -1.368122e+07  5.810891e+06      3985         55238           27   \n",
       "1 -1.359486e+07  6.252866e+06      7748         41518           15   \n",
       "2 -1.352744e+07  5.772190e+06     13248          3303           49   \n",
       "3 -1.331423e+07  6.109878e+06     11090         56826          395   \n",
       "4 -1.338846e+07  5.964931e+06     11336         41132           56   \n",
       "\n",
       "        INCIDENT_NM  INCIDENT_ID COUNTY_LABEL_NM  FIRE_TWP_WHOLE_NO  \\\n",
       "0           COWLITZ        55071         COWLITZ                  8   \n",
       "1        EAGLE VIEW        40765         WHATCOM                 39   \n",
       "2           Buffalo         3445       KLICKITAT                  5   \n",
       "3   BRIDGEPORT PARK        56679        OKANOGAN                 29   \n",
       "4  Caribou Drainage        40345        KITTITAS                 19   \n",
       "\n",
       "   FIRE_TWP_FRACT_NO  FIRE_RGE_WHOLE_NO  FIRE_RGE_FRACT_NO FIRE_RGE_DIR_FLG  \\\n",
       "0                  0                  2                  0                W   \n",
       "1                  0                  5                  0                E   \n",
       "2                  0                 10                  0                E   \n",
       "3                  0                 26                  0                E   \n",
       "4                  0                 20                  0                E   \n",
       "\n",
       "   FIRE_SECT_NO  SITE_ELEV FIREGCAUSE_LABEL_NM FIRESCAUSE_LABEL_NM  \\\n",
       "0            11       36.0        Miscellaneou           Fireworks   \n",
       "1            14        NaN        Miscellaneou           Fireworks   \n",
       "2             2     2800.0           Lightning                None   \n",
       "3            18      850.0        Undetermined                None   \n",
       "4            13     4200.0        Under Invest        Under Invest   \n",
       "\n",
       "  BURNESCAPE_RSN_LABEL_NM  ACRES_BURNED                START_DT  START_TM  \\\n",
       "0                     NaN          0.59  2018/06/12 08:00:00+00      1450   \n",
       "1                     NaN          0.10  2015/06/23 08:00:00+00      2350   \n",
       "2                     NaN          0.10  2008/06/30 08:00:00+00      1700   \n",
       "3                     NaN         20.00  2018/08/18 08:00:00+00      1115   \n",
       "4                     NaN          0.97  2015/06/08 08:00:00+00      1235   \n",
       "\n",
       "                 DSCVR_DT  DSCVR_TM              CONTROL_DT  CONTROL_TM  \\\n",
       "0  2018/06/12 00:00:00+00    1450.0  2018/06/12 00:00:00+00      1603.0   \n",
       "1  2015/06/23 00:00:00+00    2320.0  2015/06/24 00:00:00+00      1130.0   \n",
       "2  2008/06/30 00:00:00+00    1900.0  2008/06/30 00:00:00+00      2130.0   \n",
       "3  2018/08/18 00:00:00+00    1115.0  2018/08/18 00:00:00+00      1700.0   \n",
       "4  2015/06/08 00:00:00+00    1235.0  2015/06/09 00:00:00+00      1100.0   \n",
       "\n",
       "              FIRE_OUT_DT  FIRE_OUT_TM  BURN_MERCH_AREA  BURN_REPROD_AREA  \\\n",
       "0  2018/06/15 00:00:00+00       1058.0              NaN               NaN   \n",
       "1  2015/06/26 00:00:00+00       1441.0              NaN               0.1   \n",
       "2  2008/07/06 00:00:00+00       1536.0             0.10               NaN   \n",
       "3  2018/09/07 00:00:00+00        900.0              NaN               NaN   \n",
       "4  2015/06/12 00:00:00+00       1200.0             0.97               NaN   \n",
       "\n",
       "   BURN_NONSTOCK_AREA  FIREEVNT_CLASS_CD FIREEVNT_CLASS_LABEL_NM  \\\n",
       "0                 NaN                  1              Classified   \n",
       "1                 NaN                  1              Classified   \n",
       "2                 NaN                  1              Classified   \n",
       "3                 NaN                  1              Classified   \n",
       "4                 NaN                  1              Classified   \n",
       "\n",
       "   SECTION_SUBDIV_PTS_ID  LAT_COORD   LON_COORD RES_ORDER_NO  \\\n",
       "0                 584949  46.190250 -122.900440   WA-PCS-071   \n",
       "1                 709058  48.870200 -122.124650   WA-NWS-015   \n",
       "2                 289308  45.949052 -121.519046   WA-SES-180   \n",
       "3                 977040  48.018100 -119.603620  WA-NES-1959   \n",
       "4                 404548  47.139845 -120.270537   WA-SES-191   \n",
       "\n",
       "  NON_DNR_RES_ORDER_NO START_OWNER_AGENCY_NM START_JURISDICTION_AGENCY_NM  \\\n",
       "0                  NaN               Private                          DNR   \n",
       "1                  NaN                   DNR                          DNR   \n",
       "2                  NaN                   DNR                          DNR   \n",
       "3                  NaN      Other Government     Bureau of Indian Affairs   \n",
       "4                  NaN                   DNR                          DNR   \n",
       "\n",
       "                           PROTECTION_TYPE   REGION_NAME  \n",
       "0  DNR Protection Non-FFPA under agreement  PACIFIC CASC  \n",
       "1                      DNR Protection FFPA     NORTHWEST  \n",
       "2                      DNR Protection FFPA     SOUTHEAST  \n",
       "3                      DNR Protection FFPA     NORTHEAST  \n",
       "4                      DNR Protection FFPA     SOUTHEAST  "
      ]
     },
     "execution_count": 7,
     "metadata": {},
     "output_type": "execute_result"
    }
   ],
   "source": [
    "df = pd.read_csv('DNR_Fire_Statistics_2008_-_Present.csv')\n",
    "df = df.sample(frac=1).reset_index(drop=True) # Shuffling the data\n",
    "df.head()"
   ]
  },
  {
   "cell_type": "markdown",
   "metadata": {},
   "source": [
    "## Images:\n",
    "These are examples of the images I pulled using Google's API and the latitude and longitude pairs in the above data frame."
   ]
  },
  {
   "cell_type": "markdown",
   "metadata": {},
   "source": [
    "### Wildfire Area Image Previews:"
   ]
  },
  {
   "cell_type": "markdown",
   "metadata": {},
   "source": [
    "__Image examples:__<br>\n",
    "__Areas with wildfires:__\n",
    "![text](example_images/wf1.jpg)\n",
    "![text](example_images/wf2.jpg)\n",
    "![text](example_images/wf3.jpg)"
   ]
  },
  {
   "cell_type": "markdown",
   "metadata": {},
   "source": [
    "### Non-Wildfire Area Image Previews:"
   ]
  },
  {
   "cell_type": "markdown",
   "metadata": {},
   "source": [
    "__Areas without wildfires:__\n",
    "![text](example_images/nwf1.jpg)\n",
    "![text](example_images/nwf2.jpg)\n",
    "![text](example_images/nwf3.jpg)"
   ]
  },
  {
   "cell_type": "markdown",
   "metadata": {},
   "source": [
    "# Cleaning:"
   ]
  },
  {
   "cell_type": "code",
   "execution_count": 8,
   "metadata": {},
   "outputs": [],
   "source": [
    "# Quick spelling error fixed\n",
    "# Quick fixes, not crucial for the neural network, but nice for consistency  \n",
    "df['FIREGCAUSE_LABEL_NM'] = df['FIREGCAUSE_LABEL_NM'].map(lambda x: 'Misc' \n",
    "                                                          if x == 'Miscellaneou' \n",
    "                                                          else x)"
   ]
  },
  {
   "cell_type": "code",
   "execution_count": 9,
   "metadata": {},
   "outputs": [],
   "source": [
    "# Dealing with dates: \n",
    "df['date'] = pd.to_datetime(df.START_DT)\n",
    "df.date = df.date.dt.strftime('%m/%d/%Y')\n",
    "df['date'] = pd.to_datetime(df.date)\n",
    "# Extracting Month\n",
    "df['month'] = pd.DatetimeIndex(df['date']).month\n",
    "df['year'] = pd.DatetimeIndex(df['date']).year\n",
    "\n",
    "# More relevant to EDA, but keeping the above code in"
   ]
  },
  {
   "cell_type": "markdown",
   "metadata": {},
   "source": [
    "# Neural Network:"
   ]
  },
  {
   "cell_type": "markdown",
   "metadata": {},
   "source": [
    "## Import Images:"
   ]
  },
  {
   "cell_type": "code",
   "execution_count": 10,
   "metadata": {},
   "outputs": [],
   "source": [
    "# Paths - PC:\n",
    "\n",
    "train_folder = r\"C:\\Users\\thoma\\Desktop\\split\\train\"\n",
    "train_wf = r\"C:\\Users\\thoma\\Desktop\\split\\train\\wf\"\n",
    "train_nwf = r\"C:\\Users\\thoma\\Desktop\\split\\train\\nwf\"\n",
    "\n",
    "test_folder = r\"C:\\Users\\thoma\\Desktop\\split\\test\"\n",
    "test_wf = r\"C:\\Users\\thoma\\Desktop\\split\\test\\wf\"\n",
    "test_nwf = r\"C:\\Users\\thoma\\Desktop\\split\\test\\nwf\"\n",
    "\n",
    "val_folder = r\"C:\\Users\\thoma\\Desktop\\split\\val\"\n",
    "val_wf = r\"C:\\Users\\thoma\\Desktop\\split\\val\\wf\"\n",
    "val_nwf = r\"C:\\Users\\thoma\\Desktop\\split\\val\\nwf\""
   ]
  },
  {
   "cell_type": "code",
   "execution_count": 11,
   "metadata": {},
   "outputs": [
    {
     "data": {
      "text/plain": [
       "\"\\n# Paths - mac:\\n# Train \\ntrain_folder = '/Users/Thomas/Desktop/split/train'\\ntrain_wf = '/Users/Thomas/Desktop/split/train/wf'\\ntrain_nwf = '/Users/Thomas/Desktop/split/train/nwf'\\n\\n# Test \\ntest_folder = '/Users/Thomas/Desktop/split/test'\\ntest_wf = '/Users/Thomas/Desktop/split/test/wf'\\ntest_nwf = '/Users/Thomas/Desktop/split/test/nwf'\\n\\n# Val \\nval_folder = '/Users/Thomas/Desktop/split/val'\\nval_wf = '/Users/Thomas/Desktop/split/val/wf'\\nval_nwf = '/Users/Thomas/Desktop/split/val/nwf'\\n\""
      ]
     },
     "execution_count": 11,
     "metadata": {},
     "output_type": "execute_result"
    }
   ],
   "source": [
    "# Not using this code for now as I'm running the neural network on the PC\n",
    "'''\n",
    "# Paths - mac:\n",
    "# Train \n",
    "train_folder = '/Users/Thomas/Desktop/split/train'\n",
    "train_wf = '/Users/Thomas/Desktop/split/train/wf'\n",
    "train_nwf = '/Users/Thomas/Desktop/split/train/nwf'\n",
    "\n",
    "# Test \n",
    "test_folder = '/Users/Thomas/Desktop/split/test'\n",
    "test_wf = '/Users/Thomas/Desktop/split/test/wf'\n",
    "test_nwf = '/Users/Thomas/Desktop/split/test/nwf'\n",
    "\n",
    "# Val \n",
    "val_folder = '/Users/Thomas/Desktop/split/val'\n",
    "val_wf = '/Users/Thomas/Desktop/split/val/wf'\n",
    "val_nwf = '/Users/Thomas/Desktop/split/val/nwf'\n",
    "'''"
   ]
  },
  {
   "cell_type": "code",
   "execution_count": 21,
   "metadata": {},
   "outputs": [],
   "source": [
    "from PIL import ImageFile\n",
    "ImageFile.LOAD_TRUNCATED_IMAGES = True"
   ]
  },
  {
   "cell_type": "code",
   "execution_count": 22,
   "metadata": {},
   "outputs": [
    {
     "name": "stdout",
     "output_type": "stream",
     "text": [
      "Found 15511 images belonging to 2 classes.\n",
      "Found 2000 images belonging to 2 classes.\n",
      "Found 2000 images belonging to 2 classes.\n"
     ]
    }
   ],
   "source": [
    "# For now, we're keeping the image size at 350x350\n",
    "train_generator = ImageDataGenerator(rescale=1./255).flow_from_directory(\n",
    "        train_folder, \n",
    "        target_size=(350, 350), batch_size = 9000)\n",
    "\n",
    "test_generator = ImageDataGenerator(rescale=1./255).flow_from_directory(\n",
    "        test_folder, \n",
    "        target_size=(350, 350), batch_size = 750) \n",
    "\n",
    "val_generator = ImageDataGenerator(rescale=1./255).flow_from_directory(\n",
    "        val_folder, \n",
    "        target_size=(350, 350), batch_size = 750)"
   ]
  },
  {
   "cell_type": "code",
   "execution_count": 23,
   "metadata": {},
   "outputs": [],
   "source": [
    "train_images, train_labels = next(train_generator)\n",
    "test_images, test_labels = next(test_generator)\n",
    "val_images, val_labels = next(val_generator)"
   ]
  },
  {
   "cell_type": "code",
   "execution_count": 24,
   "metadata": {},
   "outputs": [
    {
     "name": "stdout",
     "output_type": "stream",
     "text": [
      "Number of training samples: 9000\n",
      "Number of testing samples: 750\n",
      "Number of validation samples: 750\n",
      "train_images shape: (9000, 350, 350, 3)\n",
      "train_labels shape: (9000, 2)\n",
      "test_images shape: (750, 350, 350, 3)\n",
      "test_labels shape: (750, 2)\n",
      "val_images shape: (750, 350, 350, 3)\n",
      "val_labels shape: (750, 2)\n"
     ]
    }
   ],
   "source": [
    "# Explore your dataset again\n",
    "m_train = train_images.shape[0]\n",
    "num_px = train_images.shape[1]\n",
    "m_test = test_images.shape[0]\n",
    "m_val = val_images.shape[0]\n",
    "\n",
    "print (\"Number of training samples: \" + str(m_train))\n",
    "print (\"Number of testing samples: \" + str(m_test))\n",
    "print (\"Number of validation samples: \" + str(m_val))\n",
    "print (\"train_images shape: \" + str(train_images.shape))\n",
    "print (\"train_labels shape: \" + str(train_labels.shape))\n",
    "print (\"test_images shape: \" + str(test_images.shape))\n",
    "print (\"test_labels shape: \" + str(test_labels.shape))\n",
    "print (\"val_images shape: \" + str(val_images.shape))\n",
    "print (\"val_labels shape: \" + str(val_labels.shape))"
   ]
  },
  {
   "cell_type": "code",
   "execution_count": 25,
   "metadata": {},
   "outputs": [
    {
     "name": "stdout",
     "output_type": "stream",
     "text": [
      "(9000, 367500)\n",
      "(750, 367500)\n",
      "(750, 367500)\n"
     ]
    }
   ],
   "source": [
    "# Reshaping to 1d array - for baseline model:\n",
    "train_img = train_images.reshape(train_images.shape[0], -1)\n",
    "test_img = test_images.reshape(test_images.shape[0], -1)\n",
    "val_img = val_images.reshape(val_images.shape[0], -1)\n",
    "\n",
    "print(train_img.shape)\n",
    "print(test_img.shape)\n",
    "print(val_img.shape)"
   ]
  },
  {
   "cell_type": "code",
   "execution_count": 26,
   "metadata": {},
   "outputs": [],
   "source": [
    "# Lablels for the images:\n",
    "train_y = np.reshape(train_labels[:,0], (9000,1))\n",
    "test_y = np.reshape(test_labels[:,0], (750,1))\n",
    "val_y = np.reshape(val_labels[:,0], (750,1))"
   ]
  },
  {
   "cell_type": "markdown",
   "metadata": {},
   "source": [
    "## Baseline Model: \n",
    "### (Basic Artificial Neural Network with Several Dense Layers)"
   ]
  },
  {
   "cell_type": "markdown",
   "metadata": {},
   "source": [
    "### Model Evaluation Formulas:"
   ]
  },
  {
   "cell_type": "code",
   "execution_count": 27,
   "metadata": {},
   "outputs": [],
   "source": [
    "# Graphs\n",
    "def model_eval(history):\n",
    "    pd.DataFrame(history.history).plot(figsize = (12,8)) \n",
    "    plt.grid(True)\n",
    "    plt.gca().set_ylim(0, 1)\n",
    "    plt.show"
   ]
  },
  {
   "cell_type": "code",
   "execution_count": 28,
   "metadata": {},
   "outputs": [],
   "source": [
    "# Metrics\n",
    "def model_metrics(model):\n",
    "    train_acc = model.evaluate(train_img, train_y, verbose=0)\n",
    "    test_acc = model.evaluate(test_img, test_y, verbose=0)\n",
    "    print('Train Loss:', \"{:.3%}\".format(train_acc[0]))\n",
    "    print('Train Accuracy:', \"{:.3%}\".format(train_acc[1]))\n",
    "    print('Test Loss:', \"{:.3%}\".format(test_acc[0]))\n",
    "    print('Test Accuracy:', \"{:.3%}\".format(test_acc[1]))\n",
    "    \n",
    "def cnn_metrics(model):\n",
    "    train_acc = model.evaluate(train_images, train_y, verbose=0)\n",
    "    test_acc = model.evaluate(test_images, test_y, verbose=0)\n",
    "    print('Train Loss:', \"{:.3%}\".format(train_acc[0]))\n",
    "    print('Train Accuracy:', \"{:.3%}\".format(train_acc[1]))\n",
    "    print('Test Loss:', \"{:.3%}\".format(test_acc[0]))\n",
    "    print('Test Accuracy:', \"{:.3%}\".format(test_acc[1]))"
   ]
  },
  {
   "cell_type": "markdown",
   "metadata": {},
   "source": [
    "### Model:"
   ]
  },
  {
   "cell_type": "code",
   "execution_count": null,
   "metadata": {},
   "outputs": [],
   "source": [
    "# First baseline model.  Standard dense layers.\n",
    "model = models.Sequential()\n",
    "model.add(layers.Dense(32, activation='relu', input_shape=(196608,))) # 2 hidden layers\n",
    "model.add(layers.Dense(16, activation='relu'))\n",
    "model.add(layers.Dense(16, activation='relu'))\n",
    "model.add(layers.Dense(1, activation='sigmoid'))\n",
    "\n",
    "model.compile(optimizer='sgd',\n",
    "              loss='binary_crossentropy',\n",
    "              metrics=['accuracy'])"
   ]
  },
  {
   "cell_type": "code",
   "execution_count": null,
   "metadata": {},
   "outputs": [],
   "source": [
    "early_stopping_cb = keras.callbacks.EarlyStopping(patience = 50)"
   ]
  },
  {
   "cell_type": "code",
   "execution_count": null,
   "metadata": {},
   "outputs": [],
   "source": [
    "# Training the model\n",
    "history = model.fit(train_img,\n",
    "                    train_y,\n",
    "                    epochs=50,\n",
    "                    batch_size=32,\n",
    "                    validation_data=(val_img, val_y))"
   ]
  },
  {
   "cell_type": "code",
   "execution_count": null,
   "metadata": {
    "scrolled": false
   },
   "outputs": [],
   "source": [
    "model_eval(history)"
   ]
  },
  {
   "cell_type": "code",
   "execution_count": null,
   "metadata": {},
   "outputs": [],
   "source": [
    "# A tiny bit better than guessing\n",
    "# Much room for improvement though!\n",
    "model_metrics(model)"
   ]
  },
  {
   "cell_type": "markdown",
   "metadata": {},
   "source": [
    "## Convolutional Neural Network:"
   ]
  },
  {
   "cell_type": "markdown",
   "metadata": {},
   "source": [
    "For this project, I chose to use a convolutional neural network. It's the industry standard for image recognition as it is able to pick up patterns and distinguish different images from each other. A convolutional neural network works by using filters that scan through images. At first, these filters are randomly oriented, but as the model learns and is refined, the filters begin to pick up patterns like edges, lines, shapes, or even color intensity (in the case of RGB images). I tried several versions of the convolutional neural network, and by the end, I had one that I was satisfied with. "
   ]
  },
  {
   "cell_type": "code",
   "execution_count": 29,
   "metadata": {},
   "outputs": [],
   "source": [
    "# Sequential model using convolutions\n",
    "# Add dropout later\n",
    "# Using 350 x 350 images now, slightly reducing dropout, adding early stopping\n",
    "model = models.Sequential()\n",
    "model.add(layers.Conv2D(64, (3, 3), activation='relu', kernel_initializer = 'he_normal', padding = 'same',\n",
    "                        input_shape=(350, 350,  3)))\n",
    "model.add(layers.MaxPooling2D((2, 2)))\n",
    "\n",
    "model.add(layers.Conv2D(128, (3, 3), kernel_initializer = 'he_normal', activation='relu', padding = 'same'))\n",
    "model.add(layers.Conv2D(128, (3, 3), kernel_initializer = 'he_normal', activation='relu', padding = 'same'))\n",
    "model.add(layers.MaxPooling2D((2, 2)))\n",
    "\n",
    "model.add(layers.Conv2D(256, (3, 3), kernel_initializer = 'he_normal', activation='relu', padding = 'same'))\n",
    "model.add(layers.Conv2D(256, (3, 3), kernel_initializer = 'he_normal', activation='relu', padding = 'same'))\n",
    "model.add(layers.MaxPooling2D((2, 2)))\n",
    "\n",
    "model.add(layers.Flatten())\n",
    "model.add(layers.Dense(500, activation='relu'))\n",
    "model.add(layers.Dropout(.5))\n",
    "model.add(layers.Dense(250, activation='relu'))\n",
    "model.add(layers.Dropout(.5))\n",
    "model.add(layers.Dense(1, activation='sigmoid'))\n",
    "\n",
    "model.compile(loss='binary_crossentropy',\n",
    "              optimizer=\"sgd\",\n",
    "              metrics=['acc'])"
   ]
  },
  {
   "cell_type": "code",
   "execution_count": 30,
   "metadata": {},
   "outputs": [],
   "source": [
    "# Callbacks for early stopping and saving:\n",
    "early_stopping_cb = keras.callbacks.EarlyStopping(patience = 5, restore_best_weights=True)\n",
    "checkpoint_cb = keras.callbacks.ModelCheckpoint('cnn1.h5')"
   ]
  },
  {
   "cell_type": "code",
   "execution_count": 31,
   "metadata": {
    "scrolled": true
   },
   "outputs": [
    {
     "name": "stdout",
     "output_type": "stream",
     "text": [
      "Epoch 1/40\n",
      "282/282 [==============================] - 1654s 6s/step - loss: 0.6896 - acc: 0.5841 - val_loss: 0.6152 - val_acc: 0.6853\n",
      "Epoch 2/40\n",
      "282/282 [==============================] - 1676s 6s/step - loss: 0.6341 - acc: 0.6386 - val_loss: 0.6025 - val_acc: 0.6720\n",
      "Epoch 3/40\n",
      "282/282 [==============================] - 1677s 6s/step - loss: 0.6158 - acc: 0.6633 - val_loss: 0.5583 - val_acc: 0.7160\n",
      "Epoch 4/40\n",
      "282/282 [==============================] - 1678s 6s/step - loss: 0.6041 - acc: 0.6746 - val_loss: 0.5583 - val_acc: 0.7187\n",
      "Epoch 5/40\n",
      "282/282 [==============================] - 1678s 6s/step - loss: 0.5932 - acc: 0.6871 - val_loss: 0.5481 - val_acc: 0.7293\n",
      "Epoch 6/40\n",
      "282/282 [==============================] - 1678s 6s/step - loss: 0.5802 - acc: 0.6982 - val_loss: 0.5429 - val_acc: 0.7293\n",
      "Epoch 7/40\n",
      "282/282 [==============================] - 1682s 6s/step - loss: 0.5671 - acc: 0.7027 - val_loss: 0.5412 - val_acc: 0.7240\n",
      "Epoch 8/40\n",
      "282/282 [==============================] - 1679s 6s/step - loss: 0.5624 - acc: 0.7111 - val_loss: 0.5447 - val_acc: 0.7293\n",
      "Epoch 9/40\n",
      "282/282 [==============================] - 1678s 6s/step - loss: 0.5475 - acc: 0.7199 - val_loss: 0.5437 - val_acc: 0.7227\n",
      "Epoch 10/40\n",
      "282/282 [==============================] - 1678s 6s/step - loss: 0.5182 - acc: 0.7407 - val_loss: 0.5348 - val_acc: 0.7480\n",
      "Epoch 11/40\n",
      "282/282 [==============================] - 1682s 6s/step - loss: 0.4913 - acc: 0.7659 - val_loss: 0.6314 - val_acc: 0.6613\n",
      "Epoch 12/40\n",
      "282/282 [==============================] - 1680s 6s/step - loss: 0.4472 - acc: 0.7950 - val_loss: 0.5417 - val_acc: 0.7320\n",
      "Epoch 13/40\n",
      "282/282 [==============================] - 1681s 6s/step - loss: 0.3951 - acc: 0.8290 - val_loss: 1.0409 - val_acc: 0.5840\n",
      "Epoch 14/40\n",
      "282/282 [==============================] - 1679s 6s/step - loss: 0.3439 - acc: 0.8554 - val_loss: 0.6108 - val_acc: 0.6747\n",
      "Epoch 15/40\n",
      "282/282 [==============================] - 1680s 6s/step - loss: 0.2934 - acc: 0.8851 - val_loss: 0.5998 - val_acc: 0.7200\n"
     ]
    }
   ],
   "source": [
    "# batch of 15, 50 ephochs\n",
    "history = model.fit(train_images,\n",
    "                    train_y,\n",
    "                    epochs=40,\n",
    "                    batch_size=32,\n",
    "                    validation_data=(val_images, val_y),\n",
    "                    callbacks = [early_stopping_cb, checkpoint_cb])"
   ]
  },
  {
   "cell_type": "code",
   "execution_count": 32,
   "metadata": {},
   "outputs": [
    {
     "data": {
      "image/png": "[encoded data removed]",
      "text/plain": [
       "<Figure size 864x576 with 1 Axes>"
      ]
     },
     "metadata": {
      "needs_background": "light"
     },
     "output_type": "display_data"
    }
   ],
   "source": [
    "model_eval(history)"
   ]
  },
  {
   "cell_type": "code",
   "execution_count": 33,
   "metadata": {},
   "outputs": [
    {
     "name": "stdout",
     "output_type": "stream",
     "text": [
      "Train Loss: 47.887%\n",
      "Train Accuracy: 77.222%\n",
      "Test Loss: 59.313%\n",
      "Test Accuracy: 66.800%\n"
     ]
    }
   ],
   "source": [
    "cnn_metrics(model)"
   ]
  },
  {
   "cell_type": "code",
   "execution_count": 34,
   "metadata": {},
   "outputs": [],
   "source": [
    "model.save('cnn1.h5')"
   ]
  },
  {
   "cell_type": "markdown",
   "metadata": {},
   "source": [
    "## Neural Network Results:"
   ]
  },
  {
   "cell_type": "markdown",
   "metadata": {},
   "source": [
    "Now, I'll test the neural network on a set of images I set aside earlier and we'll take a look at accuracy, recall, and precision for wildfire detection.  Essentially, I'm checking the rate of false positives and false negatives.  For wildfire prevention, a slightly higher rate of false positives is preferable to false negatives."
   ]
  },
  {
   "cell_type": "code",
   "execution_count": 35,
   "metadata": {},
   "outputs": [],
   "source": [
    "# Making the predictions\n",
    "training_preds = model.predict(train_images)\n",
    "test_preds = model.predict(test_images)"
   ]
  },
  {
   "cell_type": "code",
   "execution_count": 36,
   "metadata": {},
   "outputs": [],
   "source": [
    "# Setting a threshold and reorienting the predictions:\n",
    "threshold = .6\n",
    "# Creating a new list\n",
    "test_preds_ii = []\n",
    "# Looping through an appending as a binary value\n",
    "for pred in test_preds:\n",
    "    if pred >= threshold:\n",
    "        test_preds_ii.append([1])\n",
    "    else:\n",
    "        test_preds_ii.append([0])\n",
    "# Changing to a numpy array       \n",
    "test_preds_ii = np.array(test_preds_ii)\n",
    "\n",
    "# Same as above but for the training predictions\n",
    "train_preds_ii = []\n",
    "\n",
    "for pred in training_preds:\n",
    "    if pred >= threshold:\n",
    "        train_preds_ii.append([1])\n",
    "    else:\n",
    "        train_preds_ii.append([0])\n",
    "        \n",
    "train_preds_ii = np.array(train_preds_ii)"
   ]
  },
  {
   "cell_type": "code",
   "execution_count": 37,
   "metadata": {
    "scrolled": false
   },
   "outputs": [],
   "source": [
    "# Creating the confusion matrices\n",
    "conf_mat_train = confusion_matrix(train_y, train_preds_ii)\n",
    "conf_mat_test = confusion_matrix(test_y, test_preds_ii)\n",
    "    \n",
    "# Collecting true positives, true negatives, false positives, and false negatives\n",
    "wf_tp_train = conf_mat_train[0,0]\n",
    "wf_tn_train = conf_mat_train[1,1]\n",
    "wf_fp_train = conf_mat_train[1,0]\n",
    "wf_fn_train = conf_mat_train[0,1]\n",
    "\n",
    "wf_tp_test = conf_mat_test[0,0]\n",
    "wf_tn_test = conf_mat_test[1,1]\n",
    "wf_fp_test = conf_mat_test[1,0]\n",
    "wf_fn_test = conf_mat_test[0,1]\n",
    "\n",
    "# Collecting Precision and Recall for train and test:\n",
    "train_wf_recall = wf_tp_train / (wf_tp_train + wf_fn_train)\n",
    "train_wf_precision = wf_tp_train / (wf_tp_train + wf_fp_train)\n",
    "\n",
    "test_wf_recall = wf_tp_test / (wf_tp_test + wf_fn_test)\n",
    "test_wf_precision = wf_tp_test / (wf_tp_test + wf_fp_test)\n",
    "\n",
    "# Creating functions to show the confusion matrices and other results:\n",
    "def conf_matrix_train():\n",
    "    print ('0 = Wildfire\\n1 = No Wildfire\\n')\n",
    "\n",
    "    # Plotting the first matrix\n",
    "    plt.figure(figsize = (7,6))\n",
    "    sns.heatmap(conf_mat_train, cmap = 'Blues', linecolor = 'black', linewidth = 1, annot = True, fmt = '')\n",
    "    plt.title('Confusion Matrix - Train')\n",
    "    plt.xlabel('Predicted', fontsize = 12)\n",
    "    plt.ylabel('True', fontsize = 12)\n",
    "    plt.show\n",
    "    print('Wildfire Precision - Training:', \"{:.2%}\".format(train_wf_precision))\n",
    "    print('Wildfire Recall - Training:', \"{:.2%}\".format(train_wf_recall))\n",
    "     \n",
    "def conf_matrix_test():\n",
    "    # and the second\n",
    "    print ('0 = Wildfire\\n1 = No Wildfire\\n')\n",
    "    plt.figure(figsize = (7,6))\n",
    "    sns.heatmap(conf_mat_test, cmap = 'Blues', linecolor = 'black', linewidth = 1, annot = True, fmt = '')\n",
    "    plt.title('Confusion Matrix - Train')\n",
    "    plt.xlabel('Predicted', fontsize = 12)\n",
    "    plt.ylabel('True', fontsize = 12)\n",
    "    plt.show\n",
    "    print('Wildfire Precision - Testing:', \"{:.2%}\".format(test_wf_precision))\n",
    "    print('Wildfire Recall - Testing:', \"{:.2%}\".format(test_wf_recall))"
   ]
  },
  {
   "cell_type": "code",
   "execution_count": 38,
   "metadata": {},
   "outputs": [
    {
     "name": "stdout",
     "output_type": "stream",
     "text": [
      "0 = Wildfire\n",
      "1 = No Wildfire\n",
      "\n",
      "Wildfire Precision - Training: 75.86%\n",
      "Wildfire Recall - Training: 79.35%\n"
     ]
    },
    {
     "data": {
      "image/png": "[encoded data removed]",
      "text/plain": [
       "<Figure size 504x432 with 2 Axes>"
      ]
     },
     "metadata": {
      "needs_background": "light"
     },
     "output_type": "display_data"
    }
   ],
   "source": [
    "conf_matrix_train()"
   ]
  },
  {
   "cell_type": "code",
   "execution_count": 39,
   "metadata": {
    "scrolled": false
   },
   "outputs": [
    {
     "name": "stdout",
     "output_type": "stream",
     "text": [
      "0 = Wildfire\n",
      "1 = No Wildfire\n",
      "\n",
      "Wildfire Precision - Testing: 65.67%\n",
      "Wildfire Recall - Testing: 70.40%\n"
     ]
    },
    {
     "data": {
      "image/png": "[encoded data removed]",
      "text/plain": [
       "<Figure size 504x432 with 2 Axes>"
      ]
     },
     "metadata": {
      "needs_background": "light"
     },
     "output_type": "display_data"
    }
   ],
   "source": [
    "conf_matrix_test()"
   ]
  },
  {
   "cell_type": "markdown",
   "metadata": {},
   "source": [
    "## Training Round II:"
   ]
  },
  {
   "cell_type": "code",
   "execution_count": 40,
   "metadata": {},
   "outputs": [
    {
     "name": "stdout",
     "output_type": "stream",
     "text": [
      "Epoch 1/15\n",
      "282/282 [==============================] - 1653s 6s/step - loss: 0.4905 - acc: 0.7628 - val_loss: 0.6010 - val_acc: 0.7373\n",
      "Epoch 2/15\n",
      "282/282 [==============================] - 1680s 6s/step - loss: 0.4476 - acc: 0.7917 - val_loss: 0.5132 - val_acc: 0.7427\n",
      "Epoch 3/15\n",
      "282/282 [==============================] - 1680s 6s/step - loss: 0.4039 - acc: 0.8203 - val_loss: 0.7081 - val_acc: 0.6240\n",
      "Epoch 4/15\n",
      "282/282 [==============================] - 1680s 6s/step - loss: 0.3360 - acc: 0.8598 - val_loss: 0.5498 - val_acc: 0.7093\n",
      "Epoch 5/15\n",
      "282/282 [==============================] - 1683s 6s/step - loss: 0.2780 - acc: 0.8906 - val_loss: 0.6513 - val_acc: 0.7187\n",
      "Epoch 6/15\n",
      "282/282 [==============================] - 1682s 6s/step - loss: 0.2047 - acc: 0.9258 - val_loss: 0.7770 - val_acc: 0.6960\n",
      "Epoch 7/15\n",
      "282/282 [==============================] - 1683s 6s/step - loss: 0.2130 - acc: 0.9226 - val_loss: 1.2231 - val_acc: 0.6293\n"
     ]
    }
   ],
   "source": [
    "history = model.fit(train_images,\n",
    "                    train_y,\n",
    "                    epochs=15,\n",
    "                    batch_size=32,\n",
    "                    validation_data=(val_images, val_y),\n",
    "                    callbacks = [early_stopping_cb, checkpoint_cb])"
   ]
  },
  {
   "cell_type": "code",
   "execution_count": 41,
   "metadata": {},
   "outputs": [
    {
     "data": {
      "image/png": "[encoded data removed]",
      "text/plain": [
       "<Figure size 864x576 with 1 Axes>"
      ]
     },
     "metadata": {
      "needs_background": "light"
     },
     "output_type": "display_data"
    }
   ],
   "source": [
    "model_eval(history)"
   ]
  },
  {
   "cell_type": "code",
   "execution_count": 42,
   "metadata": {},
   "outputs": [
    {
     "name": "stdout",
     "output_type": "stream",
     "text": [
      "Train Loss: 34.051%\n",
      "Train Accuracy: 88.089%\n",
      "Test Loss: 59.079%\n",
      "Test Accuracy: 67.600%\n"
     ]
    }
   ],
   "source": [
    "cnn_metrics(model)"
   ]
  },
  {
   "cell_type": "code",
   "execution_count": 43,
   "metadata": {},
   "outputs": [],
   "source": [
    "training_preds = model.predict(train_images)\n",
    "test_preds = model.predict(test_images)\n",
    "\n",
    "# Setting a threshold and reorienting the predictions:\n",
    "threshold = .6\n",
    "# Creating a new list\n",
    "test_preds_ii = []\n",
    "# Looping through an appending as a binary value\n",
    "for pred in test_preds:\n",
    "    if pred >= threshold:\n",
    "        test_preds_ii.append([1])\n",
    "    else:\n",
    "        test_preds_ii.append([0])\n",
    "# Changing to a numpy array       \n",
    "test_preds_ii = np.array(test_preds_ii)\n",
    "\n",
    "# Same as above but for the training predictions\n",
    "train_preds_ii = []\n",
    "\n",
    "for pred in training_preds:\n",
    "    if pred >= threshold:\n",
    "        train_preds_ii.append([1])\n",
    "    else:\n",
    "        train_preds_ii.append([0])\n",
    "        \n",
    "train_preds_ii = np.array(train_preds_ii)\n",
    "\n",
    "# Creating the confusion matrices\n",
    "conf_mat_train = confusion_matrix(train_y, train_preds_ii)\n",
    "conf_mat_test = confusion_matrix(test_y, test_preds_ii)\n",
    "    \n",
    "# Collecting true positives, true negatives, false positives, and false negatives\n",
    "wf_tp_train = conf_mat_train[0,0]\n",
    "wf_tn_train = conf_mat_train[1,1]\n",
    "wf_fp_train = conf_mat_train[1,0]\n",
    "wf_fn_train = conf_mat_train[0,1]\n",
    "\n",
    "wf_tp_test = conf_mat_test[0,0]\n",
    "wf_tn_test = conf_mat_test[1,1]\n",
    "wf_fp_test = conf_mat_test[1,0]\n",
    "wf_fn_test = conf_mat_test[0,1]\n",
    "\n",
    "# Collecting Precision and Recall for train and test:\n",
    "train_wf_recall = wf_tp_train / (wf_tp_train + wf_fn_train)\n",
    "train_wf_precision = wf_tp_train / (wf_tp_train + wf_fp_train)\n",
    "\n",
    "test_wf_recall = wf_tp_test / (wf_tp_test + wf_fn_test)\n",
    "test_wf_precision = wf_tp_test / (wf_tp_test + wf_fp_test)\n",
    "\n",
    "# Creating functions to show the confusion matrices and other results:\n",
    "def conf_matrix_train():\n",
    "    print ('0 = Wildfire\\n1 = No Wildfire\\n')\n",
    "\n",
    "    # Plotting the first matrix\n",
    "    plt.figure(figsize = (7,6))\n",
    "    sns.heatmap(conf_mat_train, cmap = 'Blues', linecolor = 'black', linewidth = 1, annot = True, fmt = '')\n",
    "    plt.title('Confusion Matrix - Train')\n",
    "    plt.xlabel('Predicted', fontsize = 12)\n",
    "    plt.ylabel('True', fontsize = 12)\n",
    "    plt.show\n",
    "    print('Wildfire Precision - Training:', \"{:.2%}\".format(train_wf_precision))\n",
    "    print('Wildfire Recall - Training:', \"{:.2%}\".format(train_wf_recall))\n",
    "     \n",
    "def conf_matrix_test():\n",
    "    # and the second\n",
    "    print ('0 = Wildfire\\n1 = No Wildfire\\n')\n",
    "    plt.figure(figsize = (7,6))\n",
    "    sns.heatmap(conf_mat_test, cmap = 'Blues', linecolor = 'black', linewidth = 1, annot = True, fmt = '')\n",
    "    plt.title('Confusion Matrix - Train')\n",
    "    plt.xlabel('Predicted', fontsize = 12)\n",
    "    plt.ylabel('True', fontsize = 12)\n",
    "    plt.show\n",
    "    print('Wildfire Precision - Testing:', \"{:.2%}\".format(test_wf_precision))\n",
    "    print('Wildfire Recall - Testing:', \"{:.2%}\".format(test_wf_recall))"
   ]
  },
  {
   "cell_type": "code",
   "execution_count": 44,
   "metadata": {},
   "outputs": [
    {
     "name": "stdout",
     "output_type": "stream",
     "text": [
      "0 = Wildfire\n",
      "1 = No Wildfire\n",
      "\n",
      "Wildfire Precision - Training: 86.47%\n",
      "Wildfire Recall - Training: 88.25%\n"
     ]
    },
    {
     "data": {
      "image/png": "[encoded data removed]",
      "text/plain": [
       "<Figure size 504x432 with 2 Axes>"
      ]
     },
     "metadata": {
      "needs_background": "light"
     },
     "output_type": "display_data"
    }
   ],
   "source": [
    "conf_matrix_train()"
   ]
  },
  {
   "cell_type": "code",
   "execution_count": 45,
   "metadata": {},
   "outputs": [
    {
     "name": "stdout",
     "output_type": "stream",
     "text": [
      "0 = Wildfire\n",
      "1 = No Wildfire\n",
      "\n",
      "Wildfire Precision - Testing: 65.48%\n",
      "Wildfire Recall - Testing: 73.33%\n"
     ]
    },
    {
     "data": {
      "image/png": "[encoded data removed]",
      "text/plain": [
       "<Figure size 504x432 with 2 Axes>"
      ]
     },
     "metadata": {
      "needs_background": "light"
     },
     "output_type": "display_data"
    }
   ],
   "source": [
    "conf_matrix_test()"
   ]
  },
  {
   "cell_type": "code",
   "execution_count": null,
   "metadata": {},
   "outputs": [],
   "source": [
    "model.save('cnn1.h5')"
   ]
  },
  {
   "cell_type": "markdown",
   "metadata": {},
   "source": [
    "# Conclusion:"
   ]
  },
  {
   "cell_type": "markdown",
   "metadata": {},
   "source": [
    "The above model turned out better than I had hoped. It had a high false positive rate rate, especially with the testing set, but given how much of Washington is full of relatively dry forest, I think it's reasonable for the model to recognize these areas at high risk, even if they've never had a wildfire started there. It seems like there was a bit of 'cross-contamination' between the wildfire set and non-wildfire set, given how an area in the non-wildfire set may be at risk of fire, despite it never having been on fire before.\n",
    "\n",
    "In the future, I can revisit this with some new types of data and see if the model performs better. In the long run, I would love to see an improved version of this model put into deployment through state and local governments to keep tabs on their forests through live satellite feeds being analyzed through the neural network.  It would bea  tremendous way to identify new areas at risk and mitigate the risk of fire before it's set.\n",
    "\n",
    "Thanks for checking out the repo, and let me know if you have any questions!\n",
    "\n",
    "-Thomas"
   ]
  }
 ],
 "metadata": {
  "kernelspec": {
   "display_name": "Python 3",
   "language": "python",
   "name": "python3"
  },
  "language_info": {
   "codemirror_mode": {
    "name": "ipython",
    "version": 3
   },
   "file_extension": ".py",
   "mimetype": "text/x-python",
   "name": "python",
   "nbconvert_exporter": "python",
   "pygments_lexer": "ipython3",
   "version": "3.6.9"
  },
  "toc": {
   "base_numbering": 1,
   "nav_menu": {},
   "number_sections": true,
   "sideBar": true,
   "skip_h1_title": false,
   "title_cell": "Table of Contents",
   "title_sidebar": "Contents",
   "toc_cell": false,
   "toc_position": {},
   "toc_section_display": true,
   "toc_window_display": true
  }
 },
 "nbformat": 4,
 "nbformat_minor": 2
}
