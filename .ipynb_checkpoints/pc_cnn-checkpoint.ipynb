{
 "cells": [
  {
   "cell_type": "markdown",
   "metadata": {},
   "source": [
    "# Finding Sites at Risk of Wildfire with Convolutional Neural Networks"
   ]
  },
  {
   "cell_type": "markdown",
   "metadata": {},
   "source": [
    "__Project Description:__ <br>\n",
    "This notebook contains exploratory data analysis and the convolutional neural network model used to predict whether or not a location is susceptible to wildfires.  The data for this exploration consists of roughly 20,000 labeled satellite images. 10,000 of the images are locations which have experienced wildfires, while the other 10,000 have never seen a wildfire before."
   ]
  },
  {
   "cell_type": "markdown",
   "metadata": {},
   "source": [
    "While I was unable to collect satellite imagery of the site a few days before the fire, I believe this will suffice as a proof of concept, especially since areas that experience wildfires often experience them again."
   ]
  },
  {
   "cell_type": "markdown",
   "metadata": {},
   "source": [
    "Note: This notebook was created separately for the CNN alone in order to tune the network on a more powerful computer.  The other work was done on a mac with more of the standard data science packages installed."
   ]
  },
  {
   "cell_type": "markdown",
   "metadata": {},
   "source": [
    "# Importing Libraries:"
   ]
  },
  {
   "cell_type": "code",
   "execution_count": 1,
   "metadata": {},
   "outputs": [],
   "source": [
    "import os\n",
    "import shutil\n",
    "import pandas as pd\n",
    "import numpy as np"
   ]
  },
  {
   "cell_type": "code",
   "execution_count": 2,
   "metadata": {},
   "outputs": [],
   "source": [
    "import requests\n",
    "import random\n",
    "from IPython.display import Image, display"
   ]
  },
  {
   "cell_type": "code",
   "execution_count": 3,
   "metadata": {},
   "outputs": [],
   "source": [
    "import urllib.request"
   ]
  },
  {
   "cell_type": "code",
   "execution_count": 6,
   "metadata": {},
   "outputs": [],
   "source": [
    "import keras\n",
    "from keras.models import Sequential\n",
    "from keras.layers import Dense, Conv2D , MaxPool2D , Flatten , Dropout , BatchNormalization\n",
    "from keras.preprocessing.image import ImageDataGenerator\n",
    "from sklearn.model_selection import train_test_split\n",
    "from sklearn.metrics import classification_report,confusion_matrix\n",
    "from keras.callbacks import ReduceLROnPlateau\n",
    "from keras.preprocessing.image import ImageDataGenerator, array_to_img, img_to_array, load_img\n",
    "from keras import models\n",
    "from keras import layers"
   ]
  },
  {
   "cell_type": "code",
   "execution_count": 7,
   "metadata": {},
   "outputs": [],
   "source": [
    "import PIL\n",
    "from PIL import Image\n",
    "\n",
    "# Other\n",
    "import scipy\n",
    "from scipy import ndimage\n",
    "\n",
    "# Shows all columns\n",
    "pd.set_option('display.max_columns', None)\n",
    "\n",
    "# Turning off warnings\n",
    "import warnings\n",
    "warnings.filterwarnings('ignore')"
   ]
  },
  {
   "cell_type": "code",
   "execution_count": 33,
   "metadata": {},
   "outputs": [
    {
     "data": {
      "text/plain": [
       "'\\n# Plots and Graphs\\nimport seaborn as sns\\nsns.set_theme(style=\"darkgrid\")\\nimport matplotlib.pyplot as plt\\nfrom matplotlib import image\\nimport plotly.express as px\\nimport scikitplot as skplt\\nimport folium \\n%matplotlib inline\\n'"
      ]
     },
     "execution_count": 33,
     "metadata": {},
     "output_type": "execute_result"
    }
   ],
   "source": [
    "import matplotlib.pyplot as plt\n",
    "from matplotlib import image\n",
    "%matplotlib inline\n",
    "\n",
    "# Leaving this alone for now\n",
    "'''\n",
    "# Plots and Graphs\n",
    "import seaborn as sns\n",
    "sns.set_theme(style=\"darkgrid\")\n",
    "import matplotlib.pyplot as plt\n",
    "from matplotlib import image\n",
    "import plotly.express as px\n",
    "import scikitplot as skplt\n",
    "import folium \n",
    "%matplotlib inline\n",
    "'''"
   ]
  },
  {
   "cell_type": "markdown",
   "metadata": {},
   "source": [
    "# Importing Data:"
   ]
  },
  {
   "cell_type": "markdown",
   "metadata": {},
   "source": [
    "Source: Washington State DNR [link](https://geo.wa.gov/datasets/wadnr::dnr-fire-statistics-2008-present-1/data?geometry=-126.579%2C45.325%2C-111.143%2C47.964&orderBy=FIRE_RGE_WHOLE_NO&orderByAsc=false&selectedAttribute=ACRES_BURNED)"
   ]
  },
  {
   "cell_type": "code",
   "execution_count": 9,
   "metadata": {},
   "outputs": [
    {
     "data": {
      "text/html": [
       "<div>\n",
       "<style scoped>\n",
       "    .dataframe tbody tr th:only-of-type {\n",
       "        vertical-align: middle;\n",
       "    }\n",
       "\n",
       "    .dataframe tbody tr th {\n",
       "        vertical-align: top;\n",
       "    }\n",
       "\n",
       "    .dataframe thead th {\n",
       "        text-align: right;\n",
       "    }\n",
       "</style>\n",
       "<table border=\"1\" class=\"dataframe\">\n",
       "  <thead>\n",
       "    <tr style=\"text-align: right;\">\n",
       "      <th></th>\n",
       "      <th>X</th>\n",
       "      <th>Y</th>\n",
       "      <th>OBJECTID</th>\n",
       "      <th>FIREEVENT_ID</th>\n",
       "      <th>INCIDENT_NO</th>\n",
       "      <th>INCIDENT_NM</th>\n",
       "      <th>INCIDENT_ID</th>\n",
       "      <th>COUNTY_LABEL_NM</th>\n",
       "      <th>FIRE_TWP_WHOLE_NO</th>\n",
       "      <th>FIRE_TWP_FRACT_NO</th>\n",
       "      <th>FIRE_RGE_WHOLE_NO</th>\n",
       "      <th>FIRE_RGE_FRACT_NO</th>\n",
       "      <th>FIRE_RGE_DIR_FLG</th>\n",
       "      <th>FIRE_SECT_NO</th>\n",
       "      <th>SITE_ELEV</th>\n",
       "      <th>FIREGCAUSE_LABEL_NM</th>\n",
       "      <th>FIRESCAUSE_LABEL_NM</th>\n",
       "      <th>BURNESCAPE_RSN_LABEL_NM</th>\n",
       "      <th>ACRES_BURNED</th>\n",
       "      <th>START_DT</th>\n",
       "      <th>START_TM</th>\n",
       "      <th>DSCVR_DT</th>\n",
       "      <th>DSCVR_TM</th>\n",
       "      <th>CONTROL_DT</th>\n",
       "      <th>CONTROL_TM</th>\n",
       "      <th>FIRE_OUT_DT</th>\n",
       "      <th>FIRE_OUT_TM</th>\n",
       "      <th>BURN_MERCH_AREA</th>\n",
       "      <th>BURN_REPROD_AREA</th>\n",
       "      <th>BURN_NONSTOCK_AREA</th>\n",
       "      <th>FIREEVNT_CLASS_CD</th>\n",
       "      <th>FIREEVNT_CLASS_LABEL_NM</th>\n",
       "      <th>SECTION_SUBDIV_PTS_ID</th>\n",
       "      <th>LAT_COORD</th>\n",
       "      <th>LON_COORD</th>\n",
       "      <th>RES_ORDER_NO</th>\n",
       "      <th>NON_DNR_RES_ORDER_NO</th>\n",
       "      <th>START_OWNER_AGENCY_NM</th>\n",
       "      <th>START_JURISDICTION_AGENCY_NM</th>\n",
       "      <th>PROTECTION_TYPE</th>\n",
       "      <th>REGION_NAME</th>\n",
       "    </tr>\n",
       "  </thead>\n",
       "  <tbody>\n",
       "    <tr>\n",
       "      <th>0</th>\n",
       "      <td>-1.345543e+07</td>\n",
       "      <td>5.775239e+06</td>\n",
       "      <td>18253</td>\n",
       "      <td>8822</td>\n",
       "      <td>73</td>\n",
       "      <td>Strike 2</td>\n",
       "      <td>8964</td>\n",
       "      <td>KLICKITAT</td>\n",
       "      <td>6</td>\n",
       "      <td>0</td>\n",
       "      <td>15</td>\n",
       "      <td>0</td>\n",
       "      <td>E</td>\n",
       "      <td>36</td>\n",
       "      <td>3000.0</td>\n",
       "      <td>Lightning</td>\n",
       "      <td>None</td>\n",
       "      <td>NaN</td>\n",
       "      <td>0.1</td>\n",
       "      <td>2009/06/25 08:00:00+00</td>\n",
       "      <td>1845</td>\n",
       "      <td>2009/07/25 00:00:00+00</td>\n",
       "      <td>1850.0</td>\n",
       "      <td>2009/07/25 00:00:00+00</td>\n",
       "      <td>2000.0</td>\n",
       "      <td>2009/07/30 00:00:00+00</td>\n",
       "      <td>1310.0</td>\n",
       "      <td>0.1</td>\n",
       "      <td>NaN</td>\n",
       "      <td>NaN</td>\n",
       "      <td>1</td>\n",
       "      <td>Classified</td>\n",
       "      <td>354571</td>\n",
       "      <td>45.968100</td>\n",
       "      <td>-120.872160</td>\n",
       "      <td>WA-SES-647</td>\n",
       "      <td>NaN</td>\n",
       "      <td>Forest Landowner-Industrial</td>\n",
       "      <td>DNR</td>\n",
       "      <td>DNR Protection FFPA</td>\n",
       "      <td>SOUTHEAST</td>\n",
       "    </tr>\n",
       "    <tr>\n",
       "      <th>1</th>\n",
       "      <td>-1.337672e+07</td>\n",
       "      <td>5.997919e+06</td>\n",
       "      <td>13027</td>\n",
       "      <td>50669</td>\n",
       "      <td>29</td>\n",
       "      <td>Spartan</td>\n",
       "      <td>50522</td>\n",
       "      <td>CHELAN</td>\n",
       "      <td>21</td>\n",
       "      <td>0</td>\n",
       "      <td>21</td>\n",
       "      <td>0</td>\n",
       "      <td>E</td>\n",
       "      <td>2</td>\n",
       "      <td>2200.0</td>\n",
       "      <td>Lightning</td>\n",
       "      <td>None</td>\n",
       "      <td>NaN</td>\n",
       "      <td>8727.0</td>\n",
       "      <td>2017/06/26 08:00:00+00</td>\n",
       "      <td>1450</td>\n",
       "      <td>2017/06/26 00:00:00+00</td>\n",
       "      <td>1450.0</td>\n",
       "      <td>2017/07/09 00:00:00+00</td>\n",
       "      <td>1720.0</td>\n",
       "      <td>2017/07/09 00:00:00+00</td>\n",
       "      <td>1720.0</td>\n",
       "      <td>NaN</td>\n",
       "      <td>NaN</td>\n",
       "      <td>NaN</td>\n",
       "      <td>1</td>\n",
       "      <td>Classified</td>\n",
       "      <td>135195</td>\n",
       "      <td>47.341031</td>\n",
       "      <td>-120.165112</td>\n",
       "      <td>WA-SES-120</td>\n",
       "      <td>NaN</td>\n",
       "      <td>Private</td>\n",
       "      <td>WA Fire Service</td>\n",
       "      <td>DNR Protection FFPA</td>\n",
       "      <td>SOUTHEAST</td>\n",
       "    </tr>\n",
       "    <tr>\n",
       "      <th>2</th>\n",
       "      <td>-1.355506e+07</td>\n",
       "      <td>5.999056e+06</td>\n",
       "      <td>667</td>\n",
       "      <td>51620</td>\n",
       "      <td>70</td>\n",
       "      <td>MIDDLE FORK</td>\n",
       "      <td>51473</td>\n",
       "      <td>KING</td>\n",
       "      <td>22</td>\n",
       "      <td>0</td>\n",
       "      <td>8</td>\n",
       "      <td>0</td>\n",
       "      <td>E</td>\n",
       "      <td>34</td>\n",
       "      <td>2095.0</td>\n",
       "      <td>Recreation</td>\n",
       "      <td>Other</td>\n",
       "      <td>NaN</td>\n",
       "      <td>0.1</td>\n",
       "      <td>2017/08/12 08:00:00+00</td>\n",
       "      <td>1428</td>\n",
       "      <td>2017/08/12 00:00:00+00</td>\n",
       "      <td>1428.0</td>\n",
       "      <td>2017/08/12 00:00:00+00</td>\n",
       "      <td>1700.0</td>\n",
       "      <td>2017/10/01 00:00:00+00</td>\n",
       "      <td>855.0</td>\n",
       "      <td>NaN</td>\n",
       "      <td>NaN</td>\n",
       "      <td>NaN</td>\n",
       "      <td>1</td>\n",
       "      <td>Classified</td>\n",
       "      <td>875973</td>\n",
       "      <td>47.347960</td>\n",
       "      <td>-121.767150</td>\n",
       "      <td>WA-SPS-0116</td>\n",
       "      <td>NaN</td>\n",
       "      <td>Other Government</td>\n",
       "      <td>DNR</td>\n",
       "      <td>DNR Protection FFPA</td>\n",
       "      <td>SO PUGET</td>\n",
       "    </tr>\n",
       "    <tr>\n",
       "      <th>3</th>\n",
       "      <td>-1.310755e+07</td>\n",
       "      <td>6.070216e+06</td>\n",
       "      <td>10994</td>\n",
       "      <td>3584</td>\n",
       "      <td>162</td>\n",
       "      <td>PREWETT ROAD</td>\n",
       "      <td>3726</td>\n",
       "      <td>SPOKANE</td>\n",
       "      <td>26</td>\n",
       "      <td>0</td>\n",
       "      <td>40</td>\n",
       "      <td>0</td>\n",
       "      <td>E</td>\n",
       "      <td>3</td>\n",
       "      <td>2000.0</td>\n",
       "      <td>Miscellaneou</td>\n",
       "      <td>Power Line</td>\n",
       "      <td>NaN</td>\n",
       "      <td>23.0</td>\n",
       "      <td>2008/07/10 08:00:00+00</td>\n",
       "      <td>1905</td>\n",
       "      <td>2008/07/10 00:00:00+00</td>\n",
       "      <td>1907.0</td>\n",
       "      <td>2008/07/11 00:00:00+00</td>\n",
       "      <td>800.0</td>\n",
       "      <td>2008/07/26 00:00:00+00</td>\n",
       "      <td>1302.0</td>\n",
       "      <td>7.0</td>\n",
       "      <td>NaN</td>\n",
       "      <td>NaN</td>\n",
       "      <td>1</td>\n",
       "      <td>Classified</td>\n",
       "      <td>107202</td>\n",
       "      <td>47.779290</td>\n",
       "      <td>-117.747080</td>\n",
       "      <td>WA-NES-410</td>\n",
       "      <td>NaN</td>\n",
       "      <td>Private</td>\n",
       "      <td>DNR</td>\n",
       "      <td>DNR Protection FFPA</td>\n",
       "      <td>NORTHEAST</td>\n",
       "    </tr>\n",
       "    <tr>\n",
       "      <th>4</th>\n",
       "      <td>-1.333602e+07</td>\n",
       "      <td>5.811376e+06</td>\n",
       "      <td>13091</td>\n",
       "      <td>56970</td>\n",
       "      <td>1515</td>\n",
       "      <td>MONTECITO</td>\n",
       "      <td>56823</td>\n",
       "      <td>BENTON</td>\n",
       "      <td>8</td>\n",
       "      <td>0</td>\n",
       "      <td>24</td>\n",
       "      <td>0</td>\n",
       "      <td>E</td>\n",
       "      <td>10</td>\n",
       "      <td>0.0</td>\n",
       "      <td>Undetermined</td>\n",
       "      <td>None</td>\n",
       "      <td>NaN</td>\n",
       "      <td>0.0</td>\n",
       "      <td>2018/06/28 08:00:00+00</td>\n",
       "      <td>148</td>\n",
       "      <td>1970/01/01 00:00:00+00</td>\n",
       "      <td>NaN</td>\n",
       "      <td>1970/01/01 00:00:00+00</td>\n",
       "      <td>NaN</td>\n",
       "      <td>1970/01/01 00:00:00+00</td>\n",
       "      <td>NaN</td>\n",
       "      <td>NaN</td>\n",
       "      <td>NaN</td>\n",
       "      <td>NaN</td>\n",
       "      <td>4</td>\n",
       "      <td>Other Agency</td>\n",
       "      <td>1017108</td>\n",
       "      <td>46.193267</td>\n",
       "      <td>-119.799486</td>\n",
       "      <td>WA-WFS-227</td>\n",
       "      <td>NaN</td>\n",
       "      <td>Private</td>\n",
       "      <td>WA Fire Service</td>\n",
       "      <td>DNR Assist Other Agency</td>\n",
       "      <td>SOUTHEAST</td>\n",
       "    </tr>\n",
       "  </tbody>\n",
       "</table>\n",
       "</div>"
      ],
      "text/plain": [
       "              X             Y  OBJECTID  FIREEVENT_ID  INCIDENT_NO  \\\n",
       "0 -1.345543e+07  5.775239e+06     18253          8822           73   \n",
       "1 -1.337672e+07  5.997919e+06     13027         50669           29   \n",
       "2 -1.355506e+07  5.999056e+06       667         51620           70   \n",
       "3 -1.310755e+07  6.070216e+06     10994          3584          162   \n",
       "4 -1.333602e+07  5.811376e+06     13091         56970         1515   \n",
       "\n",
       "    INCIDENT_NM  INCIDENT_ID COUNTY_LABEL_NM  FIRE_TWP_WHOLE_NO  \\\n",
       "0      Strike 2         8964       KLICKITAT                  6   \n",
       "1       Spartan        50522          CHELAN                 21   \n",
       "2   MIDDLE FORK        51473            KING                 22   \n",
       "3  PREWETT ROAD         3726         SPOKANE                 26   \n",
       "4     MONTECITO        56823          BENTON                  8   \n",
       "\n",
       "   FIRE_TWP_FRACT_NO  FIRE_RGE_WHOLE_NO  FIRE_RGE_FRACT_NO FIRE_RGE_DIR_FLG  \\\n",
       "0                  0                 15                  0                E   \n",
       "1                  0                 21                  0                E   \n",
       "2                  0                  8                  0                E   \n",
       "3                  0                 40                  0                E   \n",
       "4                  0                 24                  0                E   \n",
       "\n",
       "   FIRE_SECT_NO  SITE_ELEV FIREGCAUSE_LABEL_NM FIRESCAUSE_LABEL_NM  \\\n",
       "0            36     3000.0           Lightning                None   \n",
       "1             2     2200.0           Lightning                None   \n",
       "2            34     2095.0          Recreation               Other   \n",
       "3             3     2000.0        Miscellaneou          Power Line   \n",
       "4            10        0.0        Undetermined                None   \n",
       "\n",
       "  BURNESCAPE_RSN_LABEL_NM  ACRES_BURNED                START_DT  START_TM  \\\n",
       "0                     NaN           0.1  2009/06/25 08:00:00+00      1845   \n",
       "1                     NaN        8727.0  2017/06/26 08:00:00+00      1450   \n",
       "2                     NaN           0.1  2017/08/12 08:00:00+00      1428   \n",
       "3                     NaN          23.0  2008/07/10 08:00:00+00      1905   \n",
       "4                     NaN           0.0  2018/06/28 08:00:00+00       148   \n",
       "\n",
       "                 DSCVR_DT  DSCVR_TM              CONTROL_DT  CONTROL_TM  \\\n",
       "0  2009/07/25 00:00:00+00    1850.0  2009/07/25 00:00:00+00      2000.0   \n",
       "1  2017/06/26 00:00:00+00    1450.0  2017/07/09 00:00:00+00      1720.0   \n",
       "2  2017/08/12 00:00:00+00    1428.0  2017/08/12 00:00:00+00      1700.0   \n",
       "3  2008/07/10 00:00:00+00    1907.0  2008/07/11 00:00:00+00       800.0   \n",
       "4  1970/01/01 00:00:00+00       NaN  1970/01/01 00:00:00+00         NaN   \n",
       "\n",
       "              FIRE_OUT_DT  FIRE_OUT_TM  BURN_MERCH_AREA  BURN_REPROD_AREA  \\\n",
       "0  2009/07/30 00:00:00+00       1310.0              0.1               NaN   \n",
       "1  2017/07/09 00:00:00+00       1720.0              NaN               NaN   \n",
       "2  2017/10/01 00:00:00+00        855.0              NaN               NaN   \n",
       "3  2008/07/26 00:00:00+00       1302.0              7.0               NaN   \n",
       "4  1970/01/01 00:00:00+00          NaN              NaN               NaN   \n",
       "\n",
       "   BURN_NONSTOCK_AREA  FIREEVNT_CLASS_CD FIREEVNT_CLASS_LABEL_NM  \\\n",
       "0                 NaN                  1              Classified   \n",
       "1                 NaN                  1              Classified   \n",
       "2                 NaN                  1              Classified   \n",
       "3                 NaN                  1              Classified   \n",
       "4                 NaN                  4            Other Agency   \n",
       "\n",
       "   SECTION_SUBDIV_PTS_ID  LAT_COORD   LON_COORD RES_ORDER_NO  \\\n",
       "0                 354571  45.968100 -120.872160   WA-SES-647   \n",
       "1                 135195  47.341031 -120.165112   WA-SES-120   \n",
       "2                 875973  47.347960 -121.767150  WA-SPS-0116   \n",
       "3                 107202  47.779290 -117.747080   WA-NES-410   \n",
       "4                1017108  46.193267 -119.799486   WA-WFS-227   \n",
       "\n",
       "  NON_DNR_RES_ORDER_NO        START_OWNER_AGENCY_NM  \\\n",
       "0                  NaN  Forest Landowner-Industrial   \n",
       "1                  NaN                      Private   \n",
       "2                  NaN             Other Government   \n",
       "3                  NaN                      Private   \n",
       "4                  NaN                      Private   \n",
       "\n",
       "  START_JURISDICTION_AGENCY_NM          PROTECTION_TYPE REGION_NAME  \n",
       "0                          DNR      DNR Protection FFPA   SOUTHEAST  \n",
       "1              WA Fire Service      DNR Protection FFPA   SOUTHEAST  \n",
       "2                          DNR      DNR Protection FFPA    SO PUGET  \n",
       "3                          DNR      DNR Protection FFPA   NORTHEAST  \n",
       "4              WA Fire Service  DNR Assist Other Agency   SOUTHEAST  "
      ]
     },
     "execution_count": 9,
     "metadata": {},
     "output_type": "execute_result"
    }
   ],
   "source": [
    "df = pd.read_csv('DNR_Fire_Statistics_2008_-_Present.csv')\n",
    "df = df.sample(frac=1).reset_index(drop=True) # Shuffling the data\n",
    "df.head()"
   ]
  },
  {
   "cell_type": "markdown",
   "metadata": {},
   "source": [
    "## Column Descriptions:"
   ]
  },
  {
   "cell_type": "markdown",
   "metadata": {},
   "source": [
    "__Column:__\n",
    "\n",
    "- __X:__                            \n",
    "- __Y:__                              \n",
    "- __OBJECTID:__ Unique ID\n",
    "- __FIREEVENT_ID:__ Unique ID\n",
    "- __INCIDENT_NO:__ Incident Number\n",
    "- __INCIDENT_NM:__ Incident Name (trail or forest area)\n",
    "- __INCIDENT_ID:__ \n",
    "- __COUNTY_LABEL_NM:__ County Name (King, Stevens, etc. . .)          \n",
    "- __FIRE_TWP_WHOLE_NO:__ \n",
    "- __FIRE_TWP_FRACT_NO:__\n",
    "- __FIRE_RGE_WHOLE_NO:__\n",
    "- __FIRE_RGE_FRACT_NO:__\n",
    "- __FIRE_RGE_DIR_FLG:__\n",
    "- __FIRE_SECT_NO:__\n",
    "- __SITE_ELEV:__ Elevation of site\n",
    "- __FIREGCAUSE_LABEL_NM:__ Cause\n",
    "- __FIRESCAUSE_LABEL_NM:__ Secondary cause\n",
    "- __BURNESCAPE_RSN_LABEL_NM:__\n",
    "- __ACRES_BURNED:__ Acres Burned\n",
    "- __START_DT:__ Start Date\n",
    "- __START_TM:__ Start Time\n",
    "- __DSCVR_DT:__ Discovery Date\n",
    "- __DSCVR_TM:__ Discovery Time\n",
    "- __CONTROL_DT:__ Date brought under control\n",
    "- __CONTROL_TM:__ Time brought under control\n",
    "- __FIRE_OUT_DT:__ Date fire was put out\n",
    "- __FIRE_OUT_TM:__ Time fire was put out\n",
    "- __BURN_MERCH_AREA:__\n",
    "- __BURN_REPROD_AREA:__\n",
    "- __BURN_NONSTOCK_AREA:__\n",
    "- __FIREEVNT_CLASS_CD:__\n",
    "- __FIREEVNT_CLASS_LABEL_NM:__ 'Classified' or 'Other Agency'\n",
    "- __SECTION_SUBDIV_PTS_ID:__ \n",
    "- __LAT_COORD:__ Longitude\n",
    "- __LON_COORD:__ Latitude\n",
    "- __RES_ORDER_NO:__  \n",
    "- __NON_DNR_RES_ORDER_NO:__ \n",
    "- __START_OWNER_AGENCY_NM:__ Owner of land where fire started (private, government, DNR, etc. . .)\n",
    "- __START_JURISDICTION_AGENCY_NM:__ Jurisdiction where it started\n",
    "- __PROTECTION_TYPE:__ Type of Protection of area\n",
    "- __REGION_NAME:__  Region"
   ]
  },
  {
   "cell_type": "markdown",
   "metadata": {},
   "source": [
    "## Images:"
   ]
  },
  {
   "cell_type": "markdown",
   "metadata": {},
   "source": [
    "### Wildfire Area Image Previews:"
   ]
  },
  {
   "cell_type": "markdown",
   "metadata": {},
   "source": [
    "__Image examples:__<br>\n",
    "__Areas with wildfires:__\n",
    "![text](example_images/wf1.jpg)\n",
    "![text](example_images/wf2.jpg)\n",
    "![text](example_images/wf3.jpg)"
   ]
  },
  {
   "cell_type": "markdown",
   "metadata": {},
   "source": [
    "### Non-Wildfire Area Image Previews:"
   ]
  },
  {
   "cell_type": "markdown",
   "metadata": {},
   "source": [
    "__Areas without wildfires:__\n",
    "![text](example_images/nwf1.jpg)\n",
    "![text](example_images/nwf2.jpg)\n",
    "![text](example_images/nwf3.jpg)"
   ]
  },
  {
   "cell_type": "markdown",
   "metadata": {},
   "source": [
    "# Cleaning:"
   ]
  },
  {
   "cell_type": "code",
   "execution_count": 10,
   "metadata": {},
   "outputs": [],
   "source": [
    "# Quick spelling error fixed\n",
    "df['FIREGCAUSE_LABEL_NM'] = df['FIREGCAUSE_LABEL_NM'].map(lambda x: 'Misc' \n",
    "                                                          if x == 'Miscellaneou' \n",
    "                                                          else x)"
   ]
  },
  {
   "cell_type": "code",
   "execution_count": 11,
   "metadata": {},
   "outputs": [],
   "source": [
    "# Dealing with dates: \n",
    "df['date'] = pd.to_datetime(df.START_DT)\n",
    "df.date = df.date.dt.strftime('%m/%d/%Y')\n",
    "df['date'] = pd.to_datetime(df.date)\n",
    "# Extracting Month\n",
    "df['month'] = pd.DatetimeIndex(df['date']).month\n",
    "df['year'] = pd.DatetimeIndex(df['date']).year"
   ]
  },
  {
   "cell_type": "markdown",
   "metadata": {},
   "source": [
    "# Neural Network:"
   ]
  },
  {
   "cell_type": "markdown",
   "metadata": {},
   "source": [
    "## Import Images:"
   ]
  },
  {
   "cell_type": "code",
   "execution_count": 35,
   "metadata": {},
   "outputs": [],
   "source": [
    "# Paths:\n",
    "# /Users/Thomas/Desktop/capstone/images/test_wf\n",
    "# /Users/Thomas/Desktop/capstone/images/test_nwf\n",
    "# Images should be 350x350"
   ]
  },
  {
   "cell_type": "markdown",
   "metadata": {},
   "source": [
    "# TEST ZONE:"
   ]
  },
  {
   "cell_type": "code",
   "execution_count": 14,
   "metadata": {},
   "outputs": [],
   "source": [
    "from pathlib import Path"
   ]
  },
  {
   "cell_type": "code",
   "execution_count": 45,
   "metadata": {},
   "outputs": [],
   "source": [
    "# Paths - PC:\n",
    "\n",
    "train_folder = r\"C:\\Users\\thoma\\Desktop\\split\\train\"\n",
    "train_wf = r\"C:\\Users\\thoma\\Desktop\\split\\train\\wf\"\n",
    "train_nwf = r\"C:\\Users\\thoma\\Desktop\\split\\train\\nwf\"\n",
    "\n",
    "test_folder = r\"C:\\Users\\thoma\\Desktop\\split\\test\"\n",
    "test_wf = r\"C:\\Users\\thoma\\Desktop\\split\\test\\wf\"\n",
    "test_nwf = r\"C:\\Users\\thoma\\Desktop\\split\\test\\nwf\"\n",
    "\n",
    "val_folder = r\"C:\\Users\\thoma\\Desktop\\split\\val\"\n",
    "val_wf = r\"C:\\Users\\thoma\\Desktop\\split\\val\\wf\"\n",
    "val_nwf = r\"C:\\Users\\thoma\\Desktop\\split\\val\\nwf\""
   ]
  },
  {
   "cell_type": "code",
   "execution_count": 46,
   "metadata": {},
   "outputs": [
    {
     "data": {
      "text/plain": [
       "\"\\n# Paths - mac:\\n# Train - 15 each\\ntrain_folder = '/Users/Thomas/Desktop/split/train'\\ntrain_wf = '/Users/Thomas/Desktop/split/train/wf'\\ntrain_nwf = '/Users/Thomas/Desktop/split/train/nwf'\\n\\n# Test - 5 each\\ntest_folder = '/Users/Thomas/Desktop/split/test'\\ntest_wf = '/Users/Thomas/Desktop/split/test/wf'\\ntest_nwf = '/Users/Thomas/Desktop/split/test/nwf'\\n\\n# Val - 5 each\\nval_folder = '/Users/Thomas/Desktop/split/val'\\nval_wf = '/Users/Thomas/Desktop/split/val/wf'\\nval_nwf = '/Users/Thomas/Desktop/split/val/nwf'\\n\""
      ]
     },
     "execution_count": 46,
     "metadata": {},
     "output_type": "execute_result"
    }
   ],
   "source": [
    "'''\n",
    "# Paths - mac:\n",
    "# Train - 15 each\n",
    "train_folder = '/Users/Thomas/Desktop/split/train'\n",
    "train_wf = '/Users/Thomas/Desktop/split/train/wf'\n",
    "train_nwf = '/Users/Thomas/Desktop/split/train/nwf'\n",
    "\n",
    "# Test - 5 each\n",
    "test_folder = '/Users/Thomas/Desktop/split/test'\n",
    "test_wf = '/Users/Thomas/Desktop/split/test/wf'\n",
    "test_nwf = '/Users/Thomas/Desktop/split/test/nwf'\n",
    "\n",
    "# Val - 5 each\n",
    "val_folder = '/Users/Thomas/Desktop/split/val'\n",
    "val_wf = '/Users/Thomas/Desktop/split/val/wf'\n",
    "val_nwf = '/Users/Thomas/Desktop/split/val/nwf'\n",
    "'''"
   ]
  },
  {
   "cell_type": "code",
   "execution_count": 47,
   "metadata": {},
   "outputs": [
    {
     "name": "stdout",
     "output_type": "stream",
     "text": [
      "Found 15511 images belonging to 2 classes.\n",
      "Found 2000 images belonging to 2 classes.\n",
      "Found 2000 images belonging to 2 classes.\n"
     ]
    }
   ],
   "source": [
    "# This is turning them into 64x64x3 images\n",
    "# Will be adjusted for final version\n",
    "# If it runs well, try to keep it at 350x350\n",
    "train_generator = ImageDataGenerator(rescale=1./255).flow_from_directory(\n",
    "        train_folder, \n",
    "        target_size=(350, 350), batch_size = 2500)\n",
    "\n",
    "test_generator = ImageDataGenerator(rescale=1./255).flow_from_directory(\n",
    "        test_folder, \n",
    "        target_size=(350, 350), batch_size = 500) \n",
    "\n",
    "val_generator = ImageDataGenerator(rescale=1./255).flow_from_directory(\n",
    "        val_folder, \n",
    "        target_size=(350, 350), batch_size = 500)"
   ]
  },
  {
   "cell_type": "code",
   "execution_count": 48,
   "metadata": {},
   "outputs": [],
   "source": [
    "train_images, train_labels = next(train_generator)\n",
    "test_images, test_labels = next(test_generator)\n",
    "val_images, val_labels = next(val_generator)"
   ]
  },
  {
   "cell_type": "code",
   "execution_count": 49,
   "metadata": {},
   "outputs": [
    {
     "name": "stdout",
     "output_type": "stream",
     "text": [
      "Number of training samples: 2500\n",
      "Number of testing samples: 500\n",
      "Number of validation samples: 500\n",
      "train_images shape: (2500, 350, 350, 3)\n",
      "train_labels shape: (2500, 2)\n",
      "test_images shape: (500, 350, 350, 3)\n",
      "test_labels shape: (500, 2)\n",
      "val_images shape: (500, 350, 350, 3)\n",
      "val_labels shape: (500, 2)\n"
     ]
    }
   ],
   "source": [
    "# Explore your dataset again\n",
    "m_train = train_images.shape[0]\n",
    "num_px = train_images.shape[1]\n",
    "m_test = test_images.shape[0]\n",
    "m_val = val_images.shape[0]\n",
    "\n",
    "print (\"Number of training samples: \" + str(m_train))\n",
    "print (\"Number of testing samples: \" + str(m_test))\n",
    "print (\"Number of validation samples: \" + str(m_val))\n",
    "print (\"train_images shape: \" + str(train_images.shape))\n",
    "print (\"train_labels shape: \" + str(train_labels.shape))\n",
    "print (\"test_images shape: \" + str(test_images.shape))\n",
    "print (\"test_labels shape: \" + str(test_labels.shape))\n",
    "print (\"val_images shape: \" + str(val_images.shape))\n",
    "print (\"val_labels shape: \" + str(val_labels.shape))"
   ]
  },
  {
   "cell_type": "code",
   "execution_count": 50,
   "metadata": {},
   "outputs": [
    {
     "name": "stdout",
     "output_type": "stream",
     "text": [
      "(2500, 367500)\n",
      "(500, 367500)\n",
      "(500, 367500)\n"
     ]
    }
   ],
   "source": [
    "# Reshaping to 1d array:\n",
    "train_img = train_images.reshape(train_images.shape[0], -1)\n",
    "test_img = test_images.reshape(test_images.shape[0], -1)\n",
    "val_img = val_images.reshape(val_images.shape[0], -1)\n",
    "\n",
    "print(train_img.shape)\n",
    "print(test_img.shape)\n",
    "print(val_img.shape)"
   ]
  },
  {
   "cell_type": "code",
   "execution_count": 52,
   "metadata": {},
   "outputs": [],
   "source": [
    "# Lablels for the images:\n",
    "train_y = np.reshape(train_labels[:,0], (2500,1))\n",
    "test_y = np.reshape(test_labels[:,0], (500,1))\n",
    "val_y = np.reshape(val_labels[:,0], (500,1))"
   ]
  },
  {
   "cell_type": "code",
   "execution_count": 42,
   "metadata": {},
   "outputs": [
    {
     "ename": "NameError",
     "evalue": "name 'break_' is not defined",
     "output_type": "error",
     "traceback": [
      "\u001b[0;31m---------------------------------------------------------------------------\u001b[0m",
      "\u001b[0;31mNameError\u001b[0m                                 Traceback (most recent call last)",
      "\u001b[0;32m<ipython-input-42-47b42330e20d>\u001b[0m in \u001b[0;36m<module>\u001b[0;34m\u001b[0m\n\u001b[0;32m----> 1\u001b[0;31m \u001b[0mbreak_\u001b[0m \u001b[0;31m# Stopping here before it runs the neural networks\u001b[0m\u001b[0;34m\u001b[0m\u001b[0;34m\u001b[0m\u001b[0m\n\u001b[0m",
      "\u001b[0;31mNameError\u001b[0m: name 'break_' is not defined"
     ]
    }
   ],
   "source": [
    "break_ # Stopping here before it runs the neural networks"
   ]
  },
  {
   "cell_type": "markdown",
   "metadata": {},
   "source": [
    "## Baseline Model: \n",
    "### (Basic Artificial Neural Network with Several Dense Layers)"
   ]
  },
  {
   "cell_type": "code",
   "execution_count": 53,
   "metadata": {},
   "outputs": [],
   "source": [
    "# Graphs\n",
    "def model_eval(history):\n",
    "    pd.DataFrame(history.history).plot(figsize = (12,8)) \n",
    "    plt.grid(True)\n",
    "    plt.gca().set_ylim(0, 1)\n",
    "    plt.show"
   ]
  },
  {
   "cell_type": "code",
   "execution_count": 54,
   "metadata": {},
   "outputs": [],
   "source": [
    "# Metrics\n",
    "def model_metrics(model):\n",
    "    train_acc = model.evaluate(train_img, train_y, verbose=0)\n",
    "    test_acc = model.evaluate(test_img, test_y, verbose=0)\n",
    "    print('Train Loss:', \"{:.3%}\".format(train_acc[0]))\n",
    "    print('Train Accuracy:', \"{:.3%}\".format(train_acc[1]))\n",
    "    print('Test Loss:', \"{:.3%}\".format(test_acc[0]))\n",
    "    print('Test Accuracy:', \"{:.3%}\".format(test_acc[1]))\n",
    "    \n",
    "def cnn_metrics(model):\n",
    "    train_acc = model.evaluate(train_images, train_y, verbose=0)\n",
    "    test_acc = model.evaluate(test_images, test_y, verbose=0)\n",
    "    print('Train Loss:', \"{:.3%}\".format(train_acc[0]))\n",
    "    print('Train Accuracy:', \"{:.3%}\".format(train_acc[1]))\n",
    "    print('Test Loss:', \"{:.3%}\".format(test_acc[0]))\n",
    "    print('Test Accuracy:', \"{:.3%}\".format(test_acc[1]))"
   ]
  },
  {
   "cell_type": "code",
   "execution_count": 29,
   "metadata": {},
   "outputs": [],
   "source": [
    "# First baseline model.  Standard dense layers.\n",
    "model = models.Sequential()\n",
    "model.add(layers.Dense(32, activation='relu', input_shape=(196608,))) # 2 hidden layers\n",
    "model.add(layers.Dense(16, activation='relu'))\n",
    "model.add(layers.Dense(16, activation='relu'))\n",
    "model.add(layers.Dense(1, activation='sigmoid'))\n",
    "\n",
    "model.compile(optimizer='sgd',\n",
    "              loss='binary_crossentropy',\n",
    "              metrics=['accuracy'])"
   ]
  },
  {
   "cell_type": "code",
   "execution_count": 30,
   "metadata": {},
   "outputs": [],
   "source": [
    "early_stopping_cb = keras.callbacks.EarlyStopping(patience = 50)"
   ]
  },
  {
   "cell_type": "code",
   "execution_count": 36,
   "metadata": {},
   "outputs": [
    {
     "name": "stdout",
     "output_type": "stream",
     "text": [
      "Epoch 1/50\n",
      "94/94 [==============================] - 1s 14ms/step - loss: 0.6932 - accuracy: 0.5053 - val_loss: 0.6933 - val_accuracy: 0.4940\n",
      "Epoch 2/50\n",
      "94/94 [==============================] - 1s 13ms/step - loss: 0.6932 - accuracy: 0.5053 - val_loss: 0.6933 - val_accuracy: 0.4940\n",
      "Epoch 3/50\n",
      "94/94 [==============================] - 1s 14ms/step - loss: 0.6932 - accuracy: 0.5053 - val_loss: 0.6934 - val_accuracy: 0.4940\n",
      "Epoch 4/50\n",
      "94/94 [==============================] - 1s 14ms/step - loss: 0.6932 - accuracy: 0.5053 - val_loss: 0.6933 - val_accuracy: 0.4940\n",
      "Epoch 5/50\n",
      "94/94 [==============================] - 1s 14ms/step - loss: 0.6931 - accuracy: 0.5053 - val_loss: 0.6934 - val_accuracy: 0.4940\n",
      "Epoch 6/50\n",
      "94/94 [==============================] - 1s 14ms/step - loss: 0.6931 - accuracy: 0.5053 - val_loss: 0.6933 - val_accuracy: 0.4940\n",
      "Epoch 7/50\n",
      "94/94 [==============================] - 1s 14ms/step - loss: 0.6932 - accuracy: 0.5053 - val_loss: 0.6933 - val_accuracy: 0.4940\n",
      "Epoch 8/50\n",
      "94/94 [==============================] - 1s 14ms/step - loss: 0.6932 - accuracy: 0.5053 - val_loss: 0.6933 - val_accuracy: 0.4940\n",
      "Epoch 9/50\n",
      "94/94 [==============================] - 1s 14ms/step - loss: 0.6932 - accuracy: 0.5053 - val_loss: 0.6933 - val_accuracy: 0.4940\n",
      "Epoch 10/50\n",
      "94/94 [==============================] - 1s 14ms/step - loss: 0.6931 - accuracy: 0.5053 - val_loss: 0.6933 - val_accuracy: 0.4940\n",
      "Epoch 11/50\n",
      "94/94 [==============================] - 1s 14ms/step - loss: 0.6932 - accuracy: 0.5053 - val_loss: 0.6933 - val_accuracy: 0.4940\n",
      "Epoch 12/50\n",
      "94/94 [==============================] - 1s 14ms/step - loss: 0.6932 - accuracy: 0.5053 - val_loss: 0.6933 - val_accuracy: 0.4940\n",
      "Epoch 13/50\n",
      "94/94 [==============================] - 1s 14ms/step - loss: 0.6931 - accuracy: 0.5053 - val_loss: 0.6933 - val_accuracy: 0.4940\n",
      "Epoch 14/50\n",
      "94/94 [==============================] - 1s 14ms/step - loss: 0.6932 - accuracy: 0.5053 - val_loss: 0.6933 - val_accuracy: 0.4940\n",
      "Epoch 15/50\n",
      "94/94 [==============================] - 1s 14ms/step - loss: 0.6932 - accuracy: 0.5053 - val_loss: 0.6933 - val_accuracy: 0.4940\n",
      "Epoch 16/50\n",
      "94/94 [==============================] - 1s 14ms/step - loss: 0.6931 - accuracy: 0.5053 - val_loss: 0.6933 - val_accuracy: 0.4940\n",
      "Epoch 17/50\n",
      "94/94 [==============================] - 1s 14ms/step - loss: 0.6931 - accuracy: 0.5053 - val_loss: 0.6934 - val_accuracy: 0.4940\n",
      "Epoch 18/50\n",
      "94/94 [==============================] - 1s 14ms/step - loss: 0.6931 - accuracy: 0.5053 - val_loss: 0.6933 - val_accuracy: 0.4940\n",
      "Epoch 19/50\n",
      "94/94 [==============================] - 1s 14ms/step - loss: 0.6931 - accuracy: 0.5053 - val_loss: 0.6934 - val_accuracy: 0.4940\n",
      "Epoch 20/50\n",
      "94/94 [==============================] - 1s 14ms/step - loss: 0.6931 - accuracy: 0.5053 - val_loss: 0.6934 - val_accuracy: 0.4940\n",
      "Epoch 21/50\n",
      "94/94 [==============================] - 1s 14ms/step - loss: 0.6931 - accuracy: 0.5053 - val_loss: 0.6934 - val_accuracy: 0.4940\n",
      "Epoch 22/50\n",
      "94/94 [==============================] - 1s 14ms/step - loss: 0.6931 - accuracy: 0.5053 - val_loss: 0.6933 - val_accuracy: 0.4940\n",
      "Epoch 23/50\n",
      "94/94 [==============================] - 1s 14ms/step - loss: 0.6931 - accuracy: 0.5053 - val_loss: 0.6933 - val_accuracy: 0.4940\n",
      "Epoch 24/50\n",
      "94/94 [==============================] - 1s 14ms/step - loss: 0.6931 - accuracy: 0.5053 - val_loss: 0.6934 - val_accuracy: 0.4940\n",
      "Epoch 25/50\n",
      "94/94 [==============================] - 1s 14ms/step - loss: 0.6931 - accuracy: 0.5053 - val_loss: 0.6933 - val_accuracy: 0.4940\n",
      "Epoch 26/50\n",
      "94/94 [==============================] - 1s 14ms/step - loss: 0.6931 - accuracy: 0.5053 - val_loss: 0.6933 - val_accuracy: 0.4940\n",
      "Epoch 27/50\n",
      "94/94 [==============================] - 1s 14ms/step - loss: 0.6932 - accuracy: 0.5053 - val_loss: 0.6933 - val_accuracy: 0.4940\n",
      "Epoch 28/50\n",
      "94/94 [==============================] - 1s 14ms/step - loss: 0.6931 - accuracy: 0.5053 - val_loss: 0.6933 - val_accuracy: 0.4940\n",
      "Epoch 29/50\n",
      "94/94 [==============================] - 1s 14ms/step - loss: 0.6931 - accuracy: 0.5053 - val_loss: 0.6933 - val_accuracy: 0.4940\n",
      "Epoch 30/50\n",
      "94/94 [==============================] - 1s 14ms/step - loss: 0.6931 - accuracy: 0.5053 - val_loss: 0.6933 - val_accuracy: 0.4940\n",
      "Epoch 31/50\n",
      "94/94 [==============================] - 1s 14ms/step - loss: 0.6932 - accuracy: 0.5053 - val_loss: 0.6933 - val_accuracy: 0.4940\n",
      "Epoch 32/50\n",
      "94/94 [==============================] - 1s 14ms/step - loss: 0.6931 - accuracy: 0.5053 - val_loss: 0.6934 - val_accuracy: 0.4940\n",
      "Epoch 33/50\n",
      "94/94 [==============================] - 1s 14ms/step - loss: 0.6931 - accuracy: 0.5053 - val_loss: 0.6933 - val_accuracy: 0.4940\n",
      "Epoch 34/50\n",
      "94/94 [==============================] - 1s 14ms/step - loss: 0.6931 - accuracy: 0.5053 - val_loss: 0.6933 - val_accuracy: 0.4940\n",
      "Epoch 35/50\n",
      "94/94 [==============================] - 1s 14ms/step - loss: 0.6931 - accuracy: 0.5053 - val_loss: 0.6933 - val_accuracy: 0.4940\n",
      "Epoch 36/50\n",
      "94/94 [==============================] - 1s 14ms/step - loss: 0.6931 - accuracy: 0.5053 - val_loss: 0.6934 - val_accuracy: 0.4940\n",
      "Epoch 37/50\n",
      "94/94 [==============================] - 1s 14ms/step - loss: 0.6932 - accuracy: 0.5053 - val_loss: 0.6933 - val_accuracy: 0.4940\n",
      "Epoch 38/50\n",
      "94/94 [==============================] - 1s 14ms/step - loss: 0.6931 - accuracy: 0.5053 - val_loss: 0.6934 - val_accuracy: 0.4940\n",
      "Epoch 39/50\n",
      "94/94 [==============================] - 1s 14ms/step - loss: 0.6931 - accuracy: 0.5053 - val_loss: 0.6934 - val_accuracy: 0.4940\n",
      "Epoch 40/50\n",
      "94/94 [==============================] - 1s 14ms/step - loss: 0.6931 - accuracy: 0.5053 - val_loss: 0.6933 - val_accuracy: 0.4940\n",
      "Epoch 41/50\n",
      "94/94 [==============================] - 1s 14ms/step - loss: 0.6932 - accuracy: 0.5053 - val_loss: 0.6933 - val_accuracy: 0.4940\n",
      "Epoch 42/50\n",
      "94/94 [==============================] - 1s 14ms/step - loss: 0.6931 - accuracy: 0.5053 - val_loss: 0.6933 - val_accuracy: 0.4940\n",
      "Epoch 43/50\n",
      "94/94 [==============================] - 1s 14ms/step - loss: 0.6931 - accuracy: 0.5053 - val_loss: 0.6933 - val_accuracy: 0.4940\n",
      "Epoch 44/50\n",
      "94/94 [==============================] - 1s 14ms/step - loss: 0.6931 - accuracy: 0.5053 - val_loss: 0.6933 - val_accuracy: 0.4940\n",
      "Epoch 45/50\n",
      "94/94 [==============================] - 1s 14ms/step - loss: 0.6931 - accuracy: 0.5053 - val_loss: 0.6934 - val_accuracy: 0.4940\n",
      "Epoch 46/50\n",
      "94/94 [==============================] - 1s 14ms/step - loss: 0.6931 - accuracy: 0.5053 - val_loss: 0.6934 - val_accuracy: 0.4940\n",
      "Epoch 47/50\n",
      "94/94 [==============================] - 1s 14ms/step - loss: 0.6931 - accuracy: 0.5053 - val_loss: 0.6933 - val_accuracy: 0.4940\n",
      "Epoch 48/50\n",
      "94/94 [==============================] - 1s 14ms/step - loss: 0.6931 - accuracy: 0.5053 - val_loss: 0.6933 - val_accuracy: 0.4940\n",
      "Epoch 49/50\n",
      "94/94 [==============================] - 1s 14ms/step - loss: 0.6931 - accuracy: 0.5053 - val_loss: 0.6934 - val_accuracy: 0.4940\n",
      "Epoch 50/50\n",
      "94/94 [==============================] - 1s 13ms/step - loss: 0.6931 - accuracy: 0.5053 - val_loss: 0.6933 - val_accuracy: 0.4940\n"
     ]
    }
   ],
   "source": [
    "# Training the model\n",
    "history = model.fit(train_img,\n",
    "                    train_y,\n",
    "                    epochs=50,\n",
    "                    batch_size=32,\n",
    "                    validation_data=(val_img, val_y))"
   ]
  },
  {
   "cell_type": "code",
   "execution_count": 37,
   "metadata": {
    "scrolled": false
   },
   "outputs": [
    {
     "data": {
      "image/png": "[encoded data removed]",
      "text/plain": [
       "<Figure size 864x576 with 1 Axes>"
      ]
     },
     "metadata": {
      "needs_background": "light"
     },
     "output_type": "display_data"
    }
   ],
   "source": [
    "model_eval(history)"
   ]
  },
  {
   "cell_type": "code",
   "execution_count": 38,
   "metadata": {},
   "outputs": [
    {
     "name": "stdout",
     "output_type": "stream",
     "text": [
      "Train Loss: 69.309%\n",
      "Train Accuracy: 50.533%\n",
      "Test Loss: 69.308%\n",
      "Test Accuracy: 50.600%\n"
     ]
    }
   ],
   "source": [
    "# A little better than guessing!\n",
    "model_metrics(model)"
   ]
  },
  {
   "cell_type": "markdown",
   "metadata": {},
   "source": [
    "## First CNN:\n",
    "### Will be replaced with better version soon!"
   ]
  },
  {
   "cell_type": "code",
   "execution_count": null,
   "metadata": {},
   "outputs": [],
   "source": [
    "# OLD MODEL, JUST LEAVING FOR REFERENCE\n",
    "# Sequential model using convolutions\n",
    "# Add dropout later\n",
    "'''\n",
    "model = models.Sequential()\n",
    "model.add(layers.Conv2D(32, (3, 3), activation='relu',\n",
    "                        input_shape=(256 ,256,  3)))\n",
    "model.add(layers.MaxPooling2D((2, 2)))\n",
    "\n",
    "model.add(layers.Conv2D(32, (4, 4), activation='relu'))\n",
    "model.add(layers.MaxPooling2D((2, 2)))\n",
    "\n",
    "model.add(layers.Conv2D(64, (3, 3), activation='relu'))\n",
    "model.add(layers.MaxPooling2D((2, 2)))\n",
    "\n",
    "model.add(layers.Flatten())\n",
    "model.add(layers.Dense(64, activation='relu'))\n",
    "model.add(layers.Dense(1, activation='sigmoid'))\n",
    "\n",
    "model.compile(loss='binary_crossentropy',\n",
    "              optimizer=\"sgd\",\n",
    "              metrics=['acc'])\n",
    "'''"
   ]
  },
  {
   "cell_type": "code",
   "execution_count": 56,
   "metadata": {},
   "outputs": [],
   "source": [
    "# Sequential model using convolutions\n",
    "# Add dropout later\n",
    "# Using 350 x 350 images now, slightly reducing dropout, adding early stopping\n",
    "model = models.Sequential()\n",
    "model.add(layers.Conv2D(64, (3, 3), activation='relu',\n",
    "                        input_shape=(350, 350,  3)))\n",
    "model.add(layers.MaxPooling2D((2, 2)))\n",
    "\n",
    "model.add(layers.Conv2D(128, (3, 3), activation='relu'))\n",
    "model.add(layers.Conv2D(128, (3, 3), activation='relu'))\n",
    "model.add(layers.MaxPooling2D((2, 2)))\n",
    "\n",
    "model.add(layers.Conv2D(256, (3, 3), activation='relu'))\n",
    "model.add(layers.Conv2D(256, (3, 3), activation='relu'))\n",
    "model.add(layers.MaxPooling2D((2, 2)))\n",
    "\n",
    "model.add(layers.Flatten())\n",
    "model.add(layers.Dense(128, activation='relu'))\n",
    "model.add(layers.Dropout(.4))\n",
    "model.add(layers.Dense(64, activation='relu'))\n",
    "model.add(layers.Dropout(.4))\n",
    "model.add(layers.Dense(1, activation='sigmoid'))\n",
    "\n",
    "model.compile(loss='binary_crossentropy',\n",
    "              optimizer=\"sgd\",\n",
    "              metrics=['acc'])"
   ]
  },
  {
   "cell_type": "code",
   "execution_count": 57,
   "metadata": {},
   "outputs": [
    {
     "name": "stdout",
     "output_type": "stream",
     "text": [
      "Model: \"sequential_2\"\n",
      "_________________________________________________________________\n",
      "Layer (type)                 Output Shape              Param #   \n",
      "=================================================================\n",
      "conv2d_5 (Conv2D)            (None, 348, 348, 64)      1792      \n",
      "_________________________________________________________________\n",
      "max_pooling2d_3 (MaxPooling2 (None, 174, 174, 64)      0         \n",
      "_________________________________________________________________\n",
      "conv2d_6 (Conv2D)            (None, 172, 172, 128)     73856     \n",
      "_________________________________________________________________\n",
      "conv2d_7 (Conv2D)            (None, 170, 170, 128)     147584    \n",
      "_________________________________________________________________\n",
      "max_pooling2d_4 (MaxPooling2 (None, 85, 85, 128)       0         \n",
      "_________________________________________________________________\n",
      "conv2d_8 (Conv2D)            (None, 83, 83, 256)       295168    \n",
      "_________________________________________________________________\n",
      "conv2d_9 (Conv2D)            (None, 81, 81, 256)       590080    \n",
      "_________________________________________________________________\n",
      "max_pooling2d_5 (MaxPooling2 (None, 40, 40, 256)       0         \n",
      "_________________________________________________________________\n",
      "flatten_1 (Flatten)          (None, 409600)            0         \n",
      "_________________________________________________________________\n",
      "dense_7 (Dense)              (None, 128)               52428928  \n",
      "_________________________________________________________________\n",
      "dropout_2 (Dropout)          (None, 128)               0         \n",
      "_________________________________________________________________\n",
      "dense_8 (Dense)              (None, 64)                8256      \n",
      "_________________________________________________________________\n",
      "dropout_3 (Dropout)          (None, 64)                0         \n",
      "_________________________________________________________________\n",
      "dense_9 (Dense)              (None, 1)                 65        \n",
      "=================================================================\n",
      "Total params: 53,545,729\n",
      "Trainable params: 53,545,729\n",
      "Non-trainable params: 0\n",
      "_________________________________________________________________\n"
     ]
    }
   ],
   "source": [
    "model.summary()"
   ]
  },
  {
   "cell_type": "code",
   "execution_count": 58,
   "metadata": {},
   "outputs": [],
   "source": [
    "# Callbacks\n",
    "early_stopping_cb = keras.callbacks.EarlyStopping(patience = 5)"
   ]
  },
  {
   "cell_type": "code",
   "execution_count": 63,
   "metadata": {
    "scrolled": true
   },
   "outputs": [
    {
     "name": "stdout",
     "output_type": "stream",
     "text": [
      "Epoch 1/30\n",
      "167/167 [==============================] - 420s 3s/step - loss: 0.6562 - acc: 0.6304 - val_loss: 0.6694 - val_acc: 0.5620\n",
      "Epoch 2/30\n",
      "167/167 [==============================] - 440s 3s/step - loss: 0.6523 - acc: 0.6332 - val_loss: 0.6964 - val_acc: 0.5140\n",
      "Epoch 3/30\n",
      "167/167 [==============================] - 443s 3s/step - loss: 0.6446 - acc: 0.6288 - val_loss: 0.6123 - val_acc: 0.6840\n",
      "Epoch 4/30\n",
      "167/167 [==============================] - 443s 3s/step - loss: 0.6337 - acc: 0.6508 - val_loss: 0.6292 - val_acc: 0.6620\n",
      "Epoch 5/30\n",
      "167/167 [==============================] - 440s 3s/step - loss: 0.6277 - acc: 0.6556 - val_loss: 0.6256 - val_acc: 0.6340\n",
      "Epoch 6/30\n",
      "167/167 [==============================] - 443s 3s/step - loss: 0.6249 - acc: 0.6736 - val_loss: 0.6289 - val_acc: 0.6640\n",
      "Epoch 7/30\n",
      "167/167 [==============================] - 440s 3s/step - loss: 0.6090 - acc: 0.6896 - val_loss: 0.6156 - val_acc: 0.7100\n",
      "Epoch 8/30\n",
      "167/167 [==============================] - 445s 3s/step - loss: 0.5961 - acc: 0.6880 - val_loss: 0.5983 - val_acc: 0.7180\n",
      "Epoch 9/30\n",
      "167/167 [==============================] - 441s 3s/step - loss: 0.5926 - acc: 0.6888 - val_loss: 0.6120 - val_acc: 0.6840\n",
      "Epoch 10/30\n",
      "167/167 [==============================] - 437s 3s/step - loss: 0.5758 - acc: 0.7156 - val_loss: 0.6086 - val_acc: 0.6800\n",
      "Epoch 11/30\n",
      "167/167 [==============================] - 437s 3s/step - loss: 0.5563 - acc: 0.7244 - val_loss: 0.6006 - val_acc: 0.6940\n",
      "Epoch 12/30\n",
      "167/167 [==============================] - 442s 3s/step - loss: 0.5346 - acc: 0.7352 - val_loss: 0.6194 - val_acc: 0.6800\n",
      "Epoch 13/30\n",
      "167/167 [==============================] - 445s 3s/step - loss: 0.5071 - acc: 0.7652 - val_loss: 0.6460 - val_acc: 0.6520\n"
     ]
    }
   ],
   "source": [
    "# batch of 15, 50 ephochs\n",
    "history = model.fit(train_images,\n",
    "                    train_y,\n",
    "                    epochs=30,\n",
    "                    batch_size=15,\n",
    "                    validation_data=(val_images, val_y),\n",
    "                    callbacks = [early_stopping_cb])"
   ]
  },
  {
   "cell_type": "code",
   "execution_count": 64,
   "metadata": {},
   "outputs": [
    {
     "data": {
      "image/png": "[encoded data removed]",
      "text/plain": [
       "<Figure size 864x576 with 1 Axes>"
      ]
     },
     "metadata": {
      "needs_background": "light"
     },
     "output_type": "display_data"
    }
   ],
   "source": [
    "model_eval(history)"
   ]
  },
  {
   "cell_type": "code",
   "execution_count": 65,
   "metadata": {},
   "outputs": [
    {
     "name": "stdout",
     "output_type": "stream",
     "text": [
      "Train Loss: 44.325%\n",
      "Train Accuracy: 83.240%\n",
      "Test Loss: 64.734%\n",
      "Test Accuracy: 64.400%\n"
     ]
    }
   ],
   "source": [
    "cnn_metrics(model)"
   ]
  },
  {
   "cell_type": "code",
   "execution_count": 66,
   "metadata": {},
   "outputs": [],
   "source": [
    "model.save('cnn1.h5')"
   ]
  },
  {
   "cell_type": "markdown",
   "metadata": {},
   "source": [
    "# END TEST ZONE:"
   ]
  },
  {
   "cell_type": "markdown",
   "metadata": {},
   "source": [
    "## Baseline CNN:"
   ]
  },
  {
   "cell_type": "markdown",
   "metadata": {},
   "source": [
    "## Deeper CNN:"
   ]
  },
  {
   "cell_type": "code",
   "execution_count": 43,
   "metadata": {},
   "outputs": [],
   "source": [
    "checkpoint_cb = keras.callbacks.ModelCheckpoint('cnn_model.h5')\n",
    "early_stopping_cb = keras.callbacks.EarlyStopping(patience = 10)"
   ]
  },
  {
   "cell_type": "markdown",
   "metadata": {},
   "source": [
    "Use callbacks to save model and use early stopping."
   ]
  },
  {
   "cell_type": "markdown",
   "metadata": {},
   "source": [
    "Review Keras textbook for architecture examples."
   ]
  },
  {
   "cell_type": "markdown",
   "metadata": {},
   "source": [
    "## Neural Network Results:"
   ]
  },
  {
   "cell_type": "markdown",
   "metadata": {},
   "source": [
    "### Accuracy and Precision:"
   ]
  },
  {
   "cell_type": "markdown",
   "metadata": {},
   "source": [
    "### Confusion Matrix:"
   ]
  },
  {
   "cell_type": "markdown",
   "metadata": {},
   "source": [
    "### Other Results:"
   ]
  },
  {
   "cell_type": "markdown",
   "metadata": {},
   "source": [
    "# Future Work:"
   ]
  },
  {
   "cell_type": "markdown",
   "metadata": {},
   "source": [
    "# Conclusion:"
   ]
  },
  {
   "cell_type": "code",
   "execution_count": null,
   "metadata": {},
   "outputs": [],
   "source": []
  }
 ],
 "metadata": {
  "kernelspec": {
   "display_name": "Python 3",
   "language": "python",
   "name": "python3"
  },
  "language_info": {
   "codemirror_mode": {
    "name": "ipython",
    "version": 3
   },
   "file_extension": ".py",
   "mimetype": "text/x-python",
   "name": "python",
   "nbconvert_exporter": "python",
   "pygments_lexer": "ipython3",
   "version": "3.8.3"
  },
  "toc": {
   "base_numbering": 1,
   "nav_menu": {},
   "number_sections": true,
   "sideBar": true,
   "skip_h1_title": false,
   "title_cell": "Table of Contents",
   "title_sidebar": "Contents",
   "toc_cell": false,
   "toc_position": {},
   "toc_section_display": true,
   "toc_window_display": true
  }
 },
 "nbformat": 4,
 "nbformat_minor": 2
}
