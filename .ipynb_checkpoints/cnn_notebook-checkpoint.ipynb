{
 "cells": [
  {
   "cell_type": "markdown",
   "metadata": {},
   "source": [
    "# Convolutional Neural Network"
   ]
  },
  {
   "cell_type": "markdown",
   "metadata": {},
   "source": [
    "__Project Description:__ <br>\n",
    "This notebook contains exploratory data analysis and the convolutional neural network model used to predict whether or not a location is susceptible to wildfires.  The data for this exploration consists of roughly 20,000 labeled satellite images. 10,000 of the images are locations which have experienced wildfires, while the other 10,000 have never seen a wildfire before.  <br>Examples below: "
   ]
  },
  {
   "cell_type": "markdown",
   "metadata": {},
   "source": [
    "While I was unable to collect satellite imagery of the site a few days before the fire, I believe this will suffice as a proof of concept, especially since areas that experience wildfires often experience them again."
   ]
  },
  {
   "cell_type": "markdown",
   "metadata": {},
   "source": [
    "# Importing Libraries:"
   ]
  },
  {
   "cell_type": "code",
   "execution_count": 1,
   "metadata": {},
   "outputs": [],
   "source": [
    "import pandas as pd\n",
    "import numpy as np\n",
    "\n",
    "# Plots and Graphs\n",
    "import seaborn as sns\n",
    "import matplotlib.pyplot as plt\n",
    "import plotly.express as px\n",
    "import scikitplot as skplt\n",
    "import folium \n",
    "%matplotlib inline\n",
    "\n",
    "import requests\n",
    "import random\n",
    "from IPython.display import Image, display\n",
    "\n",
    "# API and Requests\n",
    "import urllib.request\n",
    "\n",
    "# Keras/Tensorflow\n",
    "import keras\n",
    "from keras.models import Sequential\n",
    "from keras.layers import Dense, Conv2D , MaxPool2D , Flatten , Dropout , BatchNormalization\n",
    "from keras.preprocessing.image import ImageDataGenerator\n",
    "from sklearn.model_selection import train_test_split\n",
    "from sklearn.metrics import classification_report,confusion_matrix\n",
    "from keras.callbacks import ReduceLROnPlateau\n",
    "\n",
    "# Shows all columns\n",
    "pd.set_option('display.max_columns', None)\n",
    "\n",
    "# Turning off warnings\n",
    "import warnings\n",
    "warnings.filterwarnings('ignore')"
   ]
  },
  {
   "cell_type": "markdown",
   "metadata": {},
   "source": [
    "# Importing Data:"
   ]
  },
  {
   "cell_type": "code",
   "execution_count": 2,
   "metadata": {},
   "outputs": [
    {
     "data": {
      "text/html": [
       "<div>\n",
       "<style scoped>\n",
       "    .dataframe tbody tr th:only-of-type {\n",
       "        vertical-align: middle;\n",
       "    }\n",
       "\n",
       "    .dataframe tbody tr th {\n",
       "        vertical-align: top;\n",
       "    }\n",
       "\n",
       "    .dataframe thead th {\n",
       "        text-align: right;\n",
       "    }\n",
       "</style>\n",
       "<table border=\"1\" class=\"dataframe\">\n",
       "  <thead>\n",
       "    <tr style=\"text-align: right;\">\n",
       "      <th></th>\n",
       "      <th>X</th>\n",
       "      <th>Y</th>\n",
       "      <th>OBJECTID</th>\n",
       "      <th>FIREEVENT_ID</th>\n",
       "      <th>INCIDENT_NO</th>\n",
       "      <th>INCIDENT_NM</th>\n",
       "      <th>INCIDENT_ID</th>\n",
       "      <th>COUNTY_LABEL_NM</th>\n",
       "      <th>FIRE_TWP_WHOLE_NO</th>\n",
       "      <th>FIRE_TWP_FRACT_NO</th>\n",
       "      <th>FIRE_RGE_WHOLE_NO</th>\n",
       "      <th>FIRE_RGE_FRACT_NO</th>\n",
       "      <th>FIRE_RGE_DIR_FLG</th>\n",
       "      <th>FIRE_SECT_NO</th>\n",
       "      <th>SITE_ELEV</th>\n",
       "      <th>FIREGCAUSE_LABEL_NM</th>\n",
       "      <th>FIRESCAUSE_LABEL_NM</th>\n",
       "      <th>BURNESCAPE_RSN_LABEL_NM</th>\n",
       "      <th>ACRES_BURNED</th>\n",
       "      <th>START_DT</th>\n",
       "      <th>START_TM</th>\n",
       "      <th>DSCVR_DT</th>\n",
       "      <th>DSCVR_TM</th>\n",
       "      <th>CONTROL_DT</th>\n",
       "      <th>CONTROL_TM</th>\n",
       "      <th>FIRE_OUT_DT</th>\n",
       "      <th>FIRE_OUT_TM</th>\n",
       "      <th>BURN_MERCH_AREA</th>\n",
       "      <th>BURN_REPROD_AREA</th>\n",
       "      <th>BURN_NONSTOCK_AREA</th>\n",
       "      <th>FIREEVNT_CLASS_CD</th>\n",
       "      <th>FIREEVNT_CLASS_LABEL_NM</th>\n",
       "      <th>SECTION_SUBDIV_PTS_ID</th>\n",
       "      <th>LAT_COORD</th>\n",
       "      <th>LON_COORD</th>\n",
       "      <th>RES_ORDER_NO</th>\n",
       "      <th>NON_DNR_RES_ORDER_NO</th>\n",
       "      <th>START_OWNER_AGENCY_NM</th>\n",
       "      <th>START_JURISDICTION_AGENCY_NM</th>\n",
       "      <th>PROTECTION_TYPE</th>\n",
       "      <th>REGION_NAME</th>\n",
       "    </tr>\n",
       "  </thead>\n",
       "  <tbody>\n",
       "    <tr>\n",
       "      <td>0</td>\n",
       "      <td>-1.333567e+07</td>\n",
       "      <td>6.191981e+06</td>\n",
       "      <td>1</td>\n",
       "      <td>49996</td>\n",
       "      <td>26</td>\n",
       "      <td>LITTLE PEACOCK</td>\n",
       "      <td>49829</td>\n",
       "      <td>OKANOGAN</td>\n",
       "      <td>35</td>\n",
       "      <td>0</td>\n",
       "      <td>24</td>\n",
       "      <td>0</td>\n",
       "      <td>E</td>\n",
       "      <td>26</td>\n",
       "      <td>2927.0</td>\n",
       "      <td>Recreation</td>\n",
       "      <td>Camper</td>\n",
       "      <td>NaN</td>\n",
       "      <td>0.01</td>\n",
       "      <td>2017/05/28 08:00:00+00</td>\n",
       "      <td>1800</td>\n",
       "      <td>2017/05/29 00:00:00+00</td>\n",
       "      <td>1335.0</td>\n",
       "      <td>2017/05/29 00:00:00+00</td>\n",
       "      <td>1420.0</td>\n",
       "      <td>2017/06/21 00:00:00+00</td>\n",
       "      <td>1328.0</td>\n",
       "      <td>NaN</td>\n",
       "      <td>NaN</td>\n",
       "      <td>NaN</td>\n",
       "      <td>1</td>\n",
       "      <td>Classified</td>\n",
       "      <td>662491</td>\n",
       "      <td>48.509150</td>\n",
       "      <td>-119.796370</td>\n",
       "      <td>NaN</td>\n",
       "      <td>NaN</td>\n",
       "      <td>DNR</td>\n",
       "      <td>DNR</td>\n",
       "      <td>DNR Protection FFPA</td>\n",
       "      <td>NORTHEAST</td>\n",
       "    </tr>\n",
       "    <tr>\n",
       "      <td>1</td>\n",
       "      <td>-1.346035e+07</td>\n",
       "      <td>5.765132e+06</td>\n",
       "      <td>2</td>\n",
       "      <td>50035</td>\n",
       "      <td>7</td>\n",
       "      <td>Turkey Ranch</td>\n",
       "      <td>49868</td>\n",
       "      <td>KLICKITAT</td>\n",
       "      <td>5</td>\n",
       "      <td>0</td>\n",
       "      <td>15</td>\n",
       "      <td>0</td>\n",
       "      <td>E</td>\n",
       "      <td>22</td>\n",
       "      <td>2000.0</td>\n",
       "      <td>Debris Burn</td>\n",
       "      <td>None</td>\n",
       "      <td>Extinguish</td>\n",
       "      <td>0.25</td>\n",
       "      <td>2017/05/23 08:00:00+00</td>\n",
       "      <td>1715</td>\n",
       "      <td>2017/05/23 00:00:00+00</td>\n",
       "      <td>1650.0</td>\n",
       "      <td>2017/05/23 00:00:00+00</td>\n",
       "      <td>1935.0</td>\n",
       "      <td>2017/05/25 00:00:00+00</td>\n",
       "      <td>1300.0</td>\n",
       "      <td>NaN</td>\n",
       "      <td>NaN</td>\n",
       "      <td>0.25</td>\n",
       "      <td>1</td>\n",
       "      <td>Classified</td>\n",
       "      <td>372894</td>\n",
       "      <td>45.904947</td>\n",
       "      <td>-120.916377</td>\n",
       "      <td>WA-SES-050</td>\n",
       "      <td>NaN</td>\n",
       "      <td>Private</td>\n",
       "      <td>DNR</td>\n",
       "      <td>DNR Protection FFPA</td>\n",
       "      <td>SOUTHEAST</td>\n",
       "    </tr>\n",
       "    <tr>\n",
       "      <td>2</td>\n",
       "      <td>-1.364323e+07</td>\n",
       "      <td>5.913875e+06</td>\n",
       "      <td>4</td>\n",
       "      <td>5021</td>\n",
       "      <td>90</td>\n",
       "      <td>1050 Fire</td>\n",
       "      <td>5163</td>\n",
       "      <td>THURSTON</td>\n",
       "      <td>16</td>\n",
       "      <td>0</td>\n",
       "      <td>2</td>\n",
       "      <td>0</td>\n",
       "      <td>E</td>\n",
       "      <td>33</td>\n",
       "      <td>350.0</td>\n",
       "      <td>Lightning</td>\n",
       "      <td>None</td>\n",
       "      <td>NaN</td>\n",
       "      <td>9.68</td>\n",
       "      <td>2008/08/17 08:00:00+00</td>\n",
       "      <td>300</td>\n",
       "      <td>2008/08/17 00:00:00+00</td>\n",
       "      <td>300.0</td>\n",
       "      <td>2008/08/17 00:00:00+00</td>\n",
       "      <td>1210.0</td>\n",
       "      <td>2008/09/15 00:00:00+00</td>\n",
       "      <td>1500.0</td>\n",
       "      <td>NaN</td>\n",
       "      <td>9.68</td>\n",
       "      <td>NaN</td>\n",
       "      <td>1</td>\n",
       "      <td>Classified</td>\n",
       "      <td>435486</td>\n",
       "      <td>46.826950</td>\n",
       "      <td>-122.559250</td>\n",
       "      <td>WA-PCS-0090</td>\n",
       "      <td>NaN</td>\n",
       "      <td>Private</td>\n",
       "      <td>DNR</td>\n",
       "      <td>DNR Protection FFPA</td>\n",
       "      <td>PACIFIC CASC</td>\n",
       "    </tr>\n",
       "    <tr>\n",
       "      <td>3</td>\n",
       "      <td>-1.306397e+07</td>\n",
       "      <td>6.094150e+06</td>\n",
       "      <td>5</td>\n",
       "      <td>7882</td>\n",
       "      <td>104</td>\n",
       "      <td>BEAR LAKE</td>\n",
       "      <td>8024</td>\n",
       "      <td>SPOKANE</td>\n",
       "      <td>28</td>\n",
       "      <td>0</td>\n",
       "      <td>43</td>\n",
       "      <td>0</td>\n",
       "      <td>E</td>\n",
       "      <td>15</td>\n",
       "      <td>1800.0</td>\n",
       "      <td>Lightning</td>\n",
       "      <td>None</td>\n",
       "      <td>NaN</td>\n",
       "      <td>0.10</td>\n",
       "      <td>2009/06/17 08:00:00+00</td>\n",
       "      <td>2015</td>\n",
       "      <td>2009/06/17 00:00:00+00</td>\n",
       "      <td>2030.0</td>\n",
       "      <td>2009/06/18 00:00:00+00</td>\n",
       "      <td>1221.0</td>\n",
       "      <td>2009/07/02 00:00:00+00</td>\n",
       "      <td>1234.0</td>\n",
       "      <td>0.1</td>\n",
       "      <td>NaN</td>\n",
       "      <td>NaN</td>\n",
       "      <td>1</td>\n",
       "      <td>Classified</td>\n",
       "      <td>552562</td>\n",
       "      <td>47.923560</td>\n",
       "      <td>-117.355620</td>\n",
       "      <td>NaN</td>\n",
       "      <td>NaN</td>\n",
       "      <td>Other Government</td>\n",
       "      <td>DNR</td>\n",
       "      <td>DNR Protection FFPA</td>\n",
       "      <td>NORTHEAST</td>\n",
       "    </tr>\n",
       "    <tr>\n",
       "      <td>4</td>\n",
       "      <td>-1.368587e+07</td>\n",
       "      <td>5.932888e+06</td>\n",
       "      <td>6</td>\n",
       "      <td>47157</td>\n",
       "      <td>68</td>\n",
       "      <td>HWY 101</td>\n",
       "      <td>46930</td>\n",
       "      <td>THURSTON</td>\n",
       "      <td>17</td>\n",
       "      <td>0</td>\n",
       "      <td>2</td>\n",
       "      <td>0</td>\n",
       "      <td>W</td>\n",
       "      <td>21</td>\n",
       "      <td>170.0</td>\n",
       "      <td>Recreation</td>\n",
       "      <td>Camper</td>\n",
       "      <td>NaN</td>\n",
       "      <td>0.01</td>\n",
       "      <td>2016/07/25 08:00:00+00</td>\n",
       "      <td>1730</td>\n",
       "      <td>2016/07/25 00:00:00+00</td>\n",
       "      <td>1730.0</td>\n",
       "      <td>2016/07/25 00:00:00+00</td>\n",
       "      <td>1815.0</td>\n",
       "      <td>2016/07/26 00:00:00+00</td>\n",
       "      <td>1530.0</td>\n",
       "      <td>NaN</td>\n",
       "      <td>NaN</td>\n",
       "      <td>NaN</td>\n",
       "      <td>1</td>\n",
       "      <td>Classified</td>\n",
       "      <td>560860</td>\n",
       "      <td>46.943690</td>\n",
       "      <td>-122.942240</td>\n",
       "      <td>WA-SPS-0097</td>\n",
       "      <td>NaN</td>\n",
       "      <td>Private</td>\n",
       "      <td>DNR</td>\n",
       "      <td>DNR Protection FFPA</td>\n",
       "      <td>SO PUGET</td>\n",
       "    </tr>\n",
       "  </tbody>\n",
       "</table>\n",
       "</div>"
      ],
      "text/plain": [
       "              X             Y  OBJECTID  FIREEVENT_ID  INCIDENT_NO  \\\n",
       "0 -1.333567e+07  6.191981e+06         1         49996           26   \n",
       "1 -1.346035e+07  5.765132e+06         2         50035            7   \n",
       "2 -1.364323e+07  5.913875e+06         4          5021           90   \n",
       "3 -1.306397e+07  6.094150e+06         5          7882          104   \n",
       "4 -1.368587e+07  5.932888e+06         6         47157           68   \n",
       "\n",
       "      INCIDENT_NM  INCIDENT_ID COUNTY_LABEL_NM  FIRE_TWP_WHOLE_NO  \\\n",
       "0  LITTLE PEACOCK        49829        OKANOGAN                 35   \n",
       "1    Turkey Ranch        49868       KLICKITAT                  5   \n",
       "2       1050 Fire         5163        THURSTON                 16   \n",
       "3       BEAR LAKE         8024         SPOKANE                 28   \n",
       "4         HWY 101        46930        THURSTON                 17   \n",
       "\n",
       "   FIRE_TWP_FRACT_NO  FIRE_RGE_WHOLE_NO  FIRE_RGE_FRACT_NO FIRE_RGE_DIR_FLG  \\\n",
       "0                  0                 24                  0                E   \n",
       "1                  0                 15                  0                E   \n",
       "2                  0                  2                  0                E   \n",
       "3                  0                 43                  0                E   \n",
       "4                  0                  2                  0                W   \n",
       "\n",
       "   FIRE_SECT_NO  SITE_ELEV FIREGCAUSE_LABEL_NM FIRESCAUSE_LABEL_NM  \\\n",
       "0            26     2927.0          Recreation              Camper   \n",
       "1            22     2000.0         Debris Burn                None   \n",
       "2            33      350.0           Lightning                None   \n",
       "3            15     1800.0           Lightning                None   \n",
       "4            21      170.0          Recreation              Camper   \n",
       "\n",
       "  BURNESCAPE_RSN_LABEL_NM  ACRES_BURNED                START_DT  START_TM  \\\n",
       "0                     NaN          0.01  2017/05/28 08:00:00+00      1800   \n",
       "1              Extinguish          0.25  2017/05/23 08:00:00+00      1715   \n",
       "2                     NaN          9.68  2008/08/17 08:00:00+00       300   \n",
       "3                     NaN          0.10  2009/06/17 08:00:00+00      2015   \n",
       "4                     NaN          0.01  2016/07/25 08:00:00+00      1730   \n",
       "\n",
       "                 DSCVR_DT  DSCVR_TM              CONTROL_DT  CONTROL_TM  \\\n",
       "0  2017/05/29 00:00:00+00    1335.0  2017/05/29 00:00:00+00      1420.0   \n",
       "1  2017/05/23 00:00:00+00    1650.0  2017/05/23 00:00:00+00      1935.0   \n",
       "2  2008/08/17 00:00:00+00     300.0  2008/08/17 00:00:00+00      1210.0   \n",
       "3  2009/06/17 00:00:00+00    2030.0  2009/06/18 00:00:00+00      1221.0   \n",
       "4  2016/07/25 00:00:00+00    1730.0  2016/07/25 00:00:00+00      1815.0   \n",
       "\n",
       "              FIRE_OUT_DT  FIRE_OUT_TM  BURN_MERCH_AREA  BURN_REPROD_AREA  \\\n",
       "0  2017/06/21 00:00:00+00       1328.0              NaN               NaN   \n",
       "1  2017/05/25 00:00:00+00       1300.0              NaN               NaN   \n",
       "2  2008/09/15 00:00:00+00       1500.0              NaN              9.68   \n",
       "3  2009/07/02 00:00:00+00       1234.0              0.1               NaN   \n",
       "4  2016/07/26 00:00:00+00       1530.0              NaN               NaN   \n",
       "\n",
       "   BURN_NONSTOCK_AREA  FIREEVNT_CLASS_CD FIREEVNT_CLASS_LABEL_NM  \\\n",
       "0                 NaN                  1              Classified   \n",
       "1                0.25                  1              Classified   \n",
       "2                 NaN                  1              Classified   \n",
       "3                 NaN                  1              Classified   \n",
       "4                 NaN                  1              Classified   \n",
       "\n",
       "   SECTION_SUBDIV_PTS_ID  LAT_COORD   LON_COORD RES_ORDER_NO  \\\n",
       "0                 662491  48.509150 -119.796370          NaN   \n",
       "1                 372894  45.904947 -120.916377   WA-SES-050   \n",
       "2                 435486  46.826950 -122.559250  WA-PCS-0090   \n",
       "3                 552562  47.923560 -117.355620          NaN   \n",
       "4                 560860  46.943690 -122.942240  WA-SPS-0097   \n",
       "\n",
       "  NON_DNR_RES_ORDER_NO START_OWNER_AGENCY_NM START_JURISDICTION_AGENCY_NM  \\\n",
       "0                  NaN                   DNR                          DNR   \n",
       "1                  NaN               Private                          DNR   \n",
       "2                  NaN               Private                          DNR   \n",
       "3                  NaN      Other Government                          DNR   \n",
       "4                  NaN               Private                          DNR   \n",
       "\n",
       "       PROTECTION_TYPE   REGION_NAME  \n",
       "0  DNR Protection FFPA     NORTHEAST  \n",
       "1  DNR Protection FFPA     SOUTHEAST  \n",
       "2  DNR Protection FFPA  PACIFIC CASC  \n",
       "3  DNR Protection FFPA     NORTHEAST  \n",
       "4  DNR Protection FFPA      SO PUGET  "
      ]
     },
     "execution_count": 2,
     "metadata": {},
     "output_type": "execute_result"
    }
   ],
   "source": [
    "df = pd.read_csv('DNR_Fire_Statistics_2008_-_Present.csv')\n",
    "df.head()"
   ]
  },
  {
   "cell_type": "markdown",
   "metadata": {},
   "source": [
    "## Column Descriptions:"
   ]
  },
  {
   "cell_type": "markdown",
   "metadata": {},
   "source": [
    "__Column:__\n",
    "\n",
    "- __X:__                            \n",
    "- __Y:__                              \n",
    "- __OBJECTID:__ Unique ID\n",
    "- __FIREEVENT_ID:__ Unique ID\n",
    "- __INCIDENT_NO:__ Incident Number\n",
    "- __INCIDENT_NM:__ Incident Name (trail or forest area)\n",
    "- __INCIDENT_ID:__ \n",
    "- __COUNTY_LABEL_NM:__ County Name (King, Stevens, etc. . .)          \n",
    "- __FIRE_TWP_WHOLE_NO:__ \n",
    "- __FIRE_TWP_FRACT_NO:__\n",
    "- __FIRE_RGE_WHOLE_NO:__\n",
    "- __FIRE_RGE_FRACT_NO:__\n",
    "- __FIRE_RGE_DIR_FLG:__\n",
    "- __FIRE_SECT_NO:__\n",
    "- __SITE_ELEV:__ Elevation of site\n",
    "- __FIREGCAUSE_LABEL_NM:__ Cause\n",
    "- __FIRESCAUSE_LABEL_NM:__ Secondary cause\n",
    "- __BURNESCAPE_RSN_LABEL_NM:__\n",
    "- __ACRES_BURNED:__ Acres Burned\n",
    "- __START_DT:__ Start Date\n",
    "- __START_TM:__ Start Time\n",
    "- __DSCVR_DT:__ Discovery Date\n",
    "- __DSCVR_TM:__ Discovery Time\n",
    "- __CONTROL_DT:__ Date brought under control\n",
    "- __CONTROL_TM:__ Time brought under control\n",
    "- __FIRE_OUT_DT:__ Date fire was put out\n",
    "- __FIRE_OUT_TM:__ Time fire was put out\n",
    "- __BURN_MERCH_AREA:__\n",
    "- __BURN_REPROD_AREA:__\n",
    "- __BURN_NONSTOCK_AREA:__\n",
    "- __FIREEVNT_CLASS_CD:__\n",
    "- __FIREEVNT_CLASS_LABEL_NM:__ 'Classified' or 'Other Agency'\n",
    "- __SECTION_SUBDIV_PTS_ID:__ \n",
    "- __LAT_COORD:__ Longitude\n",
    "- __LON_COORD:__ Latitude\n",
    "- __RES_ORDER_NO:__  \n",
    "- __NON_DNR_RES_ORDER_NO:__ \n",
    "- __START_OWNER_AGENCY_NM:__ Owner of land where fire started (private, government, DNR, etc. . .)\n",
    "- __START_JURISDICTION_AGENCY_NM:__ Jurisdiction where it started\n",
    "- __PROTECTION_TYPE:__ Type of Protection of area\n",
    "- __REGION_NAME:__  Region"
   ]
  },
  {
   "cell_type": "markdown",
   "metadata": {},
   "source": [
    "## Images:"
   ]
  },
  {
   "cell_type": "markdown",
   "metadata": {},
   "source": [
    "### Wildfire Area Image Previews:"
   ]
  },
  {
   "cell_type": "markdown",
   "metadata": {},
   "source": [
    "__Image examples:__<br>\n",
    "__Areas with wildfires:__\n",
    "![text](example_images/wf1.jpg)\n",
    "![text](example_images/wf2.jpg)\n",
    "![text](example_images/wf3.jpg)"
   ]
  },
  {
   "cell_type": "markdown",
   "metadata": {},
   "source": [
    "### Non-Wildfire Area Image Previews:"
   ]
  },
  {
   "cell_type": "markdown",
   "metadata": {},
   "source": [
    "__Areas without wildfires:__\n",
    "![text](example_images/nwf1.jpg)\n",
    "![text](example_images/nwf2.jpg)\n",
    "![text](example_images/nwf3.jpg)"
   ]
  },
  {
   "cell_type": "markdown",
   "metadata": {},
   "source": [
    "# Exploratory Data Analysis:"
   ]
  },
  {
   "cell_type": "code",
   "execution_count": 3,
   "metadata": {
    "scrolled": true
   },
   "outputs": [
    {
     "data": {
      "text/html": [
       "<div>\n",
       "<style scoped>\n",
       "    .dataframe tbody tr th:only-of-type {\n",
       "        vertical-align: middle;\n",
       "    }\n",
       "\n",
       "    .dataframe tbody tr th {\n",
       "        vertical-align: top;\n",
       "    }\n",
       "\n",
       "    .dataframe thead th {\n",
       "        text-align: right;\n",
       "    }\n",
       "</style>\n",
       "<table border=\"1\" class=\"dataframe\">\n",
       "  <thead>\n",
       "    <tr style=\"text-align: right;\">\n",
       "      <th></th>\n",
       "      <th>X</th>\n",
       "      <th>Y</th>\n",
       "      <th>OBJECTID</th>\n",
       "      <th>FIREEVENT_ID</th>\n",
       "      <th>INCIDENT_NO</th>\n",
       "      <th>INCIDENT_NM</th>\n",
       "      <th>INCIDENT_ID</th>\n",
       "      <th>COUNTY_LABEL_NM</th>\n",
       "      <th>FIRE_TWP_WHOLE_NO</th>\n",
       "      <th>FIRE_TWP_FRACT_NO</th>\n",
       "      <th>FIRE_RGE_WHOLE_NO</th>\n",
       "      <th>FIRE_RGE_FRACT_NO</th>\n",
       "      <th>FIRE_RGE_DIR_FLG</th>\n",
       "      <th>FIRE_SECT_NO</th>\n",
       "      <th>SITE_ELEV</th>\n",
       "      <th>FIREGCAUSE_LABEL_NM</th>\n",
       "      <th>FIRESCAUSE_LABEL_NM</th>\n",
       "      <th>BURNESCAPE_RSN_LABEL_NM</th>\n",
       "      <th>ACRES_BURNED</th>\n",
       "      <th>START_DT</th>\n",
       "      <th>START_TM</th>\n",
       "      <th>DSCVR_DT</th>\n",
       "      <th>DSCVR_TM</th>\n",
       "      <th>CONTROL_DT</th>\n",
       "      <th>CONTROL_TM</th>\n",
       "      <th>FIRE_OUT_DT</th>\n",
       "      <th>FIRE_OUT_TM</th>\n",
       "      <th>BURN_MERCH_AREA</th>\n",
       "      <th>BURN_REPROD_AREA</th>\n",
       "      <th>BURN_NONSTOCK_AREA</th>\n",
       "      <th>FIREEVNT_CLASS_CD</th>\n",
       "      <th>FIREEVNT_CLASS_LABEL_NM</th>\n",
       "      <th>SECTION_SUBDIV_PTS_ID</th>\n",
       "      <th>LAT_COORD</th>\n",
       "      <th>LON_COORD</th>\n",
       "      <th>RES_ORDER_NO</th>\n",
       "      <th>NON_DNR_RES_ORDER_NO</th>\n",
       "      <th>START_OWNER_AGENCY_NM</th>\n",
       "      <th>START_JURISDICTION_AGENCY_NM</th>\n",
       "      <th>PROTECTION_TYPE</th>\n",
       "      <th>REGION_NAME</th>\n",
       "    </tr>\n",
       "  </thead>\n",
       "  <tbody>\n",
       "    <tr>\n",
       "      <td>0</td>\n",
       "      <td>-1.333567e+07</td>\n",
       "      <td>6.191981e+06</td>\n",
       "      <td>1</td>\n",
       "      <td>49996</td>\n",
       "      <td>26</td>\n",
       "      <td>LITTLE PEACOCK</td>\n",
       "      <td>49829</td>\n",
       "      <td>OKANOGAN</td>\n",
       "      <td>35</td>\n",
       "      <td>0</td>\n",
       "      <td>24</td>\n",
       "      <td>0</td>\n",
       "      <td>E</td>\n",
       "      <td>26</td>\n",
       "      <td>2927.0</td>\n",
       "      <td>Recreation</td>\n",
       "      <td>Camper</td>\n",
       "      <td>NaN</td>\n",
       "      <td>0.01</td>\n",
       "      <td>2017/05/28 08:00:00+00</td>\n",
       "      <td>1800</td>\n",
       "      <td>2017/05/29 00:00:00+00</td>\n",
       "      <td>1335.0</td>\n",
       "      <td>2017/05/29 00:00:00+00</td>\n",
       "      <td>1420.0</td>\n",
       "      <td>2017/06/21 00:00:00+00</td>\n",
       "      <td>1328.0</td>\n",
       "      <td>NaN</td>\n",
       "      <td>NaN</td>\n",
       "      <td>NaN</td>\n",
       "      <td>1</td>\n",
       "      <td>Classified</td>\n",
       "      <td>662491</td>\n",
       "      <td>48.509150</td>\n",
       "      <td>-119.796370</td>\n",
       "      <td>NaN</td>\n",
       "      <td>NaN</td>\n",
       "      <td>DNR</td>\n",
       "      <td>DNR</td>\n",
       "      <td>DNR Protection FFPA</td>\n",
       "      <td>NORTHEAST</td>\n",
       "    </tr>\n",
       "    <tr>\n",
       "      <td>1</td>\n",
       "      <td>-1.346035e+07</td>\n",
       "      <td>5.765132e+06</td>\n",
       "      <td>2</td>\n",
       "      <td>50035</td>\n",
       "      <td>7</td>\n",
       "      <td>Turkey Ranch</td>\n",
       "      <td>49868</td>\n",
       "      <td>KLICKITAT</td>\n",
       "      <td>5</td>\n",
       "      <td>0</td>\n",
       "      <td>15</td>\n",
       "      <td>0</td>\n",
       "      <td>E</td>\n",
       "      <td>22</td>\n",
       "      <td>2000.0</td>\n",
       "      <td>Debris Burn</td>\n",
       "      <td>None</td>\n",
       "      <td>Extinguish</td>\n",
       "      <td>0.25</td>\n",
       "      <td>2017/05/23 08:00:00+00</td>\n",
       "      <td>1715</td>\n",
       "      <td>2017/05/23 00:00:00+00</td>\n",
       "      <td>1650.0</td>\n",
       "      <td>2017/05/23 00:00:00+00</td>\n",
       "      <td>1935.0</td>\n",
       "      <td>2017/05/25 00:00:00+00</td>\n",
       "      <td>1300.0</td>\n",
       "      <td>NaN</td>\n",
       "      <td>NaN</td>\n",
       "      <td>0.25</td>\n",
       "      <td>1</td>\n",
       "      <td>Classified</td>\n",
       "      <td>372894</td>\n",
       "      <td>45.904947</td>\n",
       "      <td>-120.916377</td>\n",
       "      <td>WA-SES-050</td>\n",
       "      <td>NaN</td>\n",
       "      <td>Private</td>\n",
       "      <td>DNR</td>\n",
       "      <td>DNR Protection FFPA</td>\n",
       "      <td>SOUTHEAST</td>\n",
       "    </tr>\n",
       "    <tr>\n",
       "      <td>2</td>\n",
       "      <td>-1.364323e+07</td>\n",
       "      <td>5.913875e+06</td>\n",
       "      <td>4</td>\n",
       "      <td>5021</td>\n",
       "      <td>90</td>\n",
       "      <td>1050 Fire</td>\n",
       "      <td>5163</td>\n",
       "      <td>THURSTON</td>\n",
       "      <td>16</td>\n",
       "      <td>0</td>\n",
       "      <td>2</td>\n",
       "      <td>0</td>\n",
       "      <td>E</td>\n",
       "      <td>33</td>\n",
       "      <td>350.0</td>\n",
       "      <td>Lightning</td>\n",
       "      <td>None</td>\n",
       "      <td>NaN</td>\n",
       "      <td>9.68</td>\n",
       "      <td>2008/08/17 08:00:00+00</td>\n",
       "      <td>300</td>\n",
       "      <td>2008/08/17 00:00:00+00</td>\n",
       "      <td>300.0</td>\n",
       "      <td>2008/08/17 00:00:00+00</td>\n",
       "      <td>1210.0</td>\n",
       "      <td>2008/09/15 00:00:00+00</td>\n",
       "      <td>1500.0</td>\n",
       "      <td>NaN</td>\n",
       "      <td>9.68</td>\n",
       "      <td>NaN</td>\n",
       "      <td>1</td>\n",
       "      <td>Classified</td>\n",
       "      <td>435486</td>\n",
       "      <td>46.826950</td>\n",
       "      <td>-122.559250</td>\n",
       "      <td>WA-PCS-0090</td>\n",
       "      <td>NaN</td>\n",
       "      <td>Private</td>\n",
       "      <td>DNR</td>\n",
       "      <td>DNR Protection FFPA</td>\n",
       "      <td>PACIFIC CASC</td>\n",
       "    </tr>\n",
       "    <tr>\n",
       "      <td>3</td>\n",
       "      <td>-1.306397e+07</td>\n",
       "      <td>6.094150e+06</td>\n",
       "      <td>5</td>\n",
       "      <td>7882</td>\n",
       "      <td>104</td>\n",
       "      <td>BEAR LAKE</td>\n",
       "      <td>8024</td>\n",
       "      <td>SPOKANE</td>\n",
       "      <td>28</td>\n",
       "      <td>0</td>\n",
       "      <td>43</td>\n",
       "      <td>0</td>\n",
       "      <td>E</td>\n",
       "      <td>15</td>\n",
       "      <td>1800.0</td>\n",
       "      <td>Lightning</td>\n",
       "      <td>None</td>\n",
       "      <td>NaN</td>\n",
       "      <td>0.10</td>\n",
       "      <td>2009/06/17 08:00:00+00</td>\n",
       "      <td>2015</td>\n",
       "      <td>2009/06/17 00:00:00+00</td>\n",
       "      <td>2030.0</td>\n",
       "      <td>2009/06/18 00:00:00+00</td>\n",
       "      <td>1221.0</td>\n",
       "      <td>2009/07/02 00:00:00+00</td>\n",
       "      <td>1234.0</td>\n",
       "      <td>0.1</td>\n",
       "      <td>NaN</td>\n",
       "      <td>NaN</td>\n",
       "      <td>1</td>\n",
       "      <td>Classified</td>\n",
       "      <td>552562</td>\n",
       "      <td>47.923560</td>\n",
       "      <td>-117.355620</td>\n",
       "      <td>NaN</td>\n",
       "      <td>NaN</td>\n",
       "      <td>Other Government</td>\n",
       "      <td>DNR</td>\n",
       "      <td>DNR Protection FFPA</td>\n",
       "      <td>NORTHEAST</td>\n",
       "    </tr>\n",
       "    <tr>\n",
       "      <td>4</td>\n",
       "      <td>-1.368587e+07</td>\n",
       "      <td>5.932888e+06</td>\n",
       "      <td>6</td>\n",
       "      <td>47157</td>\n",
       "      <td>68</td>\n",
       "      <td>HWY 101</td>\n",
       "      <td>46930</td>\n",
       "      <td>THURSTON</td>\n",
       "      <td>17</td>\n",
       "      <td>0</td>\n",
       "      <td>2</td>\n",
       "      <td>0</td>\n",
       "      <td>W</td>\n",
       "      <td>21</td>\n",
       "      <td>170.0</td>\n",
       "      <td>Recreation</td>\n",
       "      <td>Camper</td>\n",
       "      <td>NaN</td>\n",
       "      <td>0.01</td>\n",
       "      <td>2016/07/25 08:00:00+00</td>\n",
       "      <td>1730</td>\n",
       "      <td>2016/07/25 00:00:00+00</td>\n",
       "      <td>1730.0</td>\n",
       "      <td>2016/07/25 00:00:00+00</td>\n",
       "      <td>1815.0</td>\n",
       "      <td>2016/07/26 00:00:00+00</td>\n",
       "      <td>1530.0</td>\n",
       "      <td>NaN</td>\n",
       "      <td>NaN</td>\n",
       "      <td>NaN</td>\n",
       "      <td>1</td>\n",
       "      <td>Classified</td>\n",
       "      <td>560860</td>\n",
       "      <td>46.943690</td>\n",
       "      <td>-122.942240</td>\n",
       "      <td>WA-SPS-0097</td>\n",
       "      <td>NaN</td>\n",
       "      <td>Private</td>\n",
       "      <td>DNR</td>\n",
       "      <td>DNR Protection FFPA</td>\n",
       "      <td>SO PUGET</td>\n",
       "    </tr>\n",
       "  </tbody>\n",
       "</table>\n",
       "</div>"
      ],
      "text/plain": [
       "              X             Y  OBJECTID  FIREEVENT_ID  INCIDENT_NO  \\\n",
       "0 -1.333567e+07  6.191981e+06         1         49996           26   \n",
       "1 -1.346035e+07  5.765132e+06         2         50035            7   \n",
       "2 -1.364323e+07  5.913875e+06         4          5021           90   \n",
       "3 -1.306397e+07  6.094150e+06         5          7882          104   \n",
       "4 -1.368587e+07  5.932888e+06         6         47157           68   \n",
       "\n",
       "      INCIDENT_NM  INCIDENT_ID COUNTY_LABEL_NM  FIRE_TWP_WHOLE_NO  \\\n",
       "0  LITTLE PEACOCK        49829        OKANOGAN                 35   \n",
       "1    Turkey Ranch        49868       KLICKITAT                  5   \n",
       "2       1050 Fire         5163        THURSTON                 16   \n",
       "3       BEAR LAKE         8024         SPOKANE                 28   \n",
       "4         HWY 101        46930        THURSTON                 17   \n",
       "\n",
       "   FIRE_TWP_FRACT_NO  FIRE_RGE_WHOLE_NO  FIRE_RGE_FRACT_NO FIRE_RGE_DIR_FLG  \\\n",
       "0                  0                 24                  0                E   \n",
       "1                  0                 15                  0                E   \n",
       "2                  0                  2                  0                E   \n",
       "3                  0                 43                  0                E   \n",
       "4                  0                  2                  0                W   \n",
       "\n",
       "   FIRE_SECT_NO  SITE_ELEV FIREGCAUSE_LABEL_NM FIRESCAUSE_LABEL_NM  \\\n",
       "0            26     2927.0          Recreation              Camper   \n",
       "1            22     2000.0         Debris Burn                None   \n",
       "2            33      350.0           Lightning                None   \n",
       "3            15     1800.0           Lightning                None   \n",
       "4            21      170.0          Recreation              Camper   \n",
       "\n",
       "  BURNESCAPE_RSN_LABEL_NM  ACRES_BURNED                START_DT  START_TM  \\\n",
       "0                     NaN          0.01  2017/05/28 08:00:00+00      1800   \n",
       "1              Extinguish          0.25  2017/05/23 08:00:00+00      1715   \n",
       "2                     NaN          9.68  2008/08/17 08:00:00+00       300   \n",
       "3                     NaN          0.10  2009/06/17 08:00:00+00      2015   \n",
       "4                     NaN          0.01  2016/07/25 08:00:00+00      1730   \n",
       "\n",
       "                 DSCVR_DT  DSCVR_TM              CONTROL_DT  CONTROL_TM  \\\n",
       "0  2017/05/29 00:00:00+00    1335.0  2017/05/29 00:00:00+00      1420.0   \n",
       "1  2017/05/23 00:00:00+00    1650.0  2017/05/23 00:00:00+00      1935.0   \n",
       "2  2008/08/17 00:00:00+00     300.0  2008/08/17 00:00:00+00      1210.0   \n",
       "3  2009/06/17 00:00:00+00    2030.0  2009/06/18 00:00:00+00      1221.0   \n",
       "4  2016/07/25 00:00:00+00    1730.0  2016/07/25 00:00:00+00      1815.0   \n",
       "\n",
       "              FIRE_OUT_DT  FIRE_OUT_TM  BURN_MERCH_AREA  BURN_REPROD_AREA  \\\n",
       "0  2017/06/21 00:00:00+00       1328.0              NaN               NaN   \n",
       "1  2017/05/25 00:00:00+00       1300.0              NaN               NaN   \n",
       "2  2008/09/15 00:00:00+00       1500.0              NaN              9.68   \n",
       "3  2009/07/02 00:00:00+00       1234.0              0.1               NaN   \n",
       "4  2016/07/26 00:00:00+00       1530.0              NaN               NaN   \n",
       "\n",
       "   BURN_NONSTOCK_AREA  FIREEVNT_CLASS_CD FIREEVNT_CLASS_LABEL_NM  \\\n",
       "0                 NaN                  1              Classified   \n",
       "1                0.25                  1              Classified   \n",
       "2                 NaN                  1              Classified   \n",
       "3                 NaN                  1              Classified   \n",
       "4                 NaN                  1              Classified   \n",
       "\n",
       "   SECTION_SUBDIV_PTS_ID  LAT_COORD   LON_COORD RES_ORDER_NO  \\\n",
       "0                 662491  48.509150 -119.796370          NaN   \n",
       "1                 372894  45.904947 -120.916377   WA-SES-050   \n",
       "2                 435486  46.826950 -122.559250  WA-PCS-0090   \n",
       "3                 552562  47.923560 -117.355620          NaN   \n",
       "4                 560860  46.943690 -122.942240  WA-SPS-0097   \n",
       "\n",
       "  NON_DNR_RES_ORDER_NO START_OWNER_AGENCY_NM START_JURISDICTION_AGENCY_NM  \\\n",
       "0                  NaN                   DNR                          DNR   \n",
       "1                  NaN               Private                          DNR   \n",
       "2                  NaN               Private                          DNR   \n",
       "3                  NaN      Other Government                          DNR   \n",
       "4                  NaN               Private                          DNR   \n",
       "\n",
       "       PROTECTION_TYPE   REGION_NAME  \n",
       "0  DNR Protection FFPA     NORTHEAST  \n",
       "1  DNR Protection FFPA     SOUTHEAST  \n",
       "2  DNR Protection FFPA  PACIFIC CASC  \n",
       "3  DNR Protection FFPA     NORTHEAST  \n",
       "4  DNR Protection FFPA      SO PUGET  "
      ]
     },
     "execution_count": 3,
     "metadata": {},
     "output_type": "execute_result"
    }
   ],
   "source": [
    "df.head()"
   ]
  },
  {
   "cell_type": "code",
   "execution_count": 16,
   "metadata": {},
   "outputs": [
    {
     "data": {
      "image/png": "[encoded data removed]",
      "text/plain": [
       "<Figure size 1080x1080 with 25 Axes>"
      ]
     },
     "metadata": {
      "needs_background": "light"
     },
     "output_type": "display_data"
    }
   ],
   "source": [
    "df.hist(figsize=(15,15));"
   ]
  },
  {
   "cell_type": "markdown",
   "metadata": {},
   "source": [
    "## Bar Chart by Region:"
   ]
  },
  {
   "cell_type": "code",
   "execution_count": 4,
   "metadata": {
    "scrolled": true
   },
   "outputs": [
    {
     "name": "stdout",
     "output_type": "stream",
     "text": [
      "Regions of Fires:\n",
      "\n",
      " NORTHEAST       6447\n",
      "SOUTHEAST       2557\n",
      "PACIFIC CASC    1661\n",
      "SO PUGET        1482\n",
      "NORTHWEST        791\n",
      "OLYMPIC          441\n",
      "Name: REGION_NAME, dtype: int64\n"
     ]
    }
   ],
   "source": [
    "# Unique Regions:\n",
    "print('Regions of Fires:\\n\\n', df.REGION_NAME.value_counts())"
   ]
  },
  {
   "cell_type": "markdown",
   "metadata": {},
   "source": [
    "## Bar Chart by County:"
   ]
  },
  {
   "cell_type": "code",
   "execution_count": 5,
   "metadata": {},
   "outputs": [
    {
     "name": "stdout",
     "output_type": "stream",
     "text": [
      "Top 10 County of Fires:\n",
      "\n",
      " SPOKANE         2057\n",
      "STEVENS         1782\n",
      "OKANOGAN        1471\n",
      "KLICKITAT        722\n",
      "MASON            573\n",
      "KITTITAS         565\n",
      "THURSTON         559\n",
      "CHELAN           485\n",
      "FERRY            470\n",
      "PEND OREILLE     467\n",
      "Name: COUNTY_LABEL_NM, dtype: int64\n"
     ]
    }
   ],
   "source": [
    "print('Top 10 County of Fires:\\n\\n', df.COUNTY_LABEL_NM.value_counts()[:10])"
   ]
  },
  {
   "cell_type": "markdown",
   "metadata": {},
   "source": [
    "## Elevation Histogram:"
   ]
  },
  {
   "cell_type": "code",
   "execution_count": 6,
   "metadata": {},
   "outputs": [
    {
     "name": "stdout",
     "output_type": "stream",
     "text": [
      "Minimum Elevation:  0.0\n",
      "Maximum Elevation:  7287.0\n"
     ]
    }
   ],
   "source": [
    "print('Minimum Elevation: ', min(df.SITE_ELEV))\n",
    "print('Maximum Elevation: ', max(df.SITE_ELEV))"
   ]
  },
  {
   "cell_type": "code",
   "execution_count": null,
   "metadata": {},
   "outputs": [],
   "source": [
    "'''\n",
    "# Histogram of renovation for homes that have seen a renovation.\n",
    "dftest = df[df['yr_renovated'] > 1]\n",
    "sns.distplot(dftest.yr_renovated);\n",
    "'''"
   ]
  },
  {
   "cell_type": "markdown",
   "metadata": {},
   "source": [
    "## Map with Pins, Size by Acres:"
   ]
  },
  {
   "cell_type": "code",
   "execution_count": 7,
   "metadata": {},
   "outputs": [
    {
     "name": "stdout",
     "output_type": "stream",
     "text": [
      "Minimum Acres Burned:  0.0\n",
      "Maximum Acres Burned:  250280.45\n"
     ]
    }
   ],
   "source": [
    "print('Minimum Acres Burned: ', min(df.ACRES_BURNED))\n",
    "print('Maximum Acres Burned: ', max(df.ACRES_BURNED))\n",
    "# Change to > 0"
   ]
  },
  {
   "cell_type": "markdown",
   "metadata": {},
   "source": [
    "__Acre Histogram:__"
   ]
  },
  {
   "cell_type": "code",
   "execution_count": 15,
   "metadata": {},
   "outputs": [
    {
     "data": {
      "text/plain": [
       "\"\\n# Histogram of renovation for homes that have seen a renovation.\\ndftest = df[df['yr_renovated'] > 1]\\nsns.distplot(dftest.yr_renovated);\\n\""
      ]
     },
     "execution_count": 15,
     "metadata": {},
     "output_type": "execute_result"
    }
   ],
   "source": [
    "'''\n",
    "# Histogram of renovation for homes that have seen a renovation.\n",
    "dftest = df[df['yr_renovated'] > 1]\n",
    "sns.distplot(dftest.yr_renovated);\n",
    "'''"
   ]
  },
  {
   "cell_type": "markdown",
   "metadata": {},
   "source": [
    "## Map with Pins, Color by Date:"
   ]
  },
  {
   "cell_type": "code",
   "execution_count": 8,
   "metadata": {},
   "outputs": [
    {
     "name": "stdout",
     "output_type": "stream",
     "text": [
      "Earliest Start Date:  2000/07/21 08:00:00+00\n",
      "Latest Start Date:  2020/09/23 08:00:00+00\n"
     ]
    }
   ],
   "source": [
    "print('Earliest Start Date: ', min(df.START_DT))\n",
    "print('Latest Start Date: ', max(df.START_DT))"
   ]
  },
  {
   "cell_type": "markdown",
   "metadata": {},
   "source": [
    "### Folium Test:"
   ]
  },
  {
   "cell_type": "code",
   "execution_count": null,
   "metadata": {},
   "outputs": [],
   "source": [
    "kc_coord = (47.6062, -122.335167)\n",
    "# Creating an empty map\n",
    "map = folium.Map(location = kc_coord, zoom_start = 11, tiles='Cartodb Positron')\n",
    "\n",
    "# Adding markers:\n",
    "from folium.plugins import HeatMap\n",
    "HeatMap(data=df[['lat', 'long', 'price']].\\\n",
    "        groupby(['lat', 'long']).sum().reset_index().\\\n",
    "        values.tolist(), radius=7.5).add_to(map)\n",
    "\n",
    "display(map)"
   ]
  },
  {
   "cell_type": "code",
   "execution_count": null,
   "metadata": {},
   "outputs": [],
   "source": []
  },
  {
   "cell_type": "code",
   "execution_count": null,
   "metadata": {},
   "outputs": [],
   "source": []
  },
  {
   "cell_type": "markdown",
   "metadata": {},
   "source": [
    "## Map with Pins, Color by Cause:"
   ]
  },
  {
   "cell_type": "code",
   "execution_count": 9,
   "metadata": {},
   "outputs": [
    {
     "name": "stdout",
     "output_type": "stream",
     "text": [
      "Cause of Fires:\n",
      "\n",
      " Miscellaneou    3354\n",
      "Lightning       2624\n",
      "Debris Burn     2266\n",
      "Recreation      2001\n",
      "Undetermined    1392\n",
      "Under Invest     569\n",
      "Arson            407\n",
      "Children         334\n",
      "Smoker           221\n",
      "Logging          134\n",
      "Railroad          77\n",
      "Name: FIREGCAUSE_LABEL_NM, dtype: int64\n"
     ]
    }
   ],
   "source": [
    "print('Cause of Fires:\\n\\n',df.FIREGCAUSE_LABEL_NM.value_counts())"
   ]
  },
  {
   "cell_type": "markdown",
   "metadata": {},
   "source": [
    "## Map with Pins, Color by Length of Time of Fire:"
   ]
  },
  {
   "cell_type": "markdown",
   "metadata": {},
   "source": [
    "## Animated Map Over Time by Year:"
   ]
  },
  {
   "cell_type": "markdown",
   "metadata": {},
   "source": [
    "## Animated Map Over Time by Month:"
   ]
  },
  {
   "cell_type": "code",
   "execution_count": 13,
   "metadata": {},
   "outputs": [],
   "source": [
    "# i.e. everything flattened to one year. . . "
   ]
  },
  {
   "cell_type": "code",
   "execution_count": 14,
   "metadata": {},
   "outputs": [],
   "source": [
    "# See if there are patterns by size, location, cause, etc. . . "
   ]
  },
  {
   "cell_type": "markdown",
   "metadata": {},
   "source": [
    "# Neural Network:"
   ]
  },
  {
   "cell_type": "markdown",
   "metadata": {},
   "source": [
    "## Import Images:"
   ]
  },
  {
   "cell_type": "code",
   "execution_count": 10,
   "metadata": {},
   "outputs": [],
   "source": [
    "# REMEMBER TO SHUFFLE IMAGES"
   ]
  },
  {
   "cell_type": "markdown",
   "metadata": {},
   "source": [
    "## Baseline CNN:"
   ]
  },
  {
   "cell_type": "markdown",
   "metadata": {},
   "source": [
    "## Deeper CNN:"
   ]
  },
  {
   "cell_type": "markdown",
   "metadata": {},
   "source": [
    "## Neural Network Results:"
   ]
  },
  {
   "cell_type": "markdown",
   "metadata": {},
   "source": [
    "### Accuracy and Precision:"
   ]
  },
  {
   "cell_type": "markdown",
   "metadata": {},
   "source": [
    "### Confusion Matrix:"
   ]
  },
  {
   "cell_type": "markdown",
   "metadata": {},
   "source": [
    "### Other Results:"
   ]
  },
  {
   "cell_type": "markdown",
   "metadata": {},
   "source": [
    "# Jupyter Deployment Example:"
   ]
  },
  {
   "cell_type": "code",
   "execution_count": 11,
   "metadata": {},
   "outputs": [],
   "source": [
    "# input lon\n",
    "# input lat\n",
    "# api call for url\n",
    "# run image through neural net\n",
    "# display image and result, perhaps as a percentage. . . "
   ]
  },
  {
   "cell_type": "code",
   "execution_count": 12,
   "metadata": {},
   "outputs": [],
   "source": [
    "# add pic of the whole thing"
   ]
  },
  {
   "cell_type": "markdown",
   "metadata": {},
   "source": [
    "# Conclusion:"
   ]
  },
  {
   "cell_type": "code",
   "execution_count": null,
   "metadata": {},
   "outputs": [],
   "source": []
  }
 ],
 "metadata": {
  "kernelspec": {
   "display_name": "Python 3",
   "language": "python",
   "name": "python3"
  },
  "language_info": {
   "codemirror_mode": {
    "name": "ipython",
    "version": 3
   },
   "file_extension": ".py",
   "mimetype": "text/x-python",
   "name": "python",
   "nbconvert_exporter": "python",
   "pygments_lexer": "ipython3",
   "version": "3.6.9"
  },
  "toc": {
   "base_numbering": 1,
   "nav_menu": {},
   "number_sections": true,
   "sideBar": true,
   "skip_h1_title": false,
   "title_cell": "Table of Contents",
   "title_sidebar": "Contents",
   "toc_cell": false,
   "toc_position": {},
   "toc_section_display": true,
   "toc_window_display": true
  }
 },
 "nbformat": 4,
 "nbformat_minor": 2
}
