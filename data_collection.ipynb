{
 "cells": [
  {
   "cell_type": "markdown",
   "metadata": {},
   "source": [
    "# WA State Wildfire List"
   ]
  },
  {
   "cell_type": "markdown",
   "metadata": {},
   "source": [
    "My goal for this notebook is to download images of locations where there have been wildfires as well as locations where there have not.  The images will be labeled for the purpose of training a neural network. \n",
    "\n",
    "The data consists of 13,391 rows. Each row contains the info about 1 distinct wildfire, where it started, cause, etc. . . "
   ]
  },
  {
   "cell_type": "markdown",
   "metadata": {},
   "source": [
    "# Importing Libraries:"
   ]
  },
  {
   "cell_type": "code",
   "execution_count": 1,
   "metadata": {},
   "outputs": [],
   "source": [
    "import pandas as pd\n",
    "import numpy as np\n",
    "\n",
    "# Plots and Graphs:\n",
    "import seaborn as sns\n",
    "import matplotlib.pyplot as plt\n",
    "import plotly.express as px\n",
    "import scikitplot as skplt \n",
    "%matplotlib inline\n",
    "\n",
    "import geopandas as gpd\n",
    "import folium \n",
    "\n",
    "import requests\n",
    "from IPython.display import Image, display\n",
    "\n",
    "import random\n",
    "\n",
    "import urllib.request\n",
    "\n",
    "import warnings\n",
    "warnings.filterwarnings('ignore')\n",
    "\n",
    "# Shows all columns\n",
    "pd.set_option('display.max_columns', None)"
   ]
  },
  {
   "cell_type": "markdown",
   "metadata": {},
   "source": [
    "# Importing Data:"
   ]
  },
  {
   "cell_type": "code",
   "execution_count": 2,
   "metadata": {},
   "outputs": [],
   "source": [
    "df = pd.read_csv('DNR_Fire_Statistics_2008_-_Present.csv')"
   ]
  },
  {
   "cell_type": "code",
   "execution_count": 3,
   "metadata": {},
   "outputs": [
    {
     "data": {
      "text/html": [
       "<div>\n",
       "<style scoped>\n",
       "    .dataframe tbody tr th:only-of-type {\n",
       "        vertical-align: middle;\n",
       "    }\n",
       "\n",
       "    .dataframe tbody tr th {\n",
       "        vertical-align: top;\n",
       "    }\n",
       "\n",
       "    .dataframe thead th {\n",
       "        text-align: right;\n",
       "    }\n",
       "</style>\n",
       "<table border=\"1\" class=\"dataframe\">\n",
       "  <thead>\n",
       "    <tr style=\"text-align: right;\">\n",
       "      <th></th>\n",
       "      <th>X</th>\n",
       "      <th>Y</th>\n",
       "      <th>OBJECTID</th>\n",
       "      <th>FIREEVENT_ID</th>\n",
       "      <th>INCIDENT_NO</th>\n",
       "      <th>INCIDENT_NM</th>\n",
       "      <th>INCIDENT_ID</th>\n",
       "      <th>COUNTY_LABEL_NM</th>\n",
       "      <th>FIRE_TWP_WHOLE_NO</th>\n",
       "      <th>FIRE_TWP_FRACT_NO</th>\n",
       "      <th>FIRE_RGE_WHOLE_NO</th>\n",
       "      <th>FIRE_RGE_FRACT_NO</th>\n",
       "      <th>FIRE_RGE_DIR_FLG</th>\n",
       "      <th>FIRE_SECT_NO</th>\n",
       "      <th>SITE_ELEV</th>\n",
       "      <th>FIREGCAUSE_LABEL_NM</th>\n",
       "      <th>FIRESCAUSE_LABEL_NM</th>\n",
       "      <th>BURNESCAPE_RSN_LABEL_NM</th>\n",
       "      <th>ACRES_BURNED</th>\n",
       "      <th>START_DT</th>\n",
       "      <th>START_TM</th>\n",
       "      <th>DSCVR_DT</th>\n",
       "      <th>DSCVR_TM</th>\n",
       "      <th>CONTROL_DT</th>\n",
       "      <th>CONTROL_TM</th>\n",
       "      <th>FIRE_OUT_DT</th>\n",
       "      <th>FIRE_OUT_TM</th>\n",
       "      <th>BURN_MERCH_AREA</th>\n",
       "      <th>BURN_REPROD_AREA</th>\n",
       "      <th>BURN_NONSTOCK_AREA</th>\n",
       "      <th>FIREEVNT_CLASS_CD</th>\n",
       "      <th>FIREEVNT_CLASS_LABEL_NM</th>\n",
       "      <th>SECTION_SUBDIV_PTS_ID</th>\n",
       "      <th>LAT_COORD</th>\n",
       "      <th>LON_COORD</th>\n",
       "      <th>RES_ORDER_NO</th>\n",
       "      <th>NON_DNR_RES_ORDER_NO</th>\n",
       "      <th>START_OWNER_AGENCY_NM</th>\n",
       "      <th>START_JURISDICTION_AGENCY_NM</th>\n",
       "      <th>PROTECTION_TYPE</th>\n",
       "      <th>REGION_NAME</th>\n",
       "    </tr>\n",
       "  </thead>\n",
       "  <tbody>\n",
       "    <tr>\n",
       "      <td>0</td>\n",
       "      <td>-1.333567e+07</td>\n",
       "      <td>6.191981e+06</td>\n",
       "      <td>1</td>\n",
       "      <td>49996</td>\n",
       "      <td>26</td>\n",
       "      <td>LITTLE PEACOCK</td>\n",
       "      <td>49829</td>\n",
       "      <td>OKANOGAN</td>\n",
       "      <td>35</td>\n",
       "      <td>0</td>\n",
       "      <td>24</td>\n",
       "      <td>0</td>\n",
       "      <td>E</td>\n",
       "      <td>26</td>\n",
       "      <td>2927.0</td>\n",
       "      <td>Recreation</td>\n",
       "      <td>Camper</td>\n",
       "      <td>NaN</td>\n",
       "      <td>0.01</td>\n",
       "      <td>2017/05/28 08:00:00+00</td>\n",
       "      <td>1800</td>\n",
       "      <td>2017/05/29 00:00:00+00</td>\n",
       "      <td>1335.0</td>\n",
       "      <td>2017/05/29 00:00:00+00</td>\n",
       "      <td>1420.0</td>\n",
       "      <td>2017/06/21 00:00:00+00</td>\n",
       "      <td>1328.0</td>\n",
       "      <td>NaN</td>\n",
       "      <td>NaN</td>\n",
       "      <td>NaN</td>\n",
       "      <td>1</td>\n",
       "      <td>Classified</td>\n",
       "      <td>662491</td>\n",
       "      <td>48.509150</td>\n",
       "      <td>-119.796370</td>\n",
       "      <td>NaN</td>\n",
       "      <td>NaN</td>\n",
       "      <td>DNR</td>\n",
       "      <td>DNR</td>\n",
       "      <td>DNR Protection FFPA</td>\n",
       "      <td>NORTHEAST</td>\n",
       "    </tr>\n",
       "    <tr>\n",
       "      <td>1</td>\n",
       "      <td>-1.346035e+07</td>\n",
       "      <td>5.765132e+06</td>\n",
       "      <td>2</td>\n",
       "      <td>50035</td>\n",
       "      <td>7</td>\n",
       "      <td>Turkey Ranch</td>\n",
       "      <td>49868</td>\n",
       "      <td>KLICKITAT</td>\n",
       "      <td>5</td>\n",
       "      <td>0</td>\n",
       "      <td>15</td>\n",
       "      <td>0</td>\n",
       "      <td>E</td>\n",
       "      <td>22</td>\n",
       "      <td>2000.0</td>\n",
       "      <td>Debris Burn</td>\n",
       "      <td>None</td>\n",
       "      <td>Extinguish</td>\n",
       "      <td>0.25</td>\n",
       "      <td>2017/05/23 08:00:00+00</td>\n",
       "      <td>1715</td>\n",
       "      <td>2017/05/23 00:00:00+00</td>\n",
       "      <td>1650.0</td>\n",
       "      <td>2017/05/23 00:00:00+00</td>\n",
       "      <td>1935.0</td>\n",
       "      <td>2017/05/25 00:00:00+00</td>\n",
       "      <td>1300.0</td>\n",
       "      <td>NaN</td>\n",
       "      <td>NaN</td>\n",
       "      <td>0.25</td>\n",
       "      <td>1</td>\n",
       "      <td>Classified</td>\n",
       "      <td>372894</td>\n",
       "      <td>45.904947</td>\n",
       "      <td>-120.916377</td>\n",
       "      <td>WA-SES-050</td>\n",
       "      <td>NaN</td>\n",
       "      <td>Private</td>\n",
       "      <td>DNR</td>\n",
       "      <td>DNR Protection FFPA</td>\n",
       "      <td>SOUTHEAST</td>\n",
       "    </tr>\n",
       "    <tr>\n",
       "      <td>2</td>\n",
       "      <td>-1.364323e+07</td>\n",
       "      <td>5.913875e+06</td>\n",
       "      <td>4</td>\n",
       "      <td>5021</td>\n",
       "      <td>90</td>\n",
       "      <td>1050 Fire</td>\n",
       "      <td>5163</td>\n",
       "      <td>THURSTON</td>\n",
       "      <td>16</td>\n",
       "      <td>0</td>\n",
       "      <td>2</td>\n",
       "      <td>0</td>\n",
       "      <td>E</td>\n",
       "      <td>33</td>\n",
       "      <td>350.0</td>\n",
       "      <td>Lightning</td>\n",
       "      <td>None</td>\n",
       "      <td>NaN</td>\n",
       "      <td>9.68</td>\n",
       "      <td>2008/08/17 08:00:00+00</td>\n",
       "      <td>300</td>\n",
       "      <td>2008/08/17 00:00:00+00</td>\n",
       "      <td>300.0</td>\n",
       "      <td>2008/08/17 00:00:00+00</td>\n",
       "      <td>1210.0</td>\n",
       "      <td>2008/09/15 00:00:00+00</td>\n",
       "      <td>1500.0</td>\n",
       "      <td>NaN</td>\n",
       "      <td>9.68</td>\n",
       "      <td>NaN</td>\n",
       "      <td>1</td>\n",
       "      <td>Classified</td>\n",
       "      <td>435486</td>\n",
       "      <td>46.826950</td>\n",
       "      <td>-122.559250</td>\n",
       "      <td>WA-PCS-0090</td>\n",
       "      <td>NaN</td>\n",
       "      <td>Private</td>\n",
       "      <td>DNR</td>\n",
       "      <td>DNR Protection FFPA</td>\n",
       "      <td>PACIFIC CASC</td>\n",
       "    </tr>\n",
       "    <tr>\n",
       "      <td>3</td>\n",
       "      <td>-1.306397e+07</td>\n",
       "      <td>6.094150e+06</td>\n",
       "      <td>5</td>\n",
       "      <td>7882</td>\n",
       "      <td>104</td>\n",
       "      <td>BEAR LAKE</td>\n",
       "      <td>8024</td>\n",
       "      <td>SPOKANE</td>\n",
       "      <td>28</td>\n",
       "      <td>0</td>\n",
       "      <td>43</td>\n",
       "      <td>0</td>\n",
       "      <td>E</td>\n",
       "      <td>15</td>\n",
       "      <td>1800.0</td>\n",
       "      <td>Lightning</td>\n",
       "      <td>None</td>\n",
       "      <td>NaN</td>\n",
       "      <td>0.10</td>\n",
       "      <td>2009/06/17 08:00:00+00</td>\n",
       "      <td>2015</td>\n",
       "      <td>2009/06/17 00:00:00+00</td>\n",
       "      <td>2030.0</td>\n",
       "      <td>2009/06/18 00:00:00+00</td>\n",
       "      <td>1221.0</td>\n",
       "      <td>2009/07/02 00:00:00+00</td>\n",
       "      <td>1234.0</td>\n",
       "      <td>0.1</td>\n",
       "      <td>NaN</td>\n",
       "      <td>NaN</td>\n",
       "      <td>1</td>\n",
       "      <td>Classified</td>\n",
       "      <td>552562</td>\n",
       "      <td>47.923560</td>\n",
       "      <td>-117.355620</td>\n",
       "      <td>NaN</td>\n",
       "      <td>NaN</td>\n",
       "      <td>Other Government</td>\n",
       "      <td>DNR</td>\n",
       "      <td>DNR Protection FFPA</td>\n",
       "      <td>NORTHEAST</td>\n",
       "    </tr>\n",
       "    <tr>\n",
       "      <td>4</td>\n",
       "      <td>-1.368587e+07</td>\n",
       "      <td>5.932888e+06</td>\n",
       "      <td>6</td>\n",
       "      <td>47157</td>\n",
       "      <td>68</td>\n",
       "      <td>HWY 101</td>\n",
       "      <td>46930</td>\n",
       "      <td>THURSTON</td>\n",
       "      <td>17</td>\n",
       "      <td>0</td>\n",
       "      <td>2</td>\n",
       "      <td>0</td>\n",
       "      <td>W</td>\n",
       "      <td>21</td>\n",
       "      <td>170.0</td>\n",
       "      <td>Recreation</td>\n",
       "      <td>Camper</td>\n",
       "      <td>NaN</td>\n",
       "      <td>0.01</td>\n",
       "      <td>2016/07/25 08:00:00+00</td>\n",
       "      <td>1730</td>\n",
       "      <td>2016/07/25 00:00:00+00</td>\n",
       "      <td>1730.0</td>\n",
       "      <td>2016/07/25 00:00:00+00</td>\n",
       "      <td>1815.0</td>\n",
       "      <td>2016/07/26 00:00:00+00</td>\n",
       "      <td>1530.0</td>\n",
       "      <td>NaN</td>\n",
       "      <td>NaN</td>\n",
       "      <td>NaN</td>\n",
       "      <td>1</td>\n",
       "      <td>Classified</td>\n",
       "      <td>560860</td>\n",
       "      <td>46.943690</td>\n",
       "      <td>-122.942240</td>\n",
       "      <td>WA-SPS-0097</td>\n",
       "      <td>NaN</td>\n",
       "      <td>Private</td>\n",
       "      <td>DNR</td>\n",
       "      <td>DNR Protection FFPA</td>\n",
       "      <td>SO PUGET</td>\n",
       "    </tr>\n",
       "  </tbody>\n",
       "</table>\n",
       "</div>"
      ],
      "text/plain": [
       "              X             Y  OBJECTID  FIREEVENT_ID  INCIDENT_NO  \\\n",
       "0 -1.333567e+07  6.191981e+06         1         49996           26   \n",
       "1 -1.346035e+07  5.765132e+06         2         50035            7   \n",
       "2 -1.364323e+07  5.913875e+06         4          5021           90   \n",
       "3 -1.306397e+07  6.094150e+06         5          7882          104   \n",
       "4 -1.368587e+07  5.932888e+06         6         47157           68   \n",
       "\n",
       "      INCIDENT_NM  INCIDENT_ID COUNTY_LABEL_NM  FIRE_TWP_WHOLE_NO  \\\n",
       "0  LITTLE PEACOCK        49829        OKANOGAN                 35   \n",
       "1    Turkey Ranch        49868       KLICKITAT                  5   \n",
       "2       1050 Fire         5163        THURSTON                 16   \n",
       "3       BEAR LAKE         8024         SPOKANE                 28   \n",
       "4         HWY 101        46930        THURSTON                 17   \n",
       "\n",
       "   FIRE_TWP_FRACT_NO  FIRE_RGE_WHOLE_NO  FIRE_RGE_FRACT_NO FIRE_RGE_DIR_FLG  \\\n",
       "0                  0                 24                  0                E   \n",
       "1                  0                 15                  0                E   \n",
       "2                  0                  2                  0                E   \n",
       "3                  0                 43                  0                E   \n",
       "4                  0                  2                  0                W   \n",
       "\n",
       "   FIRE_SECT_NO  SITE_ELEV FIREGCAUSE_LABEL_NM FIRESCAUSE_LABEL_NM  \\\n",
       "0            26     2927.0          Recreation              Camper   \n",
       "1            22     2000.0         Debris Burn                None   \n",
       "2            33      350.0           Lightning                None   \n",
       "3            15     1800.0           Lightning                None   \n",
       "4            21      170.0          Recreation              Camper   \n",
       "\n",
       "  BURNESCAPE_RSN_LABEL_NM  ACRES_BURNED                START_DT  START_TM  \\\n",
       "0                     NaN          0.01  2017/05/28 08:00:00+00      1800   \n",
       "1              Extinguish          0.25  2017/05/23 08:00:00+00      1715   \n",
       "2                     NaN          9.68  2008/08/17 08:00:00+00       300   \n",
       "3                     NaN          0.10  2009/06/17 08:00:00+00      2015   \n",
       "4                     NaN          0.01  2016/07/25 08:00:00+00      1730   \n",
       "\n",
       "                 DSCVR_DT  DSCVR_TM              CONTROL_DT  CONTROL_TM  \\\n",
       "0  2017/05/29 00:00:00+00    1335.0  2017/05/29 00:00:00+00      1420.0   \n",
       "1  2017/05/23 00:00:00+00    1650.0  2017/05/23 00:00:00+00      1935.0   \n",
       "2  2008/08/17 00:00:00+00     300.0  2008/08/17 00:00:00+00      1210.0   \n",
       "3  2009/06/17 00:00:00+00    2030.0  2009/06/18 00:00:00+00      1221.0   \n",
       "4  2016/07/25 00:00:00+00    1730.0  2016/07/25 00:00:00+00      1815.0   \n",
       "\n",
       "              FIRE_OUT_DT  FIRE_OUT_TM  BURN_MERCH_AREA  BURN_REPROD_AREA  \\\n",
       "0  2017/06/21 00:00:00+00       1328.0              NaN               NaN   \n",
       "1  2017/05/25 00:00:00+00       1300.0              NaN               NaN   \n",
       "2  2008/09/15 00:00:00+00       1500.0              NaN              9.68   \n",
       "3  2009/07/02 00:00:00+00       1234.0              0.1               NaN   \n",
       "4  2016/07/26 00:00:00+00       1530.0              NaN               NaN   \n",
       "\n",
       "   BURN_NONSTOCK_AREA  FIREEVNT_CLASS_CD FIREEVNT_CLASS_LABEL_NM  \\\n",
       "0                 NaN                  1              Classified   \n",
       "1                0.25                  1              Classified   \n",
       "2                 NaN                  1              Classified   \n",
       "3                 NaN                  1              Classified   \n",
       "4                 NaN                  1              Classified   \n",
       "\n",
       "   SECTION_SUBDIV_PTS_ID  LAT_COORD   LON_COORD RES_ORDER_NO  \\\n",
       "0                 662491  48.509150 -119.796370          NaN   \n",
       "1                 372894  45.904947 -120.916377   WA-SES-050   \n",
       "2                 435486  46.826950 -122.559250  WA-PCS-0090   \n",
       "3                 552562  47.923560 -117.355620          NaN   \n",
       "4                 560860  46.943690 -122.942240  WA-SPS-0097   \n",
       "\n",
       "  NON_DNR_RES_ORDER_NO START_OWNER_AGENCY_NM START_JURISDICTION_AGENCY_NM  \\\n",
       "0                  NaN                   DNR                          DNR   \n",
       "1                  NaN               Private                          DNR   \n",
       "2                  NaN               Private                          DNR   \n",
       "3                  NaN      Other Government                          DNR   \n",
       "4                  NaN               Private                          DNR   \n",
       "\n",
       "       PROTECTION_TYPE   REGION_NAME  \n",
       "0  DNR Protection FFPA     NORTHEAST  \n",
       "1  DNR Protection FFPA     SOUTHEAST  \n",
       "2  DNR Protection FFPA  PACIFIC CASC  \n",
       "3  DNR Protection FFPA     NORTHEAST  \n",
       "4  DNR Protection FFPA      SO PUGET  "
      ]
     },
     "execution_count": 3,
     "metadata": {},
     "output_type": "execute_result"
    }
   ],
   "source": [
    "df.head()"
   ]
  },
  {
   "cell_type": "code",
   "execution_count": 4,
   "metadata": {},
   "outputs": [
    {
     "name": "stdout",
     "output_type": "stream",
     "text": [
      "<class 'pandas.core.frame.DataFrame'>\n",
      "RangeIndex: 13379 entries, 0 to 13378\n",
      "Data columns (total 41 columns):\n",
      "X                               13379 non-null float64\n",
      "Y                               13379 non-null float64\n",
      "OBJECTID                        13379 non-null int64\n",
      "FIREEVENT_ID                    13379 non-null int64\n",
      "INCIDENT_NO                     13379 non-null int64\n",
      "INCIDENT_NM                     13379 non-null object\n",
      "INCIDENT_ID                     13379 non-null int64\n",
      "COUNTY_LABEL_NM                 13379 non-null object\n",
      "FIRE_TWP_WHOLE_NO               13379 non-null int64\n",
      "FIRE_TWP_FRACT_NO               13379 non-null int64\n",
      "FIRE_RGE_WHOLE_NO               13379 non-null int64\n",
      "FIRE_RGE_FRACT_NO               13379 non-null int64\n",
      "FIRE_RGE_DIR_FLG                13379 non-null object\n",
      "FIRE_SECT_NO                    13379 non-null int64\n",
      "SITE_ELEV                       12176 non-null float64\n",
      "FIREGCAUSE_LABEL_NM             13379 non-null object\n",
      "FIRESCAUSE_LABEL_NM             13379 non-null object\n",
      "BURNESCAPE_RSN_LABEL_NM         1930 non-null object\n",
      "ACRES_BURNED                    13379 non-null float64\n",
      "START_DT                        13379 non-null object\n",
      "START_TM                        13379 non-null int64\n",
      "DSCVR_DT                        13379 non-null object\n",
      "DSCVR_TM                        9241 non-null float64\n",
      "CONTROL_DT                      13379 non-null object\n",
      "CONTROL_TM                      11215 non-null float64\n",
      "FIRE_OUT_DT                     13379 non-null object\n",
      "FIRE_OUT_TM                     11123 non-null float64\n",
      "BURN_MERCH_AREA                 3785 non-null float64\n",
      "BURN_REPROD_AREA                652 non-null float64\n",
      "BURN_NONSTOCK_AREA              353 non-null float64\n",
      "FIREEVNT_CLASS_CD               13379 non-null int64\n",
      "FIREEVNT_CLASS_LABEL_NM         13379 non-null object\n",
      "SECTION_SUBDIV_PTS_ID           13379 non-null int64\n",
      "LAT_COORD                       13379 non-null float64\n",
      "LON_COORD                       13379 non-null float64\n",
      "RES_ORDER_NO                    8210 non-null object\n",
      "NON_DNR_RES_ORDER_NO            1246 non-null object\n",
      "START_OWNER_AGENCY_NM           12858 non-null object\n",
      "START_JURISDICTION_AGENCY_NM    13014 non-null object\n",
      "PROTECTION_TYPE                 13345 non-null object\n",
      "REGION_NAME                     13379 non-null object\n",
      "dtypes: float64(12), int64(12), object(17)\n",
      "memory usage: 4.2+ MB\n"
     ]
    }
   ],
   "source": [
    "df.info()"
   ]
  },
  {
   "cell_type": "markdown",
   "metadata": {},
   "source": [
    "# Setting aside a new DF:"
   ]
  },
  {
   "cell_type": "markdown",
   "metadata": {},
   "source": [
    "Choosing only the first 10 rows with limited info in order to sort out collecting satellite imagery."
   ]
  },
  {
   "cell_type": "code",
   "execution_count": 5,
   "metadata": {
    "scrolled": true
   },
   "outputs": [
    {
     "data": {
      "text/html": [
       "<div>\n",
       "<style scoped>\n",
       "    .dataframe tbody tr th:only-of-type {\n",
       "        vertical-align: middle;\n",
       "    }\n",
       "\n",
       "    .dataframe tbody tr th {\n",
       "        vertical-align: top;\n",
       "    }\n",
       "\n",
       "    .dataframe thead th {\n",
       "        text-align: right;\n",
       "    }\n",
       "</style>\n",
       "<table border=\"1\" class=\"dataframe\">\n",
       "  <thead>\n",
       "    <tr style=\"text-align: right;\">\n",
       "      <th></th>\n",
       "      <th>name</th>\n",
       "      <th>date</th>\n",
       "      <th>acres</th>\n",
       "      <th>lat</th>\n",
       "      <th>lon</th>\n",
       "      <th>center</th>\n",
       "    </tr>\n",
       "  </thead>\n",
       "  <tbody>\n",
       "    <tr>\n",
       "      <td>0</td>\n",
       "      <td>LITTLE PEACOCK</td>\n",
       "      <td>2017-05-28</td>\n",
       "      <td>0.01</td>\n",
       "      <td>48.50915</td>\n",
       "      <td>-119.79637</td>\n",
       "      <td>48.50915,-119.79637</td>\n",
       "    </tr>\n",
       "    <tr>\n",
       "      <td>1</td>\n",
       "      <td>Turkey Ranch</td>\n",
       "      <td>2017-05-23</td>\n",
       "      <td>0.25</td>\n",
       "      <td>45.904947</td>\n",
       "      <td>-120.916377</td>\n",
       "      <td>45.904947,-120.916377</td>\n",
       "    </tr>\n",
       "    <tr>\n",
       "      <td>2</td>\n",
       "      <td>1050 Fire</td>\n",
       "      <td>2008-08-17</td>\n",
       "      <td>9.68</td>\n",
       "      <td>46.82695</td>\n",
       "      <td>-122.55925</td>\n",
       "      <td>46.82695,-122.55925</td>\n",
       "    </tr>\n",
       "    <tr>\n",
       "      <td>3</td>\n",
       "      <td>BEAR LAKE</td>\n",
       "      <td>2009-06-17</td>\n",
       "      <td>0.10</td>\n",
       "      <td>47.92356</td>\n",
       "      <td>-117.35562</td>\n",
       "      <td>47.92356,-117.35562</td>\n",
       "    </tr>\n",
       "    <tr>\n",
       "      <td>4</td>\n",
       "      <td>HWY 101</td>\n",
       "      <td>2016-07-25</td>\n",
       "      <td>0.01</td>\n",
       "      <td>46.94369</td>\n",
       "      <td>-122.94224</td>\n",
       "      <td>46.94369,-122.94224</td>\n",
       "    </tr>\n",
       "  </tbody>\n",
       "</table>\n",
       "</div>"
      ],
      "text/plain": [
       "             name       date  acres        lat          lon  \\\n",
       "0  LITTLE PEACOCK 2017-05-28   0.01   48.50915   -119.79637   \n",
       "1    Turkey Ranch 2017-05-23   0.25  45.904947  -120.916377   \n",
       "2       1050 Fire 2008-08-17   9.68   46.82695   -122.55925   \n",
       "3       BEAR LAKE 2009-06-17   0.10   47.92356   -117.35562   \n",
       "4         HWY 101 2016-07-25   0.01   46.94369   -122.94224   \n",
       "\n",
       "                  center  \n",
       "0    48.50915,-119.79637  \n",
       "1  45.904947,-120.916377  \n",
       "2    46.82695,-122.55925  \n",
       "3    47.92356,-117.35562  \n",
       "4    46.94369,-122.94224  "
      ]
     },
     "execution_count": 5,
     "metadata": {},
     "output_type": "execute_result"
    }
   ],
   "source": [
    "# Selecting columns\n",
    "df_test = df[['INCIDENT_NM', 'START_DT', 'ACRES_BURNED', 'LAT_COORD', 'LON_COORD']]\n",
    "\n",
    "# Renaming columns\n",
    "df_test.rename(columns={\"INCIDENT_NM\": \"name\",\n",
    "                        \"START_DT\": \"date\",\n",
    "                        \"ACRES_BURNED\": \"acres\", \n",
    "                        \"LAT_COORD\": \"lat\",\n",
    "                        \"LON_COORD\": \"lon\"}, inplace = True)\n",
    "\n",
    "# Formatting the date\n",
    "df_test['date'] = pd.to_datetime(df_test.date)\n",
    "df_test.date = df_test.date.dt.strftime('%m/%d/%Y')\n",
    "df_test['date'] = pd.to_datetime(df_test.date)\n",
    "\n",
    "# Rounding coordinates to 6 places:\n",
    "df_test['lat'] = df_test['lat'].map(lambda x: round(x, 6))\n",
    "df_test['lon'] = df_test['lon'].map(lambda x: round(x, 6))\n",
    "\n",
    "# For center coordinates in the URL\n",
    "df_test['lat'] = df_test['lat'].map(lambda x: str(x))\n",
    "df_test['lon'] = df_test['lon'].map(lambda x: str(x))\n",
    "df_test['center'] = df_test[['lat', 'lon']].agg(','.join, axis=1)\n",
    "\n",
    "# Setting it to only 5 rows\n",
    "#df_test = df_test[:5]\n",
    "# Showing the dataframe\n",
    "df_test.head()"
   ]
  },
  {
   "cell_type": "markdown",
   "metadata": {},
   "source": [
    "Next steps:\n",
    "- Use Google Static Maps API to get the satellite data\n",
    "- link [here](https://stackoverflow.com/questions/9087166/how-can-i-extract-a-satellite-image-from-google-maps-given-a-lat-long-rectangle)"
   ]
  },
  {
   "cell_type": "markdown",
   "metadata": {},
   "source": [
    "## Collecting API Key:"
   ]
  },
  {
   "cell_type": "code",
   "execution_count": 6,
   "metadata": {},
   "outputs": [],
   "source": [
    "# top secret ;) \n",
    "\n",
    "key = open('/Users/Thomas/Desktop/capstone/google_api/gmap_api_key.txt', 'r').read()"
   ]
  },
  {
   "cell_type": "markdown",
   "metadata": {},
   "source": [
    "# URL Request Crafting:"
   ]
  },
  {
   "cell_type": "markdown",
   "metadata": {},
   "source": [
    "## Setting Parameters:"
   ]
  },
  {
   "cell_type": "code",
   "execution_count": 7,
   "metadata": {},
   "outputs": [],
   "source": [
    "img_size = '350x350' # Let's try this for now.  Gets multiplied by scale for resolution\n",
    "# 350x350 seems to be about the minimum for image resolution\n",
    "# ~100kb each, 20k images, 2 gigs for the batch, wf and nwf\n",
    "\n",
    "img_format = 'jpg' # For compressability (is that a word?) png is 'png8' for 8 bit and 'png32' for 32 bit\n",
    "\n",
    "map_scale = '1' # For scale parameter. \n",
    "\n",
    "maptype = 'satellite' # Obvious reason\n",
    "\n",
    "zoom = '15' # try that to start"
   ]
  },
  {
   "cell_type": "markdown",
   "metadata": {},
   "source": [
    "## URL:"
   ]
  },
  {
   "cell_type": "code",
   "execution_count": 8,
   "metadata": {},
   "outputs": [],
   "source": [
    "# Chopping the URL into manageable pieces \n",
    "\n",
    "a = 'https://maps.googleapis.com/maps/api/staticmap?' # Base\n",
    "b = 'center=' # Center \n",
    "# Enter Center\n",
    "c = '&zoom=' # Zoom\n",
    "# Enter Zoom\n",
    "d = '&maptype=satellite' # Map type \n",
    "# No need to enter maptype - just keep satellite default\n",
    "e = '&size=' # Image Size\n",
    "# Enter image size\n",
    "f = '&key='\n",
    "# Enter key\n",
    "\n",
    "# Creating the URL:\n",
    "url1 = a + b\n",
    "url2 = c + zoom + d + e + img_size + f + key\n",
    "# URL = url1 + row['center'] + url2"
   ]
  },
  {
   "cell_type": "markdown",
   "metadata": {},
   "source": [
    "## Collecting Test WF Images:"
   ]
  },
  {
   "cell_type": "code",
   "execution_count": 9,
   "metadata": {
    "scrolled": false
   },
   "outputs": [
    {
     "data": {
      "text/plain": [
       "\"\\nfor index, row in df_test.iterrows():\\n    url = url1 + row['center'] + url2\\n    r = requests.get(url)\\n    display(Image(r.content))\\n\""
      ]
     },
     "execution_count": 9,
     "metadata": {},
     "output_type": "execute_result"
    }
   ],
   "source": [
    "# Unecessary to keep showing images for now. . . \n",
    "\n",
    "for index, row in df_test.iterrows():\n",
    "    url = url1 + row['center'] + url2\n",
    "    r = requests.get(url)\n",
    "    display(Image(r.content))"
   ]
  },
  {
   "cell_type": "markdown",
   "metadata": {},
   "source": [
    "## Looping and Downloading:"
   ]
  },
  {
   "cell_type": "code",
   "execution_count": 10,
   "metadata": {
    "scrolled": false
   },
   "outputs": [
    {
     "data": {
      "text/plain": [
       "'\\nfor index, row in df_test.iterrows():\\n    url = url1 + row[\\'center\\'] + url2\\n    urllib.request.urlretrieve(url, \\n                               \"/Users/Thomas/Desktop/capstone/images/wf_imgs/\" \\n                               + row[\\'center\\'] \\n                               + \\'.jpg\\')\\n'"
      ]
     },
     "execution_count": 10,
     "metadata": {},
     "output_type": "execute_result"
    }
   ],
   "source": [
    "# Downloading the wf images to local file\n",
    "\n",
    "for index, row in df_test.iterrows():\n",
    "    url = url1 + row['center'] + url2\n",
    "    urllib.request.urlretrieve(url, \n",
    "                               \"/Users/Thomas/Desktop/capstone/images/wf_imgs/\" \n",
    "                               + row['center'] \n",
    "                               + '.jpg')"
   ]
  },
  {
   "cell_type": "markdown",
   "metadata": {},
   "source": [
    "# Generating Random Lon and Lat Pairs:"
   ]
  },
  {
   "cell_type": "markdown",
   "metadata": {},
   "source": [
    "Generating points for the neural network for 'non wildfire' areas."
   ]
  },
  {
   "cell_type": "code",
   "execution_count": 11,
   "metadata": {},
   "outputs": [
    {
     "name": "stdout",
     "output_type": "stream",
     "text": [
      "Latitude Range:  45.557811  -  48.999629999999996\n",
      "Longitude Range:  -124.66326000000001  -  -116.94345700000001\n"
     ]
    }
   ],
   "source": [
    "print('Latitude Range: ', min(df.LAT_COORD), ' - ', max(df.LAT_COORD))\n",
    "print('Longitude Range: ', min(df.LON_COORD), ' - ', max(df.LON_COORD))"
   ]
  },
  {
   "cell_type": "markdown",
   "metadata": {},
   "source": [
    "Note:  Changing min longitude to -124.0 due to values less than -124 pushing the satellite too far out into the ocean."
   ]
  },
  {
   "cell_type": "code",
   "execution_count": 12,
   "metadata": {},
   "outputs": [
    {
     "data": {
      "text/html": [
       "<div>\n",
       "<style scoped>\n",
       "    .dataframe tbody tr th:only-of-type {\n",
       "        vertical-align: middle;\n",
       "    }\n",
       "\n",
       "    .dataframe tbody tr th {\n",
       "        vertical-align: top;\n",
       "    }\n",
       "\n",
       "    .dataframe thead th {\n",
       "        text-align: right;\n",
       "    }\n",
       "</style>\n",
       "<table border=\"1\" class=\"dataframe\">\n",
       "  <thead>\n",
       "    <tr style=\"text-align: right;\">\n",
       "      <th></th>\n",
       "      <th>lat</th>\n",
       "      <th>lon</th>\n",
       "      <th>center</th>\n",
       "    </tr>\n",
       "  </thead>\n",
       "  <tbody>\n",
       "    <tr>\n",
       "      <td>0</td>\n",
       "      <td>48.390571</td>\n",
       "      <td>-122.046509</td>\n",
       "      <td>48.390571,-122.046509</td>\n",
       "    </tr>\n",
       "    <tr>\n",
       "      <td>1</td>\n",
       "      <td>47.755541</td>\n",
       "      <td>-118.816292</td>\n",
       "      <td>47.755541,-118.816292</td>\n",
       "    </tr>\n",
       "    <tr>\n",
       "      <td>2</td>\n",
       "      <td>48.738237</td>\n",
       "      <td>-117.654688</td>\n",
       "      <td>48.738237,-117.654688</td>\n",
       "    </tr>\n",
       "    <tr>\n",
       "      <td>3</td>\n",
       "      <td>45.587224</td>\n",
       "      <td>-122.794764</td>\n",
       "      <td>45.587224,-122.794764</td>\n",
       "    </tr>\n",
       "    <tr>\n",
       "      <td>4</td>\n",
       "      <td>48.930474</td>\n",
       "      <td>-119.113149</td>\n",
       "      <td>48.930474,-119.113149</td>\n",
       "    </tr>\n",
       "  </tbody>\n",
       "</table>\n",
       "</div>"
      ],
      "text/plain": [
       "         lat          lon                 center\n",
       "0  48.390571  -122.046509  48.390571,-122.046509\n",
       "1  47.755541  -118.816292  47.755541,-118.816292\n",
       "2  48.738237  -117.654688  48.738237,-117.654688\n",
       "3  45.587224  -122.794764  45.587224,-122.794764\n",
       "4  48.930474  -119.113149  48.930474,-119.113149"
      ]
     },
     "execution_count": 12,
     "metadata": {},
     "output_type": "execute_result"
    }
   ],
   "source": [
    "nwf_size = 10_000 # 10 thousand ought to be enough\n",
    "\n",
    "new_lats = np.random.uniform(low = min(df.LAT_COORD), \n",
    "                             high = max(df.LAT_COORD), \n",
    "                             size = (nwf_size,))\n",
    "\n",
    "new_lons = np.random.uniform(low = -124, \n",
    "                             high = max(df.LON_COORD), \n",
    "                             size = (nwf_size,))\n",
    "\n",
    "d = {'lat':new_lats, 'lon': new_lons}\n",
    "df_nwf = pd.DataFrame(data=d)\n",
    "\n",
    "df_nwf['lat'] = df_nwf['lat'].map(lambda x: round(x, 6))\n",
    "df_nwf['lon'] = df_nwf['lon'].map(lambda x: round(x, 6))\n",
    "\n",
    "# For center coordinates in the URL\n",
    "df_nwf['lat'] = df_nwf['lat'].map(lambda x: str(x))\n",
    "df_nwf['lon'] = df_nwf['lon'].map(lambda x: str(x))\n",
    "df_nwf['center'] = df_nwf[['lat', 'lon']].agg(','.join, axis=1)\n",
    "\n",
    "df_nwf.head() #No Wild Fire"
   ]
  },
  {
   "cell_type": "markdown",
   "metadata": {},
   "source": [
    "## Collecting Test NWF Images:"
   ]
  },
  {
   "cell_type": "code",
   "execution_count": 13,
   "metadata": {
    "scrolled": false
   },
   "outputs": [
    {
     "data": {
      "text/plain": [
       "\"\\nfor index, row in df_nwf.iterrows():\\n    url = url1 + row['center'] + url2\\n    r = requests.get(url)\\n    display(Image(r.content))\\n\""
      ]
     },
     "execution_count": 13,
     "metadata": {},
     "output_type": "execute_result"
    }
   ],
   "source": [
    "# Unecessary to keep showing images for now. . . \n",
    "\n",
    "for index, row in df_nwf.iterrows():\n",
    "    url = url1 + row['center'] + url2\n",
    "    r = requests.get(url)\n",
    "    display(Image(r.content))\n"
   ]
  },
  {
   "cell_type": "code",
   "execution_count": 14,
   "metadata": {},
   "outputs": [
    {
     "data": {
      "text/plain": [
       "'\\nfor index, row in df_nwf.iterrows():\\n    url = url1 + row[\\'center\\'] + url2\\n    urllib.request.urlretrieve(url, \\n                               \"/Users/Thomas/Desktop/capstone/images/nwf_imgs/\" \\n                               + row[\\'center\\'] \\n'"
      ]
     },
     "execution_count": 14,
     "metadata": {},
     "output_type": "execute_result"
    }
   ],
   "source": [
    "# Downloading the nwf images to local file\n",
    "\n",
    "for index, row in df_nwf.iterrows():\n",
    "    url = url1 + row['center'] + url2\n",
    "    urllib.request.urlretrieve(url, \n",
    "                               \"/Users/Thomas/Desktop/capstone/images/nwf_imgs/\" \n",
    "                               + row['center'] \n"
   ]
  },
  {
   "cell_type": "markdown",
   "metadata": {},
   "source": [
    "# Conclusion:"
   ]
  },
  {
   "cell_type": "markdown",
   "metadata": {},
   "source": [
    "I now have ~22k images to use for my neural network. Now I'm ready to build and train the model! <br><br>\n",
    "__Wildfire Images:__\n",
    "- 12,133 (duplicates filtered out)<br>\n",
    "\n",
    "__Non-Wildfire Images:__\n",
    "- 10,019"
   ]
  },
  {
   "cell_type": "markdown",
   "metadata": {},
   "source": [
    "__Image examples:__<br>\n",
    "__Areas with wildfires:__\n",
    "![text](example_images/wf1.jpg)\n",
    "![text](example_images/wf2.jpg)\n",
    "![text](example_images/wf3.jpg)"
   ]
  },
  {
   "cell_type": "markdown",
   "metadata": {},
   "source": [
    "__Areas without wildfires:__\n",
    "![text](example_images/nwf1.jpg)\n",
    "![text](example_images/nwf2.jpg)\n",
    "![text](example_images/nwf3.jpg)"
   ]
  }
 ],
 "metadata": {
  "kernelspec": {
   "display_name": "Python 3",
   "language": "python",
   "name": "python3"
  },
  "language_info": {
   "codemirror_mode": {
    "name": "ipython",
    "version": 3
   },
   "file_extension": ".py",
   "mimetype": "text/x-python",
   "name": "python",
   "nbconvert_exporter": "python",
   "pygments_lexer": "ipython3",
   "version": "3.8.3"
  },
  "toc": {
   "base_numbering": 1,
   "nav_menu": {},
   "number_sections": true,
   "sideBar": true,
   "skip_h1_title": false,
   "title_cell": "Table of Contents",
   "title_sidebar": "Contents",
   "toc_cell": false,
   "toc_position": {},
   "toc_section_display": true,
   "toc_window_display": true
  }
 },
 "nbformat": 4,
 "nbformat_minor": 2
}
